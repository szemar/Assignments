{
 "cells": [
  {
   "cell_type": "markdown",
   "metadata": {
    "deletable": false,
    "editable": false,
    "nbgrader": {
     "checksum": "26c8529e3b2e59be78d4aa19804373fc",
     "grade": false,
     "grade_id": "title",
     "locked": true,
     "schema_version": 1,
     "solution": false
    }
   },
   "source": [
    "# COGS 108 - Assignment 3: Data Privacy"
   ]
  },
  {
   "cell_type": "markdown",
   "metadata": {
    "deletable": false,
    "editable": false,
    "nbgrader": {
     "checksum": "19a89ebe76d5deeaebb3d494a20c2240",
     "grade": false,
     "grade_id": "important",
     "locked": true,
     "schema_version": 1,
     "solution": false
    }
   },
   "source": [
    "## Important Reminders\n",
    "\n",
    "- Rename this file to 'A3_$####.ipynb', replacing with your unique ID (first letter of your last name, followed by the last 4 digits of your student ID number), before you submit it. Submit it to TritonED.\n",
    "- Do not change / update / delete any existing cells with 'assert' in them. These are the tests used to check your assignment. \n",
    "    - Changing these will be flagged for attempted cheating. \n",
    "- This assignment has hidden tests: tests that are not visible here, but that will be run on your submitted file. \n",
    "    - This means passing all the tests you can see in the notebook here does not guarantee you have the right answer!"
   ]
  },
  {
   "cell_type": "markdown",
   "metadata": {
    "deletable": false,
    "editable": false,
    "nbgrader": {
     "checksum": "3e5ebfca3f2f8e75fb4d54102698bd77",
     "grade": false,
     "grade_id": "overview",
     "locked": true,
     "schema_version": 1,
     "solution": false
    }
   },
   "source": [
    "## Overview\n",
    "\n",
    "We have discussed in lecture the importance and the mechanics of protecting individuals privacy when they are included in datasets. \n",
    "\n",
    "One method to do so is the Safe Harbor Method. The Safe Harbour method specifies how to protect individual's identities by telling us which tells us which information to remove from a dataset in order to avoid accidently disclosing personal information. \n",
    "\n",
    "In this assignment, we will explore web scraping, which can often include personally identifiable information, how identity can be decoded from badly anonymized datasets, and also explore using Safe Harbour to anonymize datasets properly. \n",
    "\n",
    "The topics covered in this assignment are mainly covered in the 'DataGathering' and 'DataPrivacy&Anonymization' Tutorial notebooks."
   ]
  },
  {
   "cell_type": "markdown",
   "metadata": {
    "deletable": false,
    "editable": false,
    "nbgrader": {
     "checksum": "ea20266c9be42b2fbdf472d6db1024dd",
     "grade": false,
     "grade_id": "cell-b169d37fcae03fbc",
     "locked": true,
     "schema_version": 1,
     "solution": false
    }
   },
   "source": [
    "### Installing new packages\n",
    "\n",
    "In the first part of the assignment we will understand how we can scrape the web for data. You have to use the Beautiful Soup library in Python for scraping the data. \n",
    "\n",
    "The library is not installed in Anaconda version, therefore to install a new library for Anaconda, we can use the conda package manager, which the cell below does for you. "
   ]
  },
  {
   "cell_type": "code",
   "execution_count": 1,
   "metadata": {
    "deletable": false,
    "editable": false,
    "nbgrader": {
     "checksum": "dad55181dff84344120ab766c5b62d89",
     "grade": false,
     "grade_id": "cell-8a8f3952c7e67d7f",
     "locked": true,
     "schema_version": 1,
     "solution": false
    }
   },
   "outputs": [
    {
     "name": "stdout",
     "output_type": "stream",
     "text": [
      "Solving environment: done\n",
      "\n",
      "\n",
      "==> WARNING: A newer version of conda exists. <==\n",
      "  current version: 4.4.8\n",
      "  latest version: 4.4.10\n",
      "\n",
      "Please update conda by running\n",
      "\n",
      "    $ conda update -n base conda\n",
      "\n",
      "\n",
      "\n",
      "# All requested packages already installed.\n",
      "\n"
     ]
    }
   ],
   "source": [
    "# Run this cell to install beautifulsoup4\n",
    "#  You only need to do the installation once\n",
    "#    Once you have run it you can comment these two lines so that the cell doesn't execute everytime.\n",
    "import sys\n",
    "!conda install --yes --prefix {sys.prefix} beautifulsoup4"
   ]
  },
  {
   "cell_type": "markdown",
   "metadata": {
    "deletable": false,
    "editable": false,
    "nbgrader": {
     "checksum": "1e2ed7d7ab9a2d36798e407ed93e7e11",
     "grade": false,
     "grade_id": "imports",
     "locked": true,
     "schema_version": 1,
     "solution": false
    }
   },
   "source": [
    "### Imports"
   ]
  },
  {
   "cell_type": "code",
   "execution_count": 2,
   "metadata": {
    "collapsed": true,
    "deletable": false,
    "editable": false,
    "nbgrader": {
     "checksum": "1d7cc48ec36a10ee8ce4301f4ad8068e",
     "grade": false,
     "grade_id": "import-code",
     "locked": true,
     "schema_version": 1,
     "solution": false
    }
   },
   "outputs": [],
   "source": [
    "# Imports - these provided for you. Do not import any other packages\n",
    "import pandas as pd\n",
    "import requests\n",
    "import bs4\n",
    "from bs4 import BeautifulSoup"
   ]
  },
  {
   "cell_type": "markdown",
   "metadata": {
    "deletable": false,
    "editable": false,
    "nbgrader": {
     "checksum": "2258dd8460e82dd9ba05790b392c2170",
     "grade": false,
     "grade_id": "cell-25153cbdcaad4068",
     "locked": true,
     "schema_version": 1,
     "solution": false
    }
   },
   "source": [
    "## Part 1: Web Scraping "
   ]
  },
  {
   "cell_type": "markdown",
   "metadata": {
    "deletable": false,
    "editable": false,
    "nbgrader": {
     "checksum": "1879df607edbde1394ed6b304ba0a2c7",
     "grade": false,
     "grade_id": "cell-76ae256b5f7132b6",
     "locked": true,
     "schema_version": 1,
     "solution": false
    }
   },
   "source": [
    "### Scraping Rules\n",
    "\n",
    "1) If you are using another organizations website for scraping, make sure to check the website's terms & conditions. \n",
    "\n",
    "2) Do not request data from the website too aggressively (quickly) with your program (also known as spamming), as this may break the website. Make sure your program behaves in a reasonable manner (i.e. acts like a human). One request for one webpage per second is good practice.\n",
    "\n",
    "3) The layout of a website may change from time to time. Because of this, if you're scraping website, make sure to revisit the site and rewrite your code as needed."
   ]
  },
  {
   "cell_type": "code",
   "execution_count": 3,
   "metadata": {
    "collapsed": true,
    "deletable": false,
    "editable": false,
    "nbgrader": {
     "checksum": "4176af1f7152bcb4deff540099f3cfd9",
     "grade": false,
     "grade_id": "cell-f5423577b9902c1c",
     "locked": true,
     "schema_version": 1,
     "solution": false
    }
   },
   "outputs": [],
   "source": [
    "# This cell will help you understand the permission issues related to accessing a page\n",
    "# Uncomment the two lines, run them, see what error you get, comment them again\n",
    "\n",
    "#page_source = requests.get('http://www.aflcio.org/Legislation-and-Politics/Legislative-Alerts')\n",
    "#page_soup = BeautifulSoup(page_source.content, 'html.parser')"
   ]
  },
  {
   "cell_type": "code",
   "execution_count": 4,
   "metadata": {
    "collapsed": true
   },
   "outputs": [],
   "source": [
    "page_source = requests.get('http://www.aflcio.org/Legislation-and-Politics/Legislative-Alerts')\n",
    "page_soup = BeautifulSoup(page_source.content, 'html.parser')"
   ]
  },
  {
   "cell_type": "markdown",
   "metadata": {
    "deletable": false,
    "editable": false,
    "nbgrader": {
     "checksum": "d4fed909c257ed14ed7cf6306ee015f2",
     "grade": false,
     "grade_id": "cell-164e625a3cd53f8d",
     "locked": true,
     "schema_version": 1,
     "solution": false
    }
   },
   "source": [
    "#### What is the error that you got, and why did you get it?"
   ]
  },
  {
   "cell_type": "markdown",
   "metadata": {
    "deletable": false,
    "nbgrader": {
     "checksum": "d7239e9d93ef503e59cabbee1d3e5481",
     "grade": true,
     "grade_id": "cell-ac79813190d0715c",
     "locked": false,
     "points": 0,
     "schema_version": 1,
     "solution": true
    }
   },
   "source": [
    "YOUR ANSWER HERE "
   ]
  },
  {
   "cell_type": "code",
   "execution_count": 5,
   "metadata": {
    "deletable": false,
    "nbgrader": {
     "checksum": "a30f65a5cf189bcbb356196ea240d9a5",
     "grade": false,
     "grade_id": "cell-889693bf71daf7c8",
     "locked": false,
     "schema_version": 1,
     "solution": true
    }
   },
   "outputs": [],
   "source": [
    "# 1a) Web Scrape\n",
    "# We will first retrieve the contents on a page and examine them a bit.\n",
    "\n",
    "# Make a variable called 'wiki', that stores the following URL (as a string):\n",
    "#  'https://en.wikipedia.org/wiki/List_of_U.S._states_and_territories_by_population'\n",
    "# To open the URL you can use 'requests.get' as shown in the cell above. Call this variable 'page'\n",
    "# After that use BeautifulSoup Library to open the URL and assign it to an object called 'soup'\n",
    "\n",
    "# YOUR CODE HERE\n",
    "wiki = 'https://en.wikipedia.org/wiki/List_of_U.S._states_and_territories_by_population'\n",
    "page = requests.get(wiki)\n",
    "soup = BeautifulSoup(page.content, 'html.parser')"
   ]
  },
  {
   "cell_type": "code",
   "execution_count": 6,
   "metadata": {
    "collapsed": true,
    "deletable": false,
    "editable": false,
    "nbgrader": {
     "checksum": "88991ab92634826735078f6cba9eb0f1",
     "grade": true,
     "grade_id": "cell-52fad88c14b5f276",
     "locked": true,
     "points": 0.5,
     "schema_version": 1,
     "solution": false
    }
   },
   "outputs": [],
   "source": [
    "assert wiki\n",
    "assert page\n",
    "assert soup\n"
   ]
  },
  {
   "cell_type": "code",
   "execution_count": 7,
   "metadata": {
    "deletable": false,
    "nbgrader": {
     "checksum": "3625afdb3bb344958bba5e5266366ece",
     "grade": false,
     "grade_id": "cell-4d0a0b26ed667fe0",
     "locked": false,
     "schema_version": 1,
     "solution": true
    }
   },
   "outputs": [
    {
     "name": "stdout",
     "output_type": "stream",
     "text": [
      "List of U.S. states and territories by population - Wikipedia\n"
     ]
    }
   ],
   "source": [
    "# 1b) Checking Scrape Contents\n",
    "   \n",
    "# Extract the title from the page and save it in a variable called 'title_page'. \n",
    "#  Make sure you extract it as a string.\n",
    "# To do so, you have to use the soup object created in the above cell. \n",
    "#  Hint: from your soup variable, you can access this with '.title.string'\n",
    "# Make sure you print out and check the contents of 'title_page'. \n",
    "#  Note that it should not have any tags (such as '<title>' included in it).\n",
    "\n",
    "# YOUR CODE HERE\n",
    "title_page = soup.title.string\n",
    "print(title_page)\n"
   ]
  },
  {
   "cell_type": "code",
   "execution_count": 8,
   "metadata": {
    "collapsed": true,
    "deletable": false,
    "editable": false,
    "nbgrader": {
     "checksum": "0ccf61e856e952c8a889f6c03f334321",
     "grade": true,
     "grade_id": "cell-25e2c00e1488f142",
     "locked": true,
     "points": 0.5,
     "schema_version": 1,
     "solution": false
    }
   },
   "outputs": [],
   "source": [
    "assert title_page\n",
    "assert isinstance(title_page, str)\n"
   ]
  },
  {
   "cell_type": "code",
   "execution_count": 9,
   "metadata": {
    "deletable": false,
    "nbgrader": {
     "checksum": "915ab52cbc25de35a1bd5b74bdb1ec95",
     "grade": false,
     "grade_id": "cell-8da7172c1da665fe",
     "locked": false,
     "schema_version": 1,
     "solution": true
    }
   },
   "outputs": [
    {
     "name": "stdout",
     "output_type": "stream",
     "text": [
      "<table class=\"wikitable sortable\" style=\"width:100%; text-align:center;\">\n",
      "<tr style=\"vertical-align: top;\">\n",
      "<th style=\"vertical-align: middle\">Rank in the <a href=\"/wiki/List_of_states_and_territories_of_the_United_States#States\" title=\"List of states and territories of the United States\">fifty states</a>, 2017</th>\n",
      "<th style=\"vertical-align: middle\">Rank in all states &amp; territories, 2010</th>\n",
      "<th style=\"width: 20%; vertical-align: middle\"><b>State or territory</b></th>\n",
      "<th style=\"width: 20%; vertical-align: middle\"><b>Equivalent country</b></th>\n",
      "<th style=\"vertical-align: middle\">Population estimate, July 1, 2017<sup class=\"reference\" id=\"cite_ref-4\"><a href=\"#cite_note-4\">[4]</a></sup></th>\n",
      "<th style=\"vertical-align: middle\">Census population, April 1, 2010</th>\n",
      "<th style=\"vertical-align: middle\">Total seats in House of Representatives, 2013–2023</th>\n",
      "<th style=\"vertical-align: middle\">Estimated pop. per House seat, 2017</th>\n",
      "<th style=\"vertical-align: middle\">Census pop. per House seat, 2010</th>\n",
      "<th style=\"vertical-align: middle\">Percent of total U.S. pop., 2016<sup class=\"reference\" id=\"cite_ref-5\"><a href=\"#cite_note-5\">[note 1]</a></sup></th>\n",
      "</tr>\n",
      "<tr>\n",
      "<td align=\"center\"><span class=\"sortkey\" style=\"display:none\">7000100000000000000♠</span>1</td>\n",
      "<td align=\"center\"><span class=\"sortkey\" style=\"display:none\">7000100000000000000♠</span>1</td>\n",
      "<td style=\"text-align: left;\"><span class=\"flagicon\"><img alt=\"\" class=\"thumbborder\" data-file-height=\"600\" data-file-width=\"900\" height=\"15\" src=\"//upload.wikimedia.org/wikipedia/commons/thumb/0/01/Flag_of_California.svg/23px-Flag_of_California.svg.png\" srcset=\"//upload.wikimedia.org/wikipedia/commons/thumb/0/01/Flag_of_California.svg/35px-Flag_of_California.svg.png 1.5x, //upload.wikimedia.org/wikipedia/commons/thumb/0/01/Flag_of_California.svg/45px-Flag_of_California.svg.png 2x\" width=\"23\"/> </span><a href=\"/wiki/California\" title=\"California\">California</a></td>\n",
      "<td><span class=\"flagicon\"><img alt=\"\" class=\"thumbborder\" data-file-height=\"800\" data-file-width=\"1280\" height=\"14\" src=\"//upload.wikimedia.org/wikipedia/en/thumb/1/12/Flag_of_Poland.svg/23px-Flag_of_Poland.svg.png\" srcset=\"//upload.wikimedia.org/wikipedia/en/thumb/1/12/Flag_of_Poland.svg/35px-Flag_of_Poland.svg.png 1.5x, //upload.wikimedia.org/wikipedia/en/thumb/1/12/Flag_of_Poland.svg/46px-Flag_of_Poland.svg.png 2x\" width=\"23\"/> </span><a href=\"/wiki/Poland\" title=\"Poland\">Poland</a></td>\n",
      "<td>39,536,653</td>\n",
      "<td>37,252,895</td>\n",
      "<td align=\"center\"><span class=\"sortkey\" style=\"display:none\">7001530000000000000♠</span>53</td>\n",
      "<td>745,974</td>\n",
      "<td>702,885</td>\n",
      "<td>12.14%</td>\n",
      "</tr>\n",
      "<tr>\n",
      "<td align=\"center\"><span class=\"sortkey\" style=\"display:none\">7000200000000000000♠</span>2</td>\n",
      "<td align=\"center\"><span class=\"sortkey\" style=\"display:none\">7000200000000000000♠</span>2</td>\n",
      "<td style=\"text-align: left;\"><span class=\"flagicon\"><img alt=\"\" class=\"thumbborder\" data-file-height=\"720\" data-file-width=\"1080\" height=\"15\" src=\"//upload.wikimedia.org/wikipedia/commons/thumb/f/f7/Flag_of_Texas.svg/23px-Flag_of_Texas.svg.png\" srcset=\"//upload.wikimedia.org/wikipedia/commons/thumb/f/f7/Flag_of_Texas.svg/35px-Flag_of_Texas.svg.png 1.5x, //upload.wikimedia.org/wikipedia/commons/thumb/f/f7/Flag_of_Texas.svg/45px-Flag_of_Texas.svg.png 2x\" width=\"23\"/> </span><a href=\"/wiki/Texas\" title=\"Texas\">Texas</a></td>\n",
      "<td><span class=\"flagicon\"><img alt=\"\" class=\"thumbborder\" data-file-height=\"300\" data-file-width=\"450\" height=\"15\" src=\"//upload.wikimedia.org/wikipedia/commons/thumb/1/19/Flag_of_Ghana.svg/23px-Flag_of_Ghana.svg.png\" srcset=\"//upload.wikimedia.org/wikipedia/commons/thumb/1/19/Flag_of_Ghana.svg/35px-Flag_of_Ghana.svg.png 1.5x, //upload.wikimedia.org/wikipedia/commons/thumb/1/19/Flag_of_Ghana.svg/45px-Flag_of_Ghana.svg.png 2x\" width=\"23\"/> </span><a href=\"/wiki/Ghana\" title=\"Ghana\">Ghana</a></td>\n",
      "<td>28,304,596</td>\n",
      "<td>25,146,105</td>\n",
      "<td align=\"center\"><span class=\"sortkey\" style=\"display:none\">7001360000000000000♠</span>36</td>\n",
      "<td>786,238</td>\n",
      "<td>698,503</td>\n",
      "<td>8.62%</td>\n",
      "</tr>\n",
      "<tr>\n",
      "<td align=\"center\"><span class=\"sortkey\" style=\"display:none\">7000300000000000000♠</span>3</td>\n",
      "<td align=\"center\"><span class=\"sortkey\" style=\"display:none\">7000400000000000000♠</span>4</td>\n",
      "<td style=\"text-align: left;\"><span class=\"flagicon\"><img alt=\"\" class=\"thumbborder\" data-file-height=\"500\" data-file-width=\"750\" height=\"15\" src=\"//upload.wikimedia.org/wikipedia/commons/thumb/f/f7/Flag_of_Florida.svg/23px-Flag_of_Florida.svg.png\" srcset=\"//upload.wikimedia.org/wikipedia/commons/thumb/f/f7/Flag_of_Florida.svg/35px-Flag_of_Florida.svg.png 1.5x, //upload.wikimedia.org/wikipedia/commons/thumb/f/f7/Flag_of_Florida.svg/45px-Flag_of_Florida.svg.png 2x\" width=\"23\"/> </span><a href=\"/wiki/Florida\" title=\"Florida\">Florida</a></td>\n",
      "<td><span class=\"flagicon\"><img alt=\"\" class=\"thumbborder\" data-file-height=\"600\" data-file-width=\"700\" height=\"15\" src=\"//upload.wikimedia.org/wikipedia/commons/thumb/f/f4/Flag_of_Niger.svg/18px-Flag_of_Niger.svg.png\" srcset=\"//upload.wikimedia.org/wikipedia/commons/thumb/f/f4/Flag_of_Niger.svg/27px-Flag_of_Niger.svg.png 1.5x, //upload.wikimedia.org/wikipedia/commons/thumb/f/f4/Flag_of_Niger.svg/35px-Flag_of_Niger.svg.png 2x\" width=\"18\"/> </span><a href=\"/wiki/Niger\" title=\"Niger\">Niger</a></td>\n",
      "<td>20,984,400</td>\n",
      "<td>18,804,623</td>\n",
      "<td align=\"center\"><span class=\"sortkey\" style=\"display:none\">7001270000000000000♠</span>27</td>\n",
      "<td>777,200</td>\n",
      "<td>696,468</td>\n",
      "<td>6.38%</td>\n",
      "</tr>\n",
      "<tr>\n",
      "<td align=\"center\"><span class=\"sortkey\" style=\"display:none\">7000400000000000000♠</span>4</td>\n",
      "<td align=\"center\"><span class=\"sortkey\" style=\"display:none\">7000300000000000000♠</span>3</td>\n",
      "<td style=\"text-align: left;\"><span class=\"flagicon\"><img alt=\"\" class=\"thumbborder\" data-file-height=\"450\" data-file-width=\"900\" height=\"12\" src=\"//upload.wikimedia.org/wikipedia/commons/thumb/1/1a/Flag_of_New_York.svg/23px-Flag_of_New_York.svg.png\" srcset=\"//upload.wikimedia.org/wikipedia/commons/thumb/1/1a/Flag_of_New_York.svg/35px-Flag_of_New_York.svg.png 1.5x, //upload.wikimedia.org/wikipedia/commons/thumb/1/1a/Flag_of_New_York.svg/46px-Flag_of_New_York.svg.png 2x\" width=\"23\"/> </span><a href=\"/wiki/New_York_(state)\" title=\"New York (state)\">New York</a></td>\n",
      "<td><span class=\"flagicon\"><img alt=\"\" class=\"thumbborder\" data-file-height=\"400\" data-file-width=\"600\" height=\"15\" src=\"//upload.wikimedia.org/wikipedia/commons/thumb/7/73/Flag_of_Romania.svg/23px-Flag_of_Romania.svg.png\" srcset=\"//upload.wikimedia.org/wikipedia/commons/thumb/7/73/Flag_of_Romania.svg/35px-Flag_of_Romania.svg.png 1.5x, //upload.wikimedia.org/wikipedia/commons/thumb/7/73/Flag_of_Romania.svg/45px-Flag_of_Romania.svg.png 2x\" width=\"23\"/> </span><a href=\"/wiki/Romania\" title=\"Romania\">Romania</a></td>\n",
      "<td>19,849,399</td>\n",
      "<td>19,378,087</td>\n",
      "<td align=\"center\"><span class=\"sortkey\" style=\"display:none\">7001270000000000000♠</span>27</td>\n",
      "<td>735,163</td>\n",
      "<td>717,707</td>\n",
      "<td>6.11%</td>\n",
      "</tr>\n",
      "<tr>\n",
      "<td align=\"center\"><span class=\"sortkey\" style=\"display:none\">7000500000000000000♠</span>5</td>\n",
      "<td align=\"center\"><span class=\"sortkey\" style=\"display:none\">7000600000000000000♠</span>6</td>\n",
      "<td style=\"text-align: left;\"><span class=\"flagicon\"><img alt=\"\" class=\"thumbborder\" data-file-height=\"450\" data-file-width=\"675\" height=\"15\" src=\"//upload.wikimedia.org/wikipedia/commons/thumb/f/f7/Flag_of_Pennsylvania.svg/23px-Flag_of_Pennsylvania.svg.png\" srcset=\"//upload.wikimedia.org/wikipedia/commons/thumb/f/f7/Flag_of_Pennsylvania.svg/35px-Flag_of_Pennsylvania.svg.png 1.5x, //upload.wikimedia.org/wikipedia/commons/thumb/f/f7/Flag_of_Pennsylvania.svg/45px-Flag_of_Pennsylvania.svg.png 2x\" width=\"23\"/> </span><a href=\"/wiki/Pennsylvania\" title=\"Pennsylvania\">Pennsylvania</a></td>\n",
      "<td><span class=\"flagicon\"><img alt=\"\" class=\"thumbborder\" data-file-height=\"500\" data-file-width=\"1000\" height=\"12\" src=\"//upload.wikimedia.org/wikipedia/commons/thumb/7/7a/Flag_of_South_Sudan.svg/23px-Flag_of_South_Sudan.svg.png\" srcset=\"//upload.wikimedia.org/wikipedia/commons/thumb/7/7a/Flag_of_South_Sudan.svg/35px-Flag_of_South_Sudan.svg.png 1.5x, //upload.wikimedia.org/wikipedia/commons/thumb/7/7a/Flag_of_South_Sudan.svg/46px-Flag_of_South_Sudan.svg.png 2x\" width=\"23\"/> </span><a href=\"/wiki/South_Sudan\" title=\"South Sudan\">South Sudan</a></td>\n",
      "<td>12,805,537</td>\n",
      "<td>12,702,887</td>\n",
      "<td align=\"center\"><span class=\"sortkey\" style=\"display:none\">7001180000000000000♠</span>18</td>\n",
      "<td>711,419</td>\n",
      "<td>705,715</td>\n",
      "<td>3.96%</td>\n",
      "</tr>\n",
      "<tr>\n",
      "<td align=\"center\"><span class=\"sortkey\" style=\"display:none\">7000600000000000000♠</span>6</td>\n",
      "<td align=\"center\"><span class=\"sortkey\" style=\"display:none\">7000500000000000000♠</span>5</td>\n",
      "<td style=\"text-align: left;\"><span class=\"flagicon\"><img alt=\"\" class=\"thumbborder\" data-file-height=\"600\" data-file-width=\"1000\" height=\"14\" src=\"//upload.wikimedia.org/wikipedia/commons/thumb/0/01/Flag_of_Illinois.svg/23px-Flag_of_Illinois.svg.png\" srcset=\"//upload.wikimedia.org/wikipedia/commons/thumb/0/01/Flag_of_Illinois.svg/35px-Flag_of_Illinois.svg.png 1.5x, //upload.wikimedia.org/wikipedia/commons/thumb/0/01/Flag_of_Illinois.svg/46px-Flag_of_Illinois.svg.png 2x\" width=\"23\"/> </span><a href=\"/wiki/Illinois\" title=\"Illinois\">Illinois</a></td>\n",
      "<td><span class=\"flagicon\"><img alt=\"\" class=\"thumbborder\" data-file-height=\"500\" data-file-width=\"1000\" height=\"12\" src=\"//upload.wikimedia.org/wikipedia/commons/thumb/7/7a/Flag_of_South_Sudan.svg/23px-Flag_of_South_Sudan.svg.png\" srcset=\"//upload.wikimedia.org/wikipedia/commons/thumb/7/7a/Flag_of_South_Sudan.svg/35px-Flag_of_South_Sudan.svg.png 1.5x, //upload.wikimedia.org/wikipedia/commons/thumb/7/7a/Flag_of_South_Sudan.svg/46px-Flag_of_South_Sudan.svg.png 2x\" width=\"23\"/> </span><a href=\"/wiki/South_Sudan\" title=\"South Sudan\">South Sudan</a></td>\n",
      "<td>12,802,023</td>\n",
      "<td>12,831,549</td>\n",
      "<td align=\"center\"><span class=\"sortkey\" style=\"display:none\">7001180000000000000♠</span>18</td>\n",
      "<td>711,224</td>\n",
      "<td>712,864</td>\n",
      "<td>3.96%</td>\n",
      "</tr>\n",
      "<tr>\n",
      "<td align=\"center\"><span class=\"sortkey\" style=\"display:none\">7000700000000000000♠</span>7</td>\n",
      "<td align=\"center\"><span class=\"sortkey\" style=\"display:none\">7000700000000000000♠</span>7</td>\n",
      "<td style=\"text-align: left;\"><span class=\"flagicon\"><img alt=\"\" data-file-height=\"320\" data-file-width=\"520\" height=\"14\" src=\"//upload.wikimedia.org/wikipedia/commons/thumb/4/4c/Flag_of_Ohio.svg/23px-Flag_of_Ohio.svg.png\" srcset=\"//upload.wikimedia.org/wikipedia/commons/thumb/4/4c/Flag_of_Ohio.svg/35px-Flag_of_Ohio.svg.png 1.5x, //upload.wikimedia.org/wikipedia/commons/thumb/4/4c/Flag_of_Ohio.svg/46px-Flag_of_Ohio.svg.png 2x\" width=\"23\"/> </span><a href=\"/wiki/Ohio\" title=\"Ohio\">Ohio</a></td>\n",
      "<td><span class=\"flagicon\"><img alt=\"\" class=\"thumbborder\" data-file-height=\"500\" data-file-width=\"1000\" height=\"12\" src=\"//upload.wikimedia.org/wikipedia/commons/thumb/7/7a/Flag_of_South_Sudan.svg/23px-Flag_of_South_Sudan.svg.png\" srcset=\"//upload.wikimedia.org/wikipedia/commons/thumb/7/7a/Flag_of_South_Sudan.svg/35px-Flag_of_South_Sudan.svg.png 1.5x, //upload.wikimedia.org/wikipedia/commons/thumb/7/7a/Flag_of_South_Sudan.svg/46px-Flag_of_South_Sudan.svg.png 2x\" width=\"23\"/> </span><a href=\"/wiki/South_Sudan\" title=\"South Sudan\">South Sudan</a></td>\n",
      "<td>11,658,609</td>\n",
      "<td>11,536,725</td>\n",
      "<td align=\"center\"><span class=\"sortkey\" style=\"display:none\">7001160000000000000♠</span>16</td>\n",
      "<td>728,663</td>\n",
      "<td>721,032</td>\n",
      "<td>3.59%</td>\n",
      "</tr>\n",
      "<tr>\n",
      "<td align=\"center\"><span class=\"sortkey\" style=\"display:none\">7000800000000000000♠</span>8</td>\n",
      "<td align=\"center\"><span class=\"sortkey\" style=\"display:none\">7000900000000000000♠</span>9</td>\n",
      "<td style=\"text-align: left;\"><span class=\"flagicon\"><img alt=\"\" class=\"thumbborder\" data-file-height=\"1080\" data-file-width=\"1728\" height=\"14\" src=\"//upload.wikimedia.org/wikipedia/commons/thumb/5/54/Flag_of_Georgia_%28U.S._state%29.svg/23px-Flag_of_Georgia_%28U.S._state%29.svg.png\" srcset=\"//upload.wikimedia.org/wikipedia/commons/thumb/5/54/Flag_of_Georgia_%28U.S._state%29.svg/35px-Flag_of_Georgia_%28U.S._state%29.svg.png 1.5x, //upload.wikimedia.org/wikipedia/commons/thumb/5/54/Flag_of_Georgia_%28U.S._state%29.svg/46px-Flag_of_Georgia_%28U.S._state%29.svg.png 2x\" width=\"23\"/> </span><a href=\"/wiki/Georgia_(U.S._state)\" title=\"Georgia (U.S. state)\">Georgia</a></td>\n",
      "<td><span class=\"flagicon\"><img alt=\"\" class=\"thumbborder\" data-file-height=\"300\" data-file-width=\"500\" height=\"14\" src=\"//upload.wikimedia.org/wikipedia/commons/thumb/5/50/Flag_of_Burundi.svg/23px-Flag_of_Burundi.svg.png\" srcset=\"//upload.wikimedia.org/wikipedia/commons/thumb/5/50/Flag_of_Burundi.svg/35px-Flag_of_Burundi.svg.png 1.5x, //upload.wikimedia.org/wikipedia/commons/thumb/5/50/Flag_of_Burundi.svg/46px-Flag_of_Burundi.svg.png 2x\" width=\"23\"/> </span><a href=\"/wiki/Burundi\" title=\"Burundi\">Burundi</a></td>\n",
      "<td>10,429,379</td>\n",
      "<td>9,688,681</td>\n",
      "<td align=\"center\"><span class=\"sortkey\" style=\"display:none\">7001140000000000000♠</span>14</td>\n",
      "<td>744,956</td>\n",
      "<td>691,975</td>\n",
      "<td>3.19%</td>\n",
      "</tr>\n",
      "<tr>\n",
      "<td align=\"center\"><span class=\"sortkey\" style=\"display:none\">7000900000000000000♠</span>9</td>\n",
      "<td align=\"center\"><span class=\"sortkey\" style=\"display:none\">7001100000000000000♠</span>10</td>\n",
      "<td style=\"text-align: left;\"><span class=\"flagicon\"><img alt=\"\" class=\"thumbborder\" data-file-height=\"500\" data-file-width=\"750\" height=\"15\" src=\"//upload.wikimedia.org/wikipedia/commons/thumb/b/bb/Flag_of_North_Carolina.svg/23px-Flag_of_North_Carolina.svg.png\" srcset=\"//upload.wikimedia.org/wikipedia/commons/thumb/b/bb/Flag_of_North_Carolina.svg/35px-Flag_of_North_Carolina.svg.png 1.5x, //upload.wikimedia.org/wikipedia/commons/thumb/b/bb/Flag_of_North_Carolina.svg/45px-Flag_of_North_Carolina.svg.png 2x\" width=\"23\"/> </span><a href=\"/wiki/North_Carolina\" title=\"North Carolina\">North Carolina</a></td>\n",
      "<td><span class=\"flagicon\"><img alt=\"\" class=\"thumbborder\" data-file-height=\"400\" data-file-width=\"600\" height=\"15\" src=\"//upload.wikimedia.org/wikipedia/commons/thumb/5/5c/Flag_of_Portugal.svg/23px-Flag_of_Portugal.svg.png\" srcset=\"//upload.wikimedia.org/wikipedia/commons/thumb/5/5c/Flag_of_Portugal.svg/35px-Flag_of_Portugal.svg.png 1.5x, //upload.wikimedia.org/wikipedia/commons/thumb/5/5c/Flag_of_Portugal.svg/45px-Flag_of_Portugal.svg.png 2x\" width=\"23\"/> </span><a href=\"/wiki/Portugal\" title=\"Portugal\">Portugal</a></td>\n",
      "<td>10,273,419</td>\n",
      "<td>9,535,692</td>\n",
      "<td align=\"center\"><span class=\"sortkey\" style=\"display:none\">7001130000000000000♠</span>13</td>\n",
      "<td>790,263</td>\n",
      "<td>733,498</td>\n",
      "<td>3.14%</td>\n",
      "</tr>\n",
      "<tr>\n",
      "<td align=\"center\"><span class=\"sortkey\" style=\"display:none\">7001100000000000000♠</span>10</td>\n",
      "<td align=\"center\"><span class=\"sortkey\" style=\"display:none\">7000800000000000000♠</span>8</td>\n",
      "<td style=\"text-align: left;\"><span class=\"flagicon\"><img alt=\"\" class=\"thumbborder\" data-file-height=\"457\" data-file-width=\"685\" height=\"15\" src=\"//upload.wikimedia.org/wikipedia/commons/thumb/b/b5/Flag_of_Michigan.svg/23px-Flag_of_Michigan.svg.png\" srcset=\"//upload.wikimedia.org/wikipedia/commons/thumb/b/b5/Flag_of_Michigan.svg/35px-Flag_of_Michigan.svg.png 1.5x, //upload.wikimedia.org/wikipedia/commons/thumb/b/b5/Flag_of_Michigan.svg/45px-Flag_of_Michigan.svg.png 2x\" width=\"23\"/> </span><a href=\"/wiki/Michigan\" title=\"Michigan\">Michigan</a></td>\n",
      "<td><span class=\"flagicon\"><img alt=\"\" class=\"thumbborder\" data-file-height=\"1000\" data-file-width=\"1600\" height=\"14\" src=\"//upload.wikimedia.org/wikipedia/en/thumb/4/4c/Flag_of_Sweden.svg/23px-Flag_of_Sweden.svg.png\" srcset=\"//upload.wikimedia.org/wikipedia/en/thumb/4/4c/Flag_of_Sweden.svg/35px-Flag_of_Sweden.svg.png 1.5x, //upload.wikimedia.org/wikipedia/en/thumb/4/4c/Flag_of_Sweden.svg/46px-Flag_of_Sweden.svg.png 2x\" width=\"23\"/> </span><a href=\"/wiki/Sweden\" title=\"Sweden\">Sweden</a></td>\n",
      "<td>9,962,311</td>\n",
      "<td>9,884,129</td>\n",
      "<td align=\"center\"><span class=\"sortkey\" style=\"display:none\">7001140000000000000♠</span>14</td>\n",
      "<td>711,594</td>\n",
      "<td>705,974</td>\n",
      "<td>3.07%</td>\n",
      "</tr>\n",
      "<tr>\n",
      "<td align=\"center\"><span class=\"sortkey\" style=\"display:none\">7001110000000000000♠</span>11</td>\n",
      "<td align=\"center\"><span class=\"sortkey\" style=\"display:none\">7001110000000000000♠</span>11</td>\n",
      "<td style=\"text-align: left;\"><span class=\"flagicon\"><img alt=\"\" class=\"thumbborder\" data-file-height=\"308\" data-file-width=\"512\" height=\"14\" src=\"//upload.wikimedia.org/wikipedia/commons/thumb/9/92/Flag_of_New_Jersey.svg/23px-Flag_of_New_Jersey.svg.png\" srcset=\"//upload.wikimedia.org/wikipedia/commons/thumb/9/92/Flag_of_New_Jersey.svg/35px-Flag_of_New_Jersey.svg.png 1.5x, //upload.wikimedia.org/wikipedia/commons/thumb/9/92/Flag_of_New_Jersey.svg/46px-Flag_of_New_Jersey.svg.png 2x\" width=\"23\"/> </span><a href=\"/wiki/New_Jersey\" title=\"New Jersey\">New Jersey</a></td>\n",
      "<td><span class=\"flagicon\"><img alt=\"\" class=\"thumbborder\" data-file-height=\"500\" data-file-width=\"1000\" height=\"12\" src=\"//upload.wikimedia.org/wikipedia/commons/thumb/8/82/Flag_of_Honduras.svg/23px-Flag_of_Honduras.svg.png\" srcset=\"//upload.wikimedia.org/wikipedia/commons/thumb/8/82/Flag_of_Honduras.svg/35px-Flag_of_Honduras.svg.png 1.5x, //upload.wikimedia.org/wikipedia/commons/thumb/8/82/Flag_of_Honduras.svg/46px-Flag_of_Honduras.svg.png 2x\" width=\"23\"/> </span><a href=\"/wiki/Honduras\" title=\"Honduras\">Honduras</a></td>\n",
      "<td>9,005,644</td>\n",
      "<td>8,791,936</td>\n",
      "<td align=\"center\"><span class=\"sortkey\" style=\"display:none\">7001120000000000000♠</span>12</td>\n",
      "<td>750,470</td>\n",
      "<td>732,658</td>\n",
      "<td>2.77%</td>\n",
      "</tr>\n",
      "<tr>\n",
      "<td align=\"center\"><span class=\"sortkey\" style=\"display:none\">7001120000000000000♠</span>12</td>\n",
      "<td align=\"center\"><span class=\"sortkey\" style=\"display:none\">7001120000000000000♠</span>12</td>\n",
      "<td style=\"text-align: left;\"><span class=\"flagicon\"><img alt=\"\" class=\"thumbborder\" data-file-height=\"877\" data-file-width=\"1280\" height=\"15\" src=\"//upload.wikimedia.org/wikipedia/commons/thumb/4/47/Flag_of_Virginia.svg/22px-Flag_of_Virginia.svg.png\" srcset=\"//upload.wikimedia.org/wikipedia/commons/thumb/4/47/Flag_of_Virginia.svg/34px-Flag_of_Virginia.svg.png 1.5x, //upload.wikimedia.org/wikipedia/commons/thumb/4/47/Flag_of_Virginia.svg/44px-Flag_of_Virginia.svg.png 2x\" width=\"22\"/> </span><a href=\"/wiki/Virginia\" title=\"Virginia\">Virginia</a></td>\n",
      "<td><span class=\"flagicon\"><img alt=\"\" class=\"thumbborder\" data-file-height=\"1000\" data-file-width=\"1000\" height=\"16\" src=\"//upload.wikimedia.org/wikipedia/commons/thumb/f/f3/Flag_of_Switzerland.svg/16px-Flag_of_Switzerland.svg.png\" srcset=\"//upload.wikimedia.org/wikipedia/commons/thumb/f/f3/Flag_of_Switzerland.svg/24px-Flag_of_Switzerland.svg.png 1.5x, //upload.wikimedia.org/wikipedia/commons/thumb/f/f3/Flag_of_Switzerland.svg/32px-Flag_of_Switzerland.svg.png 2x\" width=\"16\"/>  </span><a href=\"/wiki/Switzerland\" title=\"Switzerland\">Switzerland</a></td>\n",
      "<td>8,470,020</td>\n",
      "<td>8,001,045</td>\n",
      "<td align=\"center\"><span class=\"sortkey\" style=\"display:none\">7001110000000000000♠</span>11</td>\n",
      "<td>770,002</td>\n",
      "<td>727,366</td>\n",
      "<td>2.60%</td>\n",
      "</tr>\n",
      "<tr>\n",
      "<td align=\"center\"><span class=\"sortkey\" style=\"display:none\">7001130000000000000♠</span>13</td>\n",
      "<td align=\"center\"><span class=\"sortkey\" style=\"display:none\">7001130000000000000♠</span>13</td>\n",
      "<td style=\"text-align: left;\"><span class=\"flagicon\"><img alt=\"\" class=\"thumbborder\" data-file-height=\"658\" data-file-width=\"1106\" height=\"14\" src=\"//upload.wikimedia.org/wikipedia/commons/thumb/5/54/Flag_of_Washington.svg/23px-Flag_of_Washington.svg.png\" srcset=\"//upload.wikimedia.org/wikipedia/commons/thumb/5/54/Flag_of_Washington.svg/35px-Flag_of_Washington.svg.png 1.5x, //upload.wikimedia.org/wikipedia/commons/thumb/5/54/Flag_of_Washington.svg/46px-Flag_of_Washington.svg.png 2x\" width=\"23\"/> </span><a href=\"/wiki/Washington_(state)\" title=\"Washington (state)\">Washington</a></td>\n",
      "<td><span class=\"flagicon\"><img alt=\"\" class=\"thumbborder\" data-file-height=\"600\" data-file-width=\"900\" height=\"15\" src=\"//upload.wikimedia.org/wikipedia/commons/thumb/5/5b/Flag_of_Hong_Kong.svg/23px-Flag_of_Hong_Kong.svg.png\" srcset=\"//upload.wikimedia.org/wikipedia/commons/thumb/5/5b/Flag_of_Hong_Kong.svg/35px-Flag_of_Hong_Kong.svg.png 1.5x, //upload.wikimedia.org/wikipedia/commons/thumb/5/5b/Flag_of_Hong_Kong.svg/45px-Flag_of_Hong_Kong.svg.png 2x\" width=\"23\"/> </span><a href=\"/wiki/Hong_Kong\" title=\"Hong Kong\">Hong Kong</a></td>\n",
      "<td>7,405,743</td>\n",
      "<td>6,724,543</td>\n",
      "<td align=\"center\"><span class=\"sortkey\" style=\"display:none\">7001100000000000000♠</span>10</td>\n",
      "<td>740,574</td>\n",
      "<td>672,454</td>\n",
      "<td>2.26%</td>\n",
      "</tr>\n",
      "<tr>\n",
      "<td align=\"center\"><span class=\"sortkey\" style=\"display:none\">7001140000000000000♠</span>14</td>\n",
      "<td align=\"center\"><span class=\"sortkey\" style=\"display:none\">7001160000000000000♠</span>16</td>\n",
      "<td style=\"text-align: left;\"><span class=\"flagicon\"><img alt=\"\" class=\"thumbborder\" data-file-height=\"667\" data-file-width=\"1000\" height=\"15\" src=\"//upload.wikimedia.org/wikipedia/commons/thumb/9/9d/Flag_of_Arizona.svg/23px-Flag_of_Arizona.svg.png\" srcset=\"//upload.wikimedia.org/wikipedia/commons/thumb/9/9d/Flag_of_Arizona.svg/35px-Flag_of_Arizona.svg.png 1.5x, //upload.wikimedia.org/wikipedia/commons/thumb/9/9d/Flag_of_Arizona.svg/45px-Flag_of_Arizona.svg.png 2x\" width=\"23\"/> </span><a href=\"/wiki/Arizona\" title=\"Arizona\">Arizona</a></td>\n",
      "<td><span class=\"flagicon\"><img alt=\"\" class=\"thumbborder\" data-file-height=\"900\" data-file-width=\"1350\" height=\"15\" src=\"//upload.wikimedia.org/wikipedia/commons/thumb/f/ff/Flag_of_Serbia.svg/23px-Flag_of_Serbia.svg.png\" srcset=\"//upload.wikimedia.org/wikipedia/commons/thumb/f/ff/Flag_of_Serbia.svg/35px-Flag_of_Serbia.svg.png 1.5x, //upload.wikimedia.org/wikipedia/commons/thumb/f/ff/Flag_of_Serbia.svg/45px-Flag_of_Serbia.svg.png 2x\" width=\"23\"/> </span><a href=\"/wiki/Serbia\" title=\"Serbia\">Serbia</a></td>\n",
      "<td>7,016,270</td>\n",
      "<td>6,392,307</td>\n",
      "<td align=\"center\"><span class=\"sortkey\" style=\"display:none\">7000900000000000000♠</span>9</td>\n",
      "<td>779,586</td>\n",
      "<td>710,224</td>\n",
      "<td>2.15%</td>\n",
      "</tr>\n",
      "<tr>\n",
      "<td align=\"center\"><span class=\"sortkey\" style=\"display:none\">7001150000000000000♠</span>15</td>\n",
      "<td align=\"center\"><span class=\"sortkey\" style=\"display:none\">7001140000000000000♠</span>14</td>\n",
      "<td style=\"text-align: left;\"><span class=\"flagicon\"><img alt=\"\" class=\"thumbborder\" data-file-height=\"900\" data-file-width=\"1500\" height=\"14\" src=\"//upload.wikimedia.org/wikipedia/commons/thumb/f/f2/Flag_of_Massachusetts.svg/23px-Flag_of_Massachusetts.svg.png\" srcset=\"//upload.wikimedia.org/wikipedia/commons/thumb/f/f2/Flag_of_Massachusetts.svg/35px-Flag_of_Massachusetts.svg.png 1.5x, //upload.wikimedia.org/wikipedia/commons/thumb/f/f2/Flag_of_Massachusetts.svg/46px-Flag_of_Massachusetts.svg.png 2x\" width=\"23\"/> </span><a href=\"/wiki/Massachusetts\" title=\"Massachusetts\">Massachusetts</a></td>\n",
      "<td><span class=\"flagicon\"><img alt=\"\" class=\"thumbborder\" data-file-height=\"330\" data-file-width=\"600\" height=\"13\" src=\"//upload.wikimedia.org/wikipedia/commons/thumb/2/27/Flag_of_Paraguay.svg/23px-Flag_of_Paraguay.svg.png\" srcset=\"//upload.wikimedia.org/wikipedia/commons/thumb/2/27/Flag_of_Paraguay.svg/35px-Flag_of_Paraguay.svg.png 1.5x, //upload.wikimedia.org/wikipedia/commons/thumb/2/27/Flag_of_Paraguay.svg/46px-Flag_of_Paraguay.svg.png 2x\" width=\"23\"/> </span><a href=\"/wiki/Paraguay\" title=\"Paraguay\">Paraguay</a></td>\n",
      "<td>6,859,819</td>\n",
      "<td>6,547,817</td>\n",
      "<td align=\"center\"><span class=\"sortkey\" style=\"display:none\">7000900000000000000♠</span>9</td>\n",
      "<td>762,202</td>\n",
      "<td>727,514</td>\n",
      "<td>2.11%</td>\n",
      "</tr>\n",
      "<tr>\n",
      "<td align=\"center\"><span class=\"sortkey\" style=\"display:none\">7001160000000000000♠</span>16</td>\n",
      "<td align=\"center\"><span class=\"sortkey\" style=\"display:none\">7001170000000000000♠</span>17</td>\n",
      "<td style=\"text-align: left;\"><span class=\"flagicon\"><img alt=\"\" class=\"thumbborder\" data-file-height=\"300\" data-file-width=\"500\" height=\"14\" src=\"//upload.wikimedia.org/wikipedia/commons/thumb/9/9e/Flag_of_Tennessee.svg/23px-Flag_of_Tennessee.svg.png\" srcset=\"//upload.wikimedia.org/wikipedia/commons/thumb/9/9e/Flag_of_Tennessee.svg/35px-Flag_of_Tennessee.svg.png 1.5x, //upload.wikimedia.org/wikipedia/commons/thumb/9/9e/Flag_of_Tennessee.svg/46px-Flag_of_Tennessee.svg.png 2x\" width=\"23\"/> </span><a href=\"/wiki/Tennessee\" title=\"Tennessee\">Tennessee</a></td>\n",
      "<td><span class=\"flagicon\"><img alt=\"\" class=\"thumbborder\" data-file-height=\"600\" data-file-width=\"1064\" height=\"13\" src=\"//upload.wikimedia.org/wikipedia/commons/thumb/3/34/Flag_of_El_Salvador.svg/23px-Flag_of_El_Salvador.svg.png\" srcset=\"//upload.wikimedia.org/wikipedia/commons/thumb/3/34/Flag_of_El_Salvador.svg/35px-Flag_of_El_Salvador.svg.png 1.5x, //upload.wikimedia.org/wikipedia/commons/thumb/3/34/Flag_of_El_Salvador.svg/46px-Flag_of_El_Salvador.svg.png 2x\" width=\"23\"/> </span><a href=\"/wiki/El_Salvador\" title=\"El Salvador\">El Salvador</a></td>\n",
      "<td>6,715,984</td>\n",
      "<td>6,346,275</td>\n",
      "<td align=\"center\"><span class=\"sortkey\" style=\"display:none\">7000900000000000000♠</span>9</td>\n",
      "<td>746,220</td>\n",
      "<td>705,123</td>\n",
      "<td>2.06%</td>\n",
      "</tr>\n",
      "<tr>\n",
      "<td align=\"center\"><span class=\"sortkey\" style=\"display:none\">7001170000000000000♠</span>17</td>\n",
      "<td align=\"center\"><span class=\"sortkey\" style=\"display:none\">7001150000000000000♠</span>15</td>\n",
      "<td style=\"text-align: left;\"><span class=\"flagicon\"><img alt=\"\" class=\"thumbborder\" data-file-height=\"500\" data-file-width=\"750\" height=\"15\" src=\"//upload.wikimedia.org/wikipedia/commons/thumb/a/ac/Flag_of_Indiana.svg/23px-Flag_of_Indiana.svg.png\" srcset=\"//upload.wikimedia.org/wikipedia/commons/thumb/a/ac/Flag_of_Indiana.svg/35px-Flag_of_Indiana.svg.png 1.5x, //upload.wikimedia.org/wikipedia/commons/thumb/a/ac/Flag_of_Indiana.svg/45px-Flag_of_Indiana.svg.png 2x\" width=\"23\"/> </span><a href=\"/wiki/Indiana\" title=\"Indiana\">Indiana</a></td>\n",
      "<td><span class=\"flagicon\"><img alt=\"\" class=\"thumbborder\" data-file-height=\"600\" data-file-width=\"1064\" height=\"13\" src=\"//upload.wikimedia.org/wikipedia/commons/thumb/3/34/Flag_of_El_Salvador.svg/23px-Flag_of_El_Salvador.svg.png\" srcset=\"//upload.wikimedia.org/wikipedia/commons/thumb/3/34/Flag_of_El_Salvador.svg/35px-Flag_of_El_Salvador.svg.png 1.5x, //upload.wikimedia.org/wikipedia/commons/thumb/3/34/Flag_of_El_Salvador.svg/46px-Flag_of_El_Salvador.svg.png 2x\" width=\"23\"/> </span><a href=\"/wiki/El_Salvador\" title=\"El Salvador\">El Salvador</a></td>\n",
      "<td>6,666,818</td>\n",
      "<td>6,484,229</td>\n",
      "<td align=\"center\"><span class=\"sortkey\" style=\"display:none\">7000900000000000000♠</span>9</td>\n",
      "<td>740,758</td>\n",
      "<td>720,422</td>\n",
      "<td>2.05%</td>\n",
      "</tr>\n",
      "<tr>\n",
      "<td align=\"center\"><span class=\"sortkey\" style=\"display:none\">7001180000000000000♠</span>18</td>\n",
      "<td align=\"center\"><span class=\"sortkey\" style=\"display:none\">7001180000000000000♠</span>18</td>\n",
      "<td style=\"text-align: left;\"><span class=\"flagicon\"><img alt=\"\" class=\"thumbborder\" data-file-height=\"1400\" data-file-width=\"2400\" height=\"13\" src=\"//upload.wikimedia.org/wikipedia/commons/thumb/5/5a/Flag_of_Missouri.svg/23px-Flag_of_Missouri.svg.png\" srcset=\"//upload.wikimedia.org/wikipedia/commons/thumb/5/5a/Flag_of_Missouri.svg/35px-Flag_of_Missouri.svg.png 1.5x, //upload.wikimedia.org/wikipedia/commons/thumb/5/5a/Flag_of_Missouri.svg/46px-Flag_of_Missouri.svg.png 2x\" width=\"23\"/> </span><a href=\"/wiki/Missouri\" title=\"Missouri\">Missouri</a></td>\n",
      "<td><span class=\"flagicon\"><img alt=\"\" class=\"thumbborder\" data-file-height=\"500\" data-file-width=\"750\" height=\"15\" src=\"//upload.wikimedia.org/wikipedia/commons/thumb/5/59/Flag_of_Lebanon.svg/23px-Flag_of_Lebanon.svg.png\" srcset=\"//upload.wikimedia.org/wikipedia/commons/thumb/5/59/Flag_of_Lebanon.svg/35px-Flag_of_Lebanon.svg.png 1.5x, //upload.wikimedia.org/wikipedia/commons/thumb/5/59/Flag_of_Lebanon.svg/45px-Flag_of_Lebanon.svg.png 2x\" width=\"23\"/> </span><a href=\"/wiki/Lebanon\" title=\"Lebanon\">Lebanon</a></td>\n",
      "<td>6,113,532</td>\n",
      "<td>5,988,927</td>\n",
      "<td align=\"center\"><span class=\"sortkey\" style=\"display:none\">7000800000000000000♠</span>8</td>\n",
      "<td>764,192</td>\n",
      "<td>748,615</td>\n",
      "<td>1.89%</td>\n",
      "</tr>\n",
      "<tr>\n",
      "<td align=\"center\"><span class=\"sortkey\" style=\"display:none\">7001190000000000000♠</span>19</td>\n",
      "<td align=\"center\"><span class=\"sortkey\" style=\"display:none\">7001190000000000000♠</span>19</td>\n",
      "<td style=\"text-align: left;\"><span class=\"flagicon\"><img alt=\"\" class=\"thumbborder\" data-file-height=\"500\" data-file-width=\"750\" height=\"15\" src=\"//upload.wikimedia.org/wikipedia/commons/thumb/a/a0/Flag_of_Maryland.svg/23px-Flag_of_Maryland.svg.png\" srcset=\"//upload.wikimedia.org/wikipedia/commons/thumb/a/a0/Flag_of_Maryland.svg/35px-Flag_of_Maryland.svg.png 1.5x, //upload.wikimedia.org/wikipedia/commons/thumb/a/a0/Flag_of_Maryland.svg/45px-Flag_of_Maryland.svg.png 2x\" width=\"23\"/> </span><a href=\"/wiki/Maryland\" title=\"Maryland\">Maryland</a></td>\n",
      "<td><span class=\"flagicon\"><img alt=\"\" class=\"thumbborder\" data-file-height=\"500\" data-file-width=\"750\" height=\"15\" src=\"//upload.wikimedia.org/wikipedia/commons/thumb/5/59/Flag_of_Lebanon.svg/23px-Flag_of_Lebanon.svg.png\" srcset=\"//upload.wikimedia.org/wikipedia/commons/thumb/5/59/Flag_of_Lebanon.svg/35px-Flag_of_Lebanon.svg.png 1.5x, //upload.wikimedia.org/wikipedia/commons/thumb/5/59/Flag_of_Lebanon.svg/45px-Flag_of_Lebanon.svg.png 2x\" width=\"23\"/> </span><a href=\"/wiki/Lebanon\" title=\"Lebanon\">Lebanon</a></td>\n",
      "<td>6,052,177</td>\n",
      "<td>5,773,785</td>\n",
      "<td align=\"center\"><span class=\"sortkey\" style=\"display:none\">7000800000000000000♠</span>8</td>\n",
      "<td>756,522</td>\n",
      "<td>721,694</td>\n",
      "<td>1.86%</td>\n",
      "</tr>\n",
      "<tr>\n",
      "<td align=\"center\"><span class=\"sortkey\" style=\"display:none\">7001200000000000000♠</span>20</td>\n",
      "<td align=\"center\"><span class=\"sortkey\" style=\"display:none\">7001200000000000000♠</span>20</td>\n",
      "<td style=\"text-align: left;\"><span class=\"flagicon\"><img alt=\"\" class=\"thumbborder\" data-file-height=\"450\" data-file-width=\"675\" height=\"15\" src=\"//upload.wikimedia.org/wikipedia/commons/thumb/2/22/Flag_of_Wisconsin.svg/23px-Flag_of_Wisconsin.svg.png\" srcset=\"//upload.wikimedia.org/wikipedia/commons/thumb/2/22/Flag_of_Wisconsin.svg/35px-Flag_of_Wisconsin.svg.png 1.5x, //upload.wikimedia.org/wikipedia/commons/thumb/2/22/Flag_of_Wisconsin.svg/45px-Flag_of_Wisconsin.svg.png 2x\" width=\"23\"/> </span><a href=\"/wiki/Wisconsin\" title=\"Wisconsin\">Wisconsin</a></td>\n",
      "<td><span class=\"flagicon\"><img alt=\"\" class=\"thumbborder\" data-file-height=\"560\" data-file-width=\"740\" height=\"15\" src=\"//upload.wikimedia.org/wikipedia/commons/thumb/9/9c/Flag_of_Denmark.svg/20px-Flag_of_Denmark.svg.png\" srcset=\"//upload.wikimedia.org/wikipedia/commons/thumb/9/9c/Flag_of_Denmark.svg/31px-Flag_of_Denmark.svg.png 1.5x, //upload.wikimedia.org/wikipedia/commons/thumb/9/9c/Flag_of_Denmark.svg/40px-Flag_of_Denmark.svg.png 2x\" width=\"20\"/> </span><a href=\"/wiki/Denmark\" title=\"Denmark\">Denmark</a></td>\n",
      "<td>5,795,483</td>\n",
      "<td>5,687,289</td>\n",
      "<td align=\"center\"><span class=\"sortkey\" style=\"display:none\">7000800000000000000♠</span>8</td>\n",
      "<td>724,435</td>\n",
      "<td>710,873</td>\n",
      "<td>1.79%</td>\n",
      "</tr>\n",
      "<tr>\n",
      "<td align=\"center\"><span class=\"sortkey\" style=\"display:none\">7001210000000000000♠</span>21</td>\n",
      "<td align=\"center\"><span class=\"sortkey\" style=\"display:none\">7001220000000000000♠</span>22</td>\n",
      "<td style=\"text-align: left;\"><span class=\"flagicon\"><img alt=\"\" class=\"thumbborder\" data-file-height=\"1200\" data-file-width=\"1800\" height=\"15\" src=\"//upload.wikimedia.org/wikipedia/commons/thumb/4/46/Flag_of_Colorado.svg/23px-Flag_of_Colorado.svg.png\" srcset=\"//upload.wikimedia.org/wikipedia/commons/thumb/4/46/Flag_of_Colorado.svg/35px-Flag_of_Colorado.svg.png 1.5x, //upload.wikimedia.org/wikipedia/commons/thumb/4/46/Flag_of_Colorado.svg/45px-Flag_of_Colorado.svg.png 2x\" width=\"23\"/> </span><a href=\"/wiki/Colorado\" title=\"Colorado\">Colorado</a></td>\n",
      "<td><span class=\"flagicon\"><img alt=\"\" class=\"thumbborder\" data-file-height=\"2880\" data-file-width=\"4320\" height=\"15\" src=\"//upload.wikimedia.org/wikipedia/commons/thumb/4/48/Flag_of_Singapore.svg/23px-Flag_of_Singapore.svg.png\" srcset=\"//upload.wikimedia.org/wikipedia/commons/thumb/4/48/Flag_of_Singapore.svg/35px-Flag_of_Singapore.svg.png 1.5x, //upload.wikimedia.org/wikipedia/commons/thumb/4/48/Flag_of_Singapore.svg/45px-Flag_of_Singapore.svg.png 2x\" width=\"23\"/> </span><a href=\"/wiki/Singapore\" title=\"Singapore\">Singapore</a></td>\n",
      "<td>5,607,154</td>\n",
      "<td>5,029,324</td>\n",
      "<td align=\"center\"><span class=\"sortkey\" style=\"display:none\">7000700000000000000♠</span>7</td>\n",
      "<td>801,022</td>\n",
      "<td>720,704</td>\n",
      "<td>1.72%</td>\n",
      "</tr>\n",
      "<tr>\n",
      "<td align=\"center\"><span class=\"sortkey\" style=\"display:none\">7001220000000000000♠</span>22</td>\n",
      "<td align=\"center\"><span class=\"sortkey\" style=\"display:none\">7001210000000000000♠</span>21</td>\n",
      "<td style=\"text-align: left;\"><span class=\"flagicon\"><img alt=\"\" class=\"thumbborder\" data-file-height=\"318\" data-file-width=\"500\" height=\"15\" src=\"//upload.wikimedia.org/wikipedia/commons/thumb/b/b9/Flag_of_Minnesota.svg/23px-Flag_of_Minnesota.svg.png\" srcset=\"//upload.wikimedia.org/wikipedia/commons/thumb/b/b9/Flag_of_Minnesota.svg/35px-Flag_of_Minnesota.svg.png 1.5x, //upload.wikimedia.org/wikipedia/commons/thumb/b/b9/Flag_of_Minnesota.svg/46px-Flag_of_Minnesota.svg.png 2x\" width=\"23\"/> </span><a href=\"/wiki/Minnesota\" title=\"Minnesota\">Minnesota</a></td>\n",
      "<td><span class=\"flagicon\"><img alt=\"\" class=\"thumbborder\" data-file-height=\"1100\" data-file-width=\"1800\" height=\"14\" src=\"//upload.wikimedia.org/wikipedia/commons/thumb/b/bc/Flag_of_Finland.svg/23px-Flag_of_Finland.svg.png\" srcset=\"//upload.wikimedia.org/wikipedia/commons/thumb/b/bc/Flag_of_Finland.svg/35px-Flag_of_Finland.svg.png 1.5x, //upload.wikimedia.org/wikipedia/commons/thumb/b/bc/Flag_of_Finland.svg/46px-Flag_of_Finland.svg.png 2x\" width=\"23\"/> </span><a href=\"/wiki/Finland\" title=\"Finland\">Finland</a></td>\n",
      "<td>5,576,606</td>\n",
      "<td>5,303,925</td>\n",
      "<td align=\"center\"><span class=\"sortkey\" style=\"display:none\">7000800000000000000♠</span>8</td>\n",
      "<td>697,076</td>\n",
      "<td>662,991</td>\n",
      "<td>1.71%</td>\n",
      "</tr>\n",
      "<tr>\n",
      "<td align=\"center\"><span class=\"sortkey\" style=\"display:none\">7001230000000000000♠</span>23</td>\n",
      "<td align=\"center\"><span class=\"sortkey\" style=\"display:none\">7001240000000000000♠</span>24</td>\n",
      "<td style=\"text-align: left;\"><span class=\"flagicon\"><img alt=\"\" class=\"thumbborder\" data-file-height=\"500\" data-file-width=\"750\" height=\"15\" src=\"//upload.wikimedia.org/wikipedia/commons/thumb/6/69/Flag_of_South_Carolina.svg/23px-Flag_of_South_Carolina.svg.png\" srcset=\"//upload.wikimedia.org/wikipedia/commons/thumb/6/69/Flag_of_South_Carolina.svg/35px-Flag_of_South_Carolina.svg.png 1.5x, //upload.wikimedia.org/wikipedia/commons/thumb/6/69/Flag_of_South_Carolina.svg/45px-Flag_of_South_Carolina.svg.png 2x\" width=\"23\"/> </span><a href=\"/wiki/South_Carolina\" title=\"South Carolina\">South Carolina</a></td>\n",
      "<td><span class=\"flagicon\"><img alt=\"\" class=\"thumbborder\" data-file-height=\"500\" data-file-width=\"1000\" height=\"12\" src=\"//upload.wikimedia.org/wikipedia/commons/thumb/2/29/Flag_of_Eritrea.svg/23px-Flag_of_Eritrea.svg.png\" srcset=\"//upload.wikimedia.org/wikipedia/commons/thumb/2/29/Flag_of_Eritrea.svg/35px-Flag_of_Eritrea.svg.png 1.5x, //upload.wikimedia.org/wikipedia/commons/thumb/2/29/Flag_of_Eritrea.svg/46px-Flag_of_Eritrea.svg.png 2x\" width=\"23\"/> </span><a href=\"/wiki/Eritrea\" title=\"Eritrea\">Eritrea</a></td>\n",
      "<td>5,024,369</td>\n",
      "<td>4,625,401</td>\n",
      "<td align=\"center\"><span class=\"sortkey\" style=\"display:none\">7000700000000000000♠</span>7</td>\n",
      "<td>717,767</td>\n",
      "<td>660,766</td>\n",
      "<td>1.54%</td>\n",
      "</tr>\n",
      "<tr>\n",
      "<td align=\"center\"><span class=\"sortkey\" style=\"display:none\">7001240000000000000♠</span>24</td>\n",
      "<td align=\"center\"><span class=\"sortkey\" style=\"display:none\">7001230000000000000♠</span>23</td>\n",
      "<td style=\"text-align: left;\"><span class=\"flagicon\"><img alt=\"\" class=\"thumbborder\" data-file-height=\"400\" data-file-width=\"600\" height=\"15\" src=\"//upload.wikimedia.org/wikipedia/commons/thumb/5/5c/Flag_of_Alabama.svg/23px-Flag_of_Alabama.svg.png\" srcset=\"//upload.wikimedia.org/wikipedia/commons/thumb/5/5c/Flag_of_Alabama.svg/35px-Flag_of_Alabama.svg.png 1.5x, //upload.wikimedia.org/wikipedia/commons/thumb/5/5c/Flag_of_Alabama.svg/45px-Flag_of_Alabama.svg.png 2x\" width=\"23\"/> </span><a href=\"/wiki/Alabama\" title=\"Alabama\">Alabama</a></td>\n",
      "<td><span class=\"flagicon\"><img alt=\"\" class=\"thumbborder\" data-file-height=\"600\" data-file-width=\"1200\" height=\"12\" src=\"//upload.wikimedia.org/wikipedia/commons/thumb/3/3e/Flag_of_New_Zealand.svg/23px-Flag_of_New_Zealand.svg.png\" srcset=\"//upload.wikimedia.org/wikipedia/commons/thumb/3/3e/Flag_of_New_Zealand.svg/35px-Flag_of_New_Zealand.svg.png 1.5x, //upload.wikimedia.org/wikipedia/commons/thumb/3/3e/Flag_of_New_Zealand.svg/46px-Flag_of_New_Zealand.svg.png 2x\" width=\"23\"/> </span><a href=\"/wiki/New_Zealand\" title=\"New Zealand\">New Zealand</a></td>\n",
      "<td>4,874,747</td>\n",
      "<td>4,780,127</td>\n",
      "<td align=\"center\"><span class=\"sortkey\" style=\"display:none\">7000700000000000000♠</span>7</td>\n",
      "<td>696,392</td>\n",
      "<td>682,819</td>\n",
      "<td>1.51%</td>\n",
      "</tr>\n",
      "<tr>\n",
      "<td align=\"center\"><span class=\"sortkey\" style=\"display:none\">7001250000000000000♠</span>25</td>\n",
      "<td align=\"center\"><span class=\"sortkey\" style=\"display:none\">7001250000000000000♠</span>25</td>\n",
      "<td style=\"text-align: left;\"><span class=\"flagicon\"><img alt=\"\" class=\"thumbborder\" data-file-height=\"630\" data-file-width=\"990\" height=\"15\" src=\"//upload.wikimedia.org/wikipedia/commons/thumb/e/e0/Flag_of_Louisiana.svg/23px-Flag_of_Louisiana.svg.png\" srcset=\"//upload.wikimedia.org/wikipedia/commons/thumb/e/e0/Flag_of_Louisiana.svg/35px-Flag_of_Louisiana.svg.png 1.5x, //upload.wikimedia.org/wikipedia/commons/thumb/e/e0/Flag_of_Louisiana.svg/46px-Flag_of_Louisiana.svg.png 2x\" width=\"23\"/> </span><a href=\"/wiki/Louisiana\" title=\"Louisiana\">Louisiana</a></td>\n",
      "<td><span class=\"flagicon\"><img alt=\"\" class=\"thumbborder\" data-file-height=\"300\" data-file-width=\"600\" height=\"12\" src=\"//upload.wikimedia.org/wikipedia/commons/thumb/d/dd/Flag_of_Oman.svg/23px-Flag_of_Oman.svg.png\" srcset=\"//upload.wikimedia.org/wikipedia/commons/thumb/d/dd/Flag_of_Oman.svg/35px-Flag_of_Oman.svg.png 1.5x, //upload.wikimedia.org/wikipedia/commons/thumb/d/dd/Flag_of_Oman.svg/46px-Flag_of_Oman.svg.png 2x\" width=\"23\"/> </span><a href=\"/wiki/Oman\" title=\"Oman\">Oman</a></td>\n",
      "<td>4,684,333</td>\n",
      "<td>4,533,479</td>\n",
      "<td align=\"center\"><span class=\"sortkey\" style=\"display:none\">7000600000000000000♠</span>6</td>\n",
      "<td>780,722</td>\n",
      "<td>755,562</td>\n",
      "<td>1.45%</td>\n",
      "</tr>\n",
      "<tr>\n",
      "<td align=\"center\"><span class=\"sortkey\" style=\"display:none\">7001260000000000000♠</span>26</td>\n",
      "<td align=\"center\"><span class=\"sortkey\" style=\"display:none\">7001260000000000000♠</span>26</td>\n",
      "<td style=\"text-align: left;\"><span class=\"flagicon\"><img alt=\"\" class=\"thumbborder\" data-file-height=\"500\" data-file-width=\"950\" height=\"12\" src=\"//upload.wikimedia.org/wikipedia/commons/thumb/8/8d/Flag_of_Kentucky.svg/23px-Flag_of_Kentucky.svg.png\" srcset=\"//upload.wikimedia.org/wikipedia/commons/thumb/8/8d/Flag_of_Kentucky.svg/35px-Flag_of_Kentucky.svg.png 1.5x, //upload.wikimedia.org/wikipedia/commons/thumb/8/8d/Flag_of_Kentucky.svg/46px-Flag_of_Kentucky.svg.png 2x\" width=\"23\"/> </span><a href=\"/wiki/Kentucky\" title=\"Kentucky\">Kentucky</a></td>\n",
      "<td><span class=\"flagicon\"><img alt=\"\" class=\"thumbborder\" data-file-height=\"300\" data-file-width=\"600\" height=\"12\" src=\"//upload.wikimedia.org/wikipedia/commons/thumb/d/dd/Flag_of_Oman.svg/23px-Flag_of_Oman.svg.png\" srcset=\"//upload.wikimedia.org/wikipedia/commons/thumb/d/dd/Flag_of_Oman.svg/35px-Flag_of_Oman.svg.png 1.5x, //upload.wikimedia.org/wikipedia/commons/thumb/d/dd/Flag_of_Oman.svg/46px-Flag_of_Oman.svg.png 2x\" width=\"23\"/> </span><a href=\"/wiki/Oman\" title=\"Oman\">Oman</a></td>\n",
      "<td>4,454,189</td>\n",
      "<td>4,339,349</td>\n",
      "<td align=\"center\"><span class=\"sortkey\" style=\"display:none\">7000600000000000000♠</span>6</td>\n",
      "<td>742,365</td>\n",
      "<td>723,228</td>\n",
      "<td>1.37%</td>\n",
      "</tr>\n",
      "<tr>\n",
      "<td align=\"center\"><span class=\"sortkey\" style=\"display:none\">7001270000000000000♠</span>27</td>\n",
      "<td align=\"center\"><span class=\"sortkey\" style=\"display:none\">7001270000000000000♠</span>27</td>\n",
      "<td style=\"text-align: left;\"><span class=\"flagicon\"><img alt=\"\" class=\"thumbborder\" data-file-height=\"450\" data-file-width=\"750\" height=\"14\" src=\"//upload.wikimedia.org/wikipedia/commons/thumb/b/b9/Flag_of_Oregon.svg/23px-Flag_of_Oregon.svg.png\" srcset=\"//upload.wikimedia.org/wikipedia/commons/thumb/b/b9/Flag_of_Oregon.svg/35px-Flag_of_Oregon.svg.png 1.5x, //upload.wikimedia.org/wikipedia/commons/thumb/b/b9/Flag_of_Oregon.svg/46px-Flag_of_Oregon.svg.png 2x\" width=\"23\"/> </span><a href=\"/wiki/Oregon\" title=\"Oregon\">Oregon</a></td>\n",
      "<td><span class=\"flagicon\"><img alt=\"\" class=\"thumbborder\" data-file-height=\"300\" data-file-width=\"600\" height=\"12\" src=\"//upload.wikimedia.org/wikipedia/commons/thumb/d/dd/Flag_of_Oman.svg/23px-Flag_of_Oman.svg.png\" srcset=\"//upload.wikimedia.org/wikipedia/commons/thumb/d/dd/Flag_of_Oman.svg/35px-Flag_of_Oman.svg.png 1.5x, //upload.wikimedia.org/wikipedia/commons/thumb/d/dd/Flag_of_Oman.svg/46px-Flag_of_Oman.svg.png 2x\" width=\"23\"/> </span><a href=\"/wiki/Oman\" title=\"Oman\">Oman</a></td>\n",
      "<td>4,142,776</td>\n",
      "<td>3,831,073</td>\n",
      "<td align=\"center\"><span class=\"sortkey\" style=\"display:none\">7000500000000000000♠</span>5</td>\n",
      "<td>828,555</td>\n",
      "<td>766,215</td>\n",
      "<td>1.27%</td>\n",
      "</tr>\n",
      "<tr>\n",
      "<td align=\"center\"><span class=\"sortkey\" style=\"display:none\">7001280000000000000♠</span>28</td>\n",
      "<td align=\"center\"><span class=\"sortkey\" style=\"display:none\">7001280000000000000♠</span>28</td>\n",
      "<td style=\"text-align: left;\"><span class=\"flagicon\"><img alt=\"\" class=\"thumbborder\" data-file-height=\"450\" data-file-width=\"675\" height=\"15\" src=\"//upload.wikimedia.org/wikipedia/commons/thumb/6/6e/Flag_of_Oklahoma.svg/23px-Flag_of_Oklahoma.svg.png\" srcset=\"//upload.wikimedia.org/wikipedia/commons/thumb/6/6e/Flag_of_Oklahoma.svg/35px-Flag_of_Oklahoma.svg.png 1.5x, //upload.wikimedia.org/wikipedia/commons/thumb/6/6e/Flag_of_Oklahoma.svg/45px-Flag_of_Oklahoma.svg.png 2x\" width=\"23\"/> </span><a href=\"/wiki/Oklahoma\" title=\"Oklahoma\">Oklahoma</a></td>\n",
      "<td><span class=\"flagicon\"><img alt=\"\" class=\"thumbborder\" data-file-height=\"600\" data-file-width=\"900\" height=\"15\" src=\"//upload.wikimedia.org/wikipedia/commons/thumb/4/43/Flag_of_Mauritania.svg/23px-Flag_of_Mauritania.svg.png\" srcset=\"//upload.wikimedia.org/wikipedia/commons/thumb/4/43/Flag_of_Mauritania.svg/35px-Flag_of_Mauritania.svg.png 1.5x, //upload.wikimedia.org/wikipedia/commons/thumb/4/43/Flag_of_Mauritania.svg/45px-Flag_of_Mauritania.svg.png 2x\" width=\"23\"/> </span><a href=\"/wiki/Mauritania\" title=\"Mauritania\">Mauritania</a></td>\n",
      "<td>3,930,864</td>\n",
      "<td>3,751,616</td>\n",
      "<td align=\"center\"><span class=\"sortkey\" style=\"display:none\">7000500000000000000♠</span>5</td>\n",
      "<td>786,173</td>\n",
      "<td>750,270</td>\n",
      "<td>1.21%</td>\n",
      "</tr>\n",
      "<tr>\n",
      "<td align=\"center\"><span class=\"sortkey\" style=\"display:none\">7001290000000000000♠</span>29</td>\n",
      "<td align=\"center\"><span class=\"sortkey\" style=\"display:none\">7001300000000000000♠</span>30</td>\n",
      "<td style=\"text-align: left;\"><span class=\"flagicon\"><img alt=\"\" class=\"thumbborder\" data-file-height=\"459\" data-file-width=\"594\" height=\"15\" src=\"//upload.wikimedia.org/wikipedia/commons/thumb/9/96/Flag_of_Connecticut.svg/20px-Flag_of_Connecticut.svg.png\" srcset=\"//upload.wikimedia.org/wikipedia/commons/thumb/9/96/Flag_of_Connecticut.svg/30px-Flag_of_Connecticut.svg.png 1.5x, //upload.wikimedia.org/wikipedia/commons/thumb/9/96/Flag_of_Connecticut.svg/39px-Flag_of_Connecticut.svg.png 2x\" width=\"20\"/> </span><a href=\"/wiki/Connecticut\" title=\"Connecticut\">Connecticut</a></td>\n",
      "<td><span class=\"flagicon\"><img alt=\"\" class=\"thumbborder\" data-file-height=\"900\" data-file-width=\"1800\" height=\"12\" src=\"//upload.wikimedia.org/wikipedia/commons/thumb/2/27/Flag_of_Moldova.svg/23px-Flag_of_Moldova.svg.png\" srcset=\"//upload.wikimedia.org/wikipedia/commons/thumb/2/27/Flag_of_Moldova.svg/35px-Flag_of_Moldova.svg.png 1.5x, //upload.wikimedia.org/wikipedia/commons/thumb/2/27/Flag_of_Moldova.svg/46px-Flag_of_Moldova.svg.png 2x\" width=\"23\"/> </span><a href=\"/wiki/Moldova\" title=\"Moldova\">Moldova</a></td>\n",
      "<td>3,588,184</td>\n",
      "<td>3,574,118</td>\n",
      "<td align=\"center\"><span class=\"sortkey\" style=\"display:none\">7000500000000000000♠</span>5</td>\n",
      "<td>717,637</td>\n",
      "<td>714,824</td>\n",
      "<td>1.11%</td>\n",
      "</tr>\n",
      "<tr style=\"background:#f5f5d3;\">\n",
      "<td><span class=\"sortkey\" style=\"display:none\">7001710000000000000♠</span> —</td>\n",
      "<td align=\"center\"><span class=\"sortkey\" style=\"display:none\">7001290000000000000♠</span>29</td>\n",
      "<td style=\"text-align: left;\"><span class=\"flagicon\"><img alt=\"\" class=\"thumbborder\" data-file-height=\"600\" data-file-width=\"900\" height=\"15\" src=\"//upload.wikimedia.org/wikipedia/commons/thumb/2/28/Flag_of_Puerto_Rico.svg/23px-Flag_of_Puerto_Rico.svg.png\" srcset=\"//upload.wikimedia.org/wikipedia/commons/thumb/2/28/Flag_of_Puerto_Rico.svg/35px-Flag_of_Puerto_Rico.svg.png 1.5x, //upload.wikimedia.org/wikipedia/commons/thumb/2/28/Flag_of_Puerto_Rico.svg/45px-Flag_of_Puerto_Rico.svg.png 2x\" width=\"23\"/> </span><a href=\"/wiki/Puerto_Rico\" title=\"Puerto Rico\">Puerto Rico</a></td>\n",
      "<td><span class=\"flagicon\"><img alt=\"\" class=\"thumbborder\" data-file-height=\"2400\" data-file-width=\"4800\" height=\"12\" src=\"//upload.wikimedia.org/wikipedia/commons/thumb/4/4c/Flag_of_Mongolia.svg/23px-Flag_of_Mongolia.svg.png\" srcset=\"//upload.wikimedia.org/wikipedia/commons/thumb/4/4c/Flag_of_Mongolia.svg/35px-Flag_of_Mongolia.svg.png 1.5x, //upload.wikimedia.org/wikipedia/commons/thumb/4/4c/Flag_of_Mongolia.svg/46px-Flag_of_Mongolia.svg.png 2x\" width=\"23\"/> </span><a href=\"/wiki/Mongolia\" title=\"Mongolia\">Mongolia</a></td>\n",
      "<td>3,337,177</td>\n",
      "<td>3,726,157</td>\n",
      "<td align=\"center\">1 (<a href=\"/wiki/Non-voting_members_of_the_United_States_House_of_Representatives#Puerto_Rico\" title=\"Non-voting members of the United States House of Representatives\">non-voting</a>)</td>\n",
      "<td>—</td>\n",
      "<td>—</td>\n",
      "<td>1.06%</td>\n",
      "</tr>\n",
      "<tr>\n",
      "<td align=\"center\"><span class=\"sortkey\" style=\"display:none\">7001300000000000000♠</span>30</td>\n",
      "<td align=\"center\"><span class=\"sortkey\" style=\"display:none\">7001310000000000000♠</span>31</td>\n",
      "<td style=\"text-align: left;\"><span class=\"flagicon\"><img alt=\"\" class=\"thumbborder\" data-file-height=\"459\" data-file-width=\"670\" height=\"15\" src=\"//upload.wikimedia.org/wikipedia/commons/thumb/a/aa/Flag_of_Iowa.svg/22px-Flag_of_Iowa.svg.png\" srcset=\"//upload.wikimedia.org/wikipedia/commons/thumb/a/aa/Flag_of_Iowa.svg/34px-Flag_of_Iowa.svg.png 1.5x, //upload.wikimedia.org/wikipedia/commons/thumb/a/aa/Flag_of_Iowa.svg/44px-Flag_of_Iowa.svg.png 2x\" width=\"22\"/> </span><a href=\"/wiki/Iowa\" title=\"Iowa\">Iowa</a></td>\n",
      "<td><span class=\"flagicon\"><img alt=\"\" class=\"thumbborder\" data-file-height=\"2400\" data-file-width=\"4800\" height=\"12\" src=\"//upload.wikimedia.org/wikipedia/commons/thumb/4/4c/Flag_of_Mongolia.svg/23px-Flag_of_Mongolia.svg.png\" srcset=\"//upload.wikimedia.org/wikipedia/commons/thumb/4/4c/Flag_of_Mongolia.svg/35px-Flag_of_Mongolia.svg.png 1.5x, //upload.wikimedia.org/wikipedia/commons/thumb/4/4c/Flag_of_Mongolia.svg/46px-Flag_of_Mongolia.svg.png 2x\" width=\"23\"/> </span><a href=\"/wiki/Mongolia\" title=\"Mongolia\">Mongolia</a></td>\n",
      "<td>3,145,711</td>\n",
      "<td>3,046,869</td>\n",
      "<td align=\"center\"><span class=\"sortkey\" style=\"display:none\">7000400000000000000♠</span>4</td>\n",
      "<td>786,428</td>\n",
      "<td>761,717</td>\n",
      "<td>0.97%</td>\n",
      "</tr>\n",
      "<tr>\n",
      "<td align=\"center\"><span class=\"sortkey\" style=\"display:none\">7001310000000000000♠</span>31</td>\n",
      "<td align=\"center\"><span class=\"sortkey\" style=\"display:none\">7001350000000000000♠</span>35</td>\n",
      "<td style=\"text-align: left;\"><span class=\"flagicon\"><img alt=\"\" class=\"thumbborder\" data-file-height=\"1000\" data-file-width=\"1600\" height=\"14\" src=\"//upload.wikimedia.org/wikipedia/commons/thumb/f/f6/Flag_of_Utah.svg/23px-Flag_of_Utah.svg.png\" srcset=\"//upload.wikimedia.org/wikipedia/commons/thumb/f/f6/Flag_of_Utah.svg/35px-Flag_of_Utah.svg.png 1.5x, //upload.wikimedia.org/wikipedia/commons/thumb/f/f6/Flag_of_Utah.svg/46px-Flag_of_Utah.svg.png 2x\" width=\"23\"/> </span><a href=\"/wiki/Utah\" title=\"Utah\">Utah</a></td>\n",
      "<td><span class=\"flagicon\"><img alt=\"\" class=\"thumbborder\" data-file-height=\"2400\" data-file-width=\"4800\" height=\"12\" src=\"//upload.wikimedia.org/wikipedia/commons/thumb/4/4c/Flag_of_Mongolia.svg/23px-Flag_of_Mongolia.svg.png\" srcset=\"//upload.wikimedia.org/wikipedia/commons/thumb/4/4c/Flag_of_Mongolia.svg/35px-Flag_of_Mongolia.svg.png 1.5x, //upload.wikimedia.org/wikipedia/commons/thumb/4/4c/Flag_of_Mongolia.svg/46px-Flag_of_Mongolia.svg.png 2x\" width=\"23\"/> </span><a href=\"/wiki/Mongolia\" title=\"Mongolia\">Mongolia</a></td>\n",
      "<td>3,101,833</td>\n",
      "<td>2,763,888</td>\n",
      "<td align=\"center\"><span class=\"sortkey\" style=\"display:none\">7000400000000000000♠</span>4</td>\n",
      "<td>775,458</td>\n",
      "<td>690,972</td>\n",
      "<td>0.95%</td>\n",
      "</tr>\n",
      "<tr>\n",
      "<td align=\"center\"><span class=\"sortkey\" style=\"display:none\">7001320000000000000♠</span>32</td>\n",
      "<td align=\"center\"><span class=\"sortkey\" style=\"display:none\">7001330000000000000♠</span>33</td>\n",
      "<td style=\"text-align: left;\"><span class=\"flagicon\"><img alt=\"\" class=\"thumbborder\" data-file-height=\"300\" data-file-width=\"450\" height=\"15\" src=\"//upload.wikimedia.org/wikipedia/commons/thumb/9/9d/Flag_of_Arkansas.svg/23px-Flag_of_Arkansas.svg.png\" srcset=\"//upload.wikimedia.org/wikipedia/commons/thumb/9/9d/Flag_of_Arkansas.svg/35px-Flag_of_Arkansas.svg.png 1.5x, //upload.wikimedia.org/wikipedia/commons/thumb/9/9d/Flag_of_Arkansas.svg/45px-Flag_of_Arkansas.svg.png 2x\" width=\"23\"/> </span><a href=\"/wiki/Arkansas\" title=\"Arkansas\">Arkansas</a></td>\n",
      "<td><span class=\"flagicon\"><img alt=\"\" class=\"thumbborder\" data-file-height=\"600\" data-file-width=\"1200\" height=\"12\" src=\"//upload.wikimedia.org/wikipedia/commons/thumb/2/2f/Flag_of_Armenia.svg/23px-Flag_of_Armenia.svg.png\" srcset=\"//upload.wikimedia.org/wikipedia/commons/thumb/2/2f/Flag_of_Armenia.svg/35px-Flag_of_Armenia.svg.png 1.5x, //upload.wikimedia.org/wikipedia/commons/thumb/2/2f/Flag_of_Armenia.svg/46px-Flag_of_Armenia.svg.png 2x\" width=\"23\"/> </span><a href=\"/wiki/Armenia\" title=\"Armenia\">Armenia</a></td>\n",
      "<td>3,004,279</td>\n",
      "<td>2,915,958</td>\n",
      "<td align=\"center\"><span class=\"sortkey\" style=\"display:none\">7000400000000000000♠</span>4</td>\n",
      "<td>751,070</td>\n",
      "<td>728,990</td>\n",
      "<td>0.93%</td>\n",
      "</tr>\n",
      "<tr>\n",
      "<td align=\"center\"><span class=\"sortkey\" style=\"display:none\">7001330000000000000♠</span>33</td>\n",
      "<td align=\"center\"><span class=\"sortkey\" style=\"display:none\">7001360000000000000♠</span>36</td>\n",
      "<td style=\"text-align: left;\"><span class=\"flagicon\"><img alt=\"\" class=\"thumbborder\" data-file-height=\"500\" data-file-width=\"750\" height=\"15\" src=\"//upload.wikimedia.org/wikipedia/commons/thumb/f/f1/Flag_of_Nevada.svg/23px-Flag_of_Nevada.svg.png\" srcset=\"//upload.wikimedia.org/wikipedia/commons/thumb/f/f1/Flag_of_Nevada.svg/35px-Flag_of_Nevada.svg.png 1.5x, //upload.wikimedia.org/wikipedia/commons/thumb/f/f1/Flag_of_Nevada.svg/45px-Flag_of_Nevada.svg.png 2x\" width=\"23\"/> </span><a href=\"/wiki/Nevada\" title=\"Nevada\">Nevada</a></td>\n",
      "<td><span class=\"flagicon\"><img alt=\"\" class=\"thumbborder\" data-file-height=\"600\" data-file-width=\"1200\" height=\"12\" src=\"//upload.wikimedia.org/wikipedia/commons/thumb/2/2f/Flag_of_Armenia.svg/23px-Flag_of_Armenia.svg.png\" srcset=\"//upload.wikimedia.org/wikipedia/commons/thumb/2/2f/Flag_of_Armenia.svg/35px-Flag_of_Armenia.svg.png 1.5x, //upload.wikimedia.org/wikipedia/commons/thumb/2/2f/Flag_of_Armenia.svg/46px-Flag_of_Armenia.svg.png 2x\" width=\"23\"/> </span><a href=\"/wiki/Armenia\" title=\"Armenia\">Armenia</a></td>\n",
      "<td>2,998,039</td>\n",
      "<td>2,700,691</td>\n",
      "<td align=\"center\"><span class=\"sortkey\" style=\"display:none\">7000400000000000000♠</span>4</td>\n",
      "<td>749,510</td>\n",
      "<td>675,173</td>\n",
      "<td>0.92%</td>\n",
      "</tr>\n",
      "<tr>\n",
      "<td align=\"center\"><span class=\"sortkey\" style=\"display:none\">7001340000000000000♠</span>34</td>\n",
      "<td align=\"center\"><span class=\"sortkey\" style=\"display:none\">7001320000000000000♠</span>32</td>\n",
      "<td style=\"text-align: left;\"><span class=\"flagicon\"><img alt=\"\" class=\"thumbborder\" data-file-height=\"600\" data-file-width=\"900\" height=\"15\" src=\"//upload.wikimedia.org/wikipedia/commons/thumb/4/42/Flag_of_Mississippi.svg/23px-Flag_of_Mississippi.svg.png\" srcset=\"//upload.wikimedia.org/wikipedia/commons/thumb/4/42/Flag_of_Mississippi.svg/35px-Flag_of_Mississippi.svg.png 1.5x, //upload.wikimedia.org/wikipedia/commons/thumb/4/42/Flag_of_Mississippi.svg/45px-Flag_of_Mississippi.svg.png 2x\" width=\"23\"/> </span><a href=\"/wiki/Mississippi\" title=\"Mississippi\">Mississippi</a></td>\n",
      "<td><span class=\"flagicon\"><img alt=\"\" class=\"thumbborder\" data-file-height=\"500\" data-file-width=\"700\" height=\"15\" src=\"//upload.wikimedia.org/wikipedia/commons/thumb/3/36/Flag_of_Albania.svg/21px-Flag_of_Albania.svg.png\" srcset=\"//upload.wikimedia.org/wikipedia/commons/thumb/3/36/Flag_of_Albania.svg/32px-Flag_of_Albania.svg.png 1.5x, //upload.wikimedia.org/wikipedia/commons/thumb/3/36/Flag_of_Albania.svg/42px-Flag_of_Albania.svg.png 2x\" width=\"21\"/> </span><a href=\"/wiki/Albania\" title=\"Albania\">Albania</a></td>\n",
      "<td>2,984,100</td>\n",
      "<td>2,968,103</td>\n",
      "<td align=\"center\"><span class=\"sortkey\" style=\"display:none\">7000400000000000000♠</span>4</td>\n",
      "<td>746,025</td>\n",
      "<td>742,026</td>\n",
      "<td>0.92%</td>\n",
      "</tr>\n",
      "<tr>\n",
      "<td align=\"center\"><span class=\"sortkey\" style=\"display:none\">7001350000000000000♠</span>35</td>\n",
      "<td align=\"center\"><span class=\"sortkey\" style=\"display:none\">7001340000000000000♠</span>34</td>\n",
      "<td style=\"text-align: left;\"><span class=\"flagicon\"><img alt=\"\" class=\"thumbborder\" data-file-height=\"3240\" data-file-width=\"5400\" height=\"14\" src=\"//upload.wikimedia.org/wikipedia/commons/thumb/d/da/Flag_of_Kansas.svg/23px-Flag_of_Kansas.svg.png\" srcset=\"//upload.wikimedia.org/wikipedia/commons/thumb/d/da/Flag_of_Kansas.svg/35px-Flag_of_Kansas.svg.png 1.5x, //upload.wikimedia.org/wikipedia/commons/thumb/d/da/Flag_of_Kansas.svg/46px-Flag_of_Kansas.svg.png 2x\" width=\"23\"/> </span><a href=\"/wiki/Kansas\" title=\"Kansas\">Kansas</a></td>\n",
      "<td><span class=\"flagicon\"><img alt=\"\" class=\"thumbborder\" data-file-height=\"300\" data-file-width=\"500\" height=\"14\" src=\"//upload.wikimedia.org/wikipedia/commons/thumb/1/11/Flag_of_Lithuania.svg/23px-Flag_of_Lithuania.svg.png\" srcset=\"//upload.wikimedia.org/wikipedia/commons/thumb/1/11/Flag_of_Lithuania.svg/35px-Flag_of_Lithuania.svg.png 1.5x, //upload.wikimedia.org/wikipedia/commons/thumb/1/11/Flag_of_Lithuania.svg/46px-Flag_of_Lithuania.svg.png 2x\" width=\"23\"/> </span><a href=\"/wiki/Lithuania\" title=\"Lithuania\">Lithuania</a></td>\n",
      "<td>2,913,123</td>\n",
      "<td>2,853,132</td>\n",
      "<td align=\"center\"><span class=\"sortkey\" style=\"display:none\">7000400000000000000♠</span>4</td>\n",
      "<td>728,281</td>\n",
      "<td>713,280</td>\n",
      "<td>0.90%</td>\n",
      "</tr>\n",
      "<tr>\n",
      "<td align=\"center\"><span class=\"sortkey\" style=\"display:none\">7001360000000000000♠</span>36</td>\n",
      "<td align=\"center\"><span class=\"sortkey\" style=\"display:none\">7001370000000000000♠</span>37</td>\n",
      "<td style=\"text-align: left;\"><span class=\"flagicon\"><img alt=\"\" class=\"thumbborder\" data-file-height=\"800\" data-file-width=\"1200\" height=\"15\" src=\"//upload.wikimedia.org/wikipedia/commons/thumb/c/c3/Flag_of_New_Mexico.svg/23px-Flag_of_New_Mexico.svg.png\" srcset=\"//upload.wikimedia.org/wikipedia/commons/thumb/c/c3/Flag_of_New_Mexico.svg/35px-Flag_of_New_Mexico.svg.png 1.5x, //upload.wikimedia.org/wikipedia/commons/thumb/c/c3/Flag_of_New_Mexico.svg/45px-Flag_of_New_Mexico.svg.png 2x\" width=\"23\"/> </span><a href=\"/wiki/New_Mexico\" title=\"New Mexico\">New Mexico</a></td>\n",
      "<td><span class=\"flagicon\"><img alt=\"\" class=\"thumbborder\" data-file-height=\"600\" data-file-width=\"1200\" height=\"12\" src=\"//upload.wikimedia.org/wikipedia/commons/thumb/f/f0/Flag_of_Slovenia.svg/23px-Flag_of_Slovenia.svg.png\" srcset=\"//upload.wikimedia.org/wikipedia/commons/thumb/f/f0/Flag_of_Slovenia.svg/35px-Flag_of_Slovenia.svg.png 1.5x, //upload.wikimedia.org/wikipedia/commons/thumb/f/f0/Flag_of_Slovenia.svg/46px-Flag_of_Slovenia.svg.png 2x\" width=\"23\"/> </span><a href=\"/wiki/Slovenia\" title=\"Slovenia\">Slovenia</a></td>\n",
      "<td>2,088,070</td>\n",
      "<td>2,059,192</td>\n",
      "<td align=\"center\"><span class=\"sortkey\" style=\"display:none\">7000300000000000000♠</span>3</td>\n",
      "<td>696,023</td>\n",
      "<td>686,393</td>\n",
      "<td>0.64%</td>\n",
      "</tr>\n",
      "<tr>\n",
      "<td align=\"center\"><span class=\"sortkey\" style=\"display:none\">7001370000000000000♠</span>37</td>\n",
      "<td align=\"center\"><span class=\"sortkey\" style=\"display:none\">7001390000000000000♠</span>39</td>\n",
      "<td style=\"text-align: left;\"><span class=\"flagicon\"><img alt=\"\" class=\"thumbborder\" data-file-height=\"450\" data-file-width=\"750\" height=\"14\" src=\"//upload.wikimedia.org/wikipedia/commons/thumb/4/4d/Flag_of_Nebraska.svg/23px-Flag_of_Nebraska.svg.png\" srcset=\"//upload.wikimedia.org/wikipedia/commons/thumb/4/4d/Flag_of_Nebraska.svg/35px-Flag_of_Nebraska.svg.png 1.5x, //upload.wikimedia.org/wikipedia/commons/thumb/4/4d/Flag_of_Nebraska.svg/46px-Flag_of_Nebraska.svg.png 2x\" width=\"23\"/> </span><a href=\"/wiki/Nebraska\" title=\"Nebraska\">Nebraska</a></td>\n",
      "<td><span class=\"flagicon\"><img alt=\"\" class=\"thumbborder\" data-file-height=\"600\" data-file-width=\"1200\" height=\"12\" src=\"//upload.wikimedia.org/wikipedia/commons/thumb/8/84/Flag_of_Latvia.svg/23px-Flag_of_Latvia.svg.png\" srcset=\"//upload.wikimedia.org/wikipedia/commons/thumb/8/84/Flag_of_Latvia.svg/35px-Flag_of_Latvia.svg.png 1.5x, //upload.wikimedia.org/wikipedia/commons/thumb/8/84/Flag_of_Latvia.svg/46px-Flag_of_Latvia.svg.png 2x\" width=\"23\"/> </span><a href=\"/wiki/Latvia\" title=\"Latvia\">Latvia</a></td>\n",
      "<td>1,920,076</td>\n",
      "<td>1,826,341</td>\n",
      "<td align=\"center\"><span class=\"sortkey\" style=\"display:none\">7000300000000000000♠</span>3</td>\n",
      "<td>640,025</td>\n",
      "<td>608,780</td>\n",
      "<td>0.59%</td>\n",
      "</tr>\n",
      "<tr>\n",
      "<td align=\"center\"><span class=\"sortkey\" style=\"display:none\">7001380000000000000♠</span>38</td>\n",
      "<td align=\"center\"><span class=\"sortkey\" style=\"display:none\">7001380000000000000♠</span>38</td>\n",
      "<td style=\"text-align: left;\"><span class=\"flagicon\"><img alt=\"\" class=\"thumbborder\" data-file-height=\"400\" data-file-width=\"760\" height=\"12\" src=\"//upload.wikimedia.org/wikipedia/commons/thumb/2/22/Flag_of_West_Virginia.svg/23px-Flag_of_West_Virginia.svg.png\" srcset=\"//upload.wikimedia.org/wikipedia/commons/thumb/2/22/Flag_of_West_Virginia.svg/35px-Flag_of_West_Virginia.svg.png 1.5x, //upload.wikimedia.org/wikipedia/commons/thumb/2/22/Flag_of_West_Virginia.svg/46px-Flag_of_West_Virginia.svg.png 2x\" width=\"23\"/> </span><a href=\"/wiki/West_Virginia\" title=\"West Virginia\">West Virginia</a></td>\n",
      "<td><span class=\"flagicon\"><img alt=\"\" class=\"thumbborder\" data-file-height=\"600\" data-file-width=\"1200\" height=\"12\" src=\"//upload.wikimedia.org/wikipedia/commons/thumb/8/84/Flag_of_Latvia.svg/23px-Flag_of_Latvia.svg.png\" srcset=\"//upload.wikimedia.org/wikipedia/commons/thumb/8/84/Flag_of_Latvia.svg/35px-Flag_of_Latvia.svg.png 1.5x, //upload.wikimedia.org/wikipedia/commons/thumb/8/84/Flag_of_Latvia.svg/46px-Flag_of_Latvia.svg.png 2x\" width=\"23\"/> </span><a href=\"/wiki/Latvia\" title=\"Latvia\">Latvia</a></td>\n",
      "<td>1,815,857</td>\n",
      "<td>1,853,011</td>\n",
      "<td align=\"center\"><span class=\"sortkey\" style=\"display:none\">7000300000000000000♠</span>3</td>\n",
      "<td>605,285</td>\n",
      "<td>617,670</td>\n",
      "<td>0.56%</td>\n",
      "</tr>\n",
      "<tr>\n",
      "<td align=\"center\"><span class=\"sortkey\" style=\"display:none\">7001390000000000000♠</span>39</td>\n",
      "<td align=\"center\"><span class=\"sortkey\" style=\"display:none\">7001400000000000000♠</span>40</td>\n",
      "<td style=\"text-align: left;\"><span class=\"flagicon\"><img alt=\"\" class=\"thumbborder\" data-file-height=\"520\" data-file-width=\"660\" height=\"15\" src=\"//upload.wikimedia.org/wikipedia/commons/thumb/a/a4/Flag_of_Idaho.svg/19px-Flag_of_Idaho.svg.png\" srcset=\"//upload.wikimedia.org/wikipedia/commons/thumb/a/a4/Flag_of_Idaho.svg/29px-Flag_of_Idaho.svg.png 1.5x, //upload.wikimedia.org/wikipedia/commons/thumb/a/a4/Flag_of_Idaho.svg/38px-Flag_of_Idaho.svg.png 2x\" width=\"19\"/> </span><a href=\"/wiki/Idaho\" title=\"Idaho\">Idaho</a></td>\n",
      "<td><span class=\"flagicon\"><img alt=\"\" class=\"thumbborder\" data-file-height=\"600\" data-file-width=\"840\" height=\"15\" src=\"//upload.wikimedia.org/wikipedia/commons/thumb/1/1f/Flag_of_Kosovo.svg/21px-Flag_of_Kosovo.svg.png\" srcset=\"//upload.wikimedia.org/wikipedia/commons/thumb/1/1f/Flag_of_Kosovo.svg/32px-Flag_of_Kosovo.svg.png 1.5x, //upload.wikimedia.org/wikipedia/commons/thumb/1/1f/Flag_of_Kosovo.svg/42px-Flag_of_Kosovo.svg.png 2x\" width=\"21\"/> </span><a href=\"/wiki/Kosovo\" title=\"Kosovo\">Kosovo</a></td>\n",
      "<td>1,716,943</td>\n",
      "<td>1,567,652</td>\n",
      "<td align=\"center\"><span class=\"sortkey\" style=\"display:none\">7000200000000000000♠</span>2</td>\n",
      "<td>858,472</td>\n",
      "<td>783,826</td>\n",
      "<td>0.52%</td>\n",
      "</tr>\n",
      "<tr>\n",
      "<td align=\"center\"><span class=\"sortkey\" style=\"display:none\">7001400000000000000♠</span>40</td>\n",
      "<td align=\"center\"><span class=\"sortkey\" style=\"display:none\">7001410000000000000♠</span>41</td>\n",
      "<td style=\"text-align: left;\"><span class=\"flagicon\"><img alt=\"\" class=\"thumbborder\" data-file-height=\"600\" data-file-width=\"1200\" height=\"12\" src=\"//upload.wikimedia.org/wikipedia/commons/thumb/e/ef/Flag_of_Hawaii.svg/23px-Flag_of_Hawaii.svg.png\" srcset=\"//upload.wikimedia.org/wikipedia/commons/thumb/e/ef/Flag_of_Hawaii.svg/35px-Flag_of_Hawaii.svg.png 1.5x, //upload.wikimedia.org/wikipedia/commons/thumb/e/ef/Flag_of_Hawaii.svg/46px-Flag_of_Hawaii.svg.png 2x\" width=\"23\"/> </span><a href=\"/wiki/Hawaii\" title=\"Hawaii\">Hawaii</a></td>\n",
      "<td><span class=\"flagicon\"><img alt=\"\" class=\"thumbborder\" data-file-height=\"900\" data-file-width=\"1500\" height=\"14\" src=\"//upload.wikimedia.org/wikipedia/commons/thumb/2/2c/Flag_of_Bahrain.svg/23px-Flag_of_Bahrain.svg.png\" srcset=\"//upload.wikimedia.org/wikipedia/commons/thumb/2/2c/Flag_of_Bahrain.svg/35px-Flag_of_Bahrain.svg.png 1.5x, //upload.wikimedia.org/wikipedia/commons/thumb/2/2c/Flag_of_Bahrain.svg/46px-Flag_of_Bahrain.svg.png 2x\" width=\"23\"/> </span><a href=\"/wiki/Bahrain\" title=\"Bahrain\">Bahrain</a></td>\n",
      "<td>1,427,538</td>\n",
      "<td>1,360,301</td>\n",
      "<td align=\"center\"><span class=\"sortkey\" style=\"display:none\">7000200000000000000♠</span>2</td>\n",
      "<td>713,769</td>\n",
      "<td>680,151</td>\n",
      "<td>0.44%</td>\n",
      "</tr>\n",
      "<tr>\n",
      "<td align=\"center\"><span class=\"sortkey\" style=\"display:none\">7001410000000000000♠</span>41</td>\n",
      "<td align=\"center\"><span class=\"sortkey\" style=\"display:none\">7001430000000000000♠</span>43</td>\n",
      "<td style=\"text-align: left;\"><span class=\"flagicon\"><img alt=\"\" class=\"thumbborder\" data-file-height=\"440\" data-file-width=\"660\" height=\"15\" src=\"//upload.wikimedia.org/wikipedia/commons/thumb/2/28/Flag_of_New_Hampshire.svg/23px-Flag_of_New_Hampshire.svg.png\" srcset=\"//upload.wikimedia.org/wikipedia/commons/thumb/2/28/Flag_of_New_Hampshire.svg/35px-Flag_of_New_Hampshire.svg.png 1.5x, //upload.wikimedia.org/wikipedia/commons/thumb/2/28/Flag_of_New_Hampshire.svg/45px-Flag_of_New_Hampshire.svg.png 2x\" width=\"23\"/> </span><a href=\"/wiki/New_Hampshire\" title=\"New Hampshire\">New Hampshire</a></td>\n",
      "<td><span class=\"flagicon\"><img alt=\"\" class=\"thumbborder\" data-file-height=\"630\" data-file-width=\"990\" height=\"15\" src=\"//upload.wikimedia.org/wikipedia/commons/thumb/8/8f/Flag_of_Estonia.svg/23px-Flag_of_Estonia.svg.png\" srcset=\"//upload.wikimedia.org/wikipedia/commons/thumb/8/8f/Flag_of_Estonia.svg/35px-Flag_of_Estonia.svg.png 1.5x, //upload.wikimedia.org/wikipedia/commons/thumb/8/8f/Flag_of_Estonia.svg/46px-Flag_of_Estonia.svg.png 2x\" width=\"23\"/> </span><a href=\"/wiki/Estonia\" title=\"Estonia\">Estonia</a></td>\n",
      "<td>1,342,795</td>\n",
      "<td>1,316,466</td>\n",
      "<td align=\"center\"><span class=\"sortkey\" style=\"display:none\">7000200000000000000♠</span>2</td>\n",
      "<td>671,398</td>\n",
      "<td>658,233</td>\n",
      "<td>0.41%</td>\n",
      "</tr>\n",
      "<tr>\n",
      "<td align=\"center\"><span class=\"sortkey\" style=\"display:none\">7001420000000000000♠</span>42</td>\n",
      "<td align=\"center\"><span class=\"sortkey\" style=\"display:none\">7001420000000000000♠</span>42</td>\n",
      "<td style=\"text-align: left;\"><span class=\"flagicon\"><img alt=\"\" class=\"thumbborder\" data-file-height=\"458\" data-file-width=\"687\" height=\"15\" src=\"//upload.wikimedia.org/wikipedia/commons/thumb/3/35/Flag_of_Maine.svg/23px-Flag_of_Maine.svg.png\" srcset=\"//upload.wikimedia.org/wikipedia/commons/thumb/3/35/Flag_of_Maine.svg/35px-Flag_of_Maine.svg.png 1.5x, //upload.wikimedia.org/wikipedia/commons/thumb/3/35/Flag_of_Maine.svg/45px-Flag_of_Maine.svg.png 2x\" width=\"23\"/> </span><a href=\"/wiki/Maine\" title=\"Maine\">Maine</a></td>\n",
      "<td><span class=\"flagicon\"><img alt=\"\" class=\"thumbborder\" data-file-height=\"630\" data-file-width=\"990\" height=\"15\" src=\"//upload.wikimedia.org/wikipedia/commons/thumb/8/8f/Flag_of_Estonia.svg/23px-Flag_of_Estonia.svg.png\" srcset=\"//upload.wikimedia.org/wikipedia/commons/thumb/8/8f/Flag_of_Estonia.svg/35px-Flag_of_Estonia.svg.png 1.5x, //upload.wikimedia.org/wikipedia/commons/thumb/8/8f/Flag_of_Estonia.svg/46px-Flag_of_Estonia.svg.png 2x\" width=\"23\"/> </span><a href=\"/wiki/Estonia\" title=\"Estonia\">Estonia</a></td>\n",
      "<td>1,335,907</td>\n",
      "<td>1,328,361</td>\n",
      "<td align=\"center\"><span class=\"sortkey\" style=\"display:none\">7000200000000000000♠</span>2</td>\n",
      "<td>667,954</td>\n",
      "<td>664,181</td>\n",
      "<td>0.41%</td>\n",
      "</tr>\n",
      "<tr>\n",
      "<td align=\"center\"><span class=\"sortkey\" style=\"display:none\">7001430000000000000♠</span>43</td>\n",
      "<td align=\"center\"><span class=\"sortkey\" style=\"display:none\">7001440000000000000♠</span>44</td>\n",
      "<td style=\"text-align: left;\"><span class=\"flagicon\"><img alt=\"\" class=\"thumbborder\" data-file-height=\"630\" data-file-width=\"685\" height=\"17\" src=\"//upload.wikimedia.org/wikipedia/commons/thumb/f/f3/Flag_of_Rhode_Island.svg/19px-Flag_of_Rhode_Island.svg.png\" srcset=\"//upload.wikimedia.org/wikipedia/commons/thumb/f/f3/Flag_of_Rhode_Island.svg/28px-Flag_of_Rhode_Island.svg.png 1.5x, //upload.wikimedia.org/wikipedia/commons/thumb/f/f3/Flag_of_Rhode_Island.svg/37px-Flag_of_Rhode_Island.svg.png 2x\" width=\"19\"/> </span><a href=\"/wiki/Rhode_Island\" title=\"Rhode Island\">Rhode Island</a></td>\n",
      "<td><span class=\"flagicon\"><img alt=\"\" class=\"thumbborder\" data-file-height=\"400\" data-file-width=\"600\" height=\"15\" src=\"//upload.wikimedia.org/wikipedia/commons/thumb/3/34/Flag_of_Djibouti.svg/23px-Flag_of_Djibouti.svg.png\" srcset=\"//upload.wikimedia.org/wikipedia/commons/thumb/3/34/Flag_of_Djibouti.svg/35px-Flag_of_Djibouti.svg.png 1.5x, //upload.wikimedia.org/wikipedia/commons/thumb/3/34/Flag_of_Djibouti.svg/45px-Flag_of_Djibouti.svg.png 2x\" width=\"23\"/> </span><a href=\"/wiki/Djibouti\" title=\"Djibouti\">Djibouti</a></td>\n",
      "<td>1,059,639</td>\n",
      "<td>1,052,931</td>\n",
      "<td align=\"center\"><span class=\"sortkey\" style=\"display:none\">7000200000000000000♠</span>2</td>\n",
      "<td>529,820</td>\n",
      "<td>526,466</td>\n",
      "<td>0.33%</td>\n",
      "</tr>\n",
      "<tr>\n",
      "<td align=\"center\"><span class=\"sortkey\" style=\"display:none\">7001440000000000000♠</span>44</td>\n",
      "<td align=\"center\"><span class=\"sortkey\" style=\"display:none\">7001450000000000000♠</span>45</td>\n",
      "<td style=\"text-align: left;\"><span class=\"flagicon\"><img alt=\"\" class=\"thumbborder\" data-file-height=\"410\" data-file-width=\"615\" height=\"15\" src=\"//upload.wikimedia.org/wikipedia/commons/thumb/c/cb/Flag_of_Montana.svg/23px-Flag_of_Montana.svg.png\" srcset=\"//upload.wikimedia.org/wikipedia/commons/thumb/c/cb/Flag_of_Montana.svg/35px-Flag_of_Montana.svg.png 1.5x, //upload.wikimedia.org/wikipedia/commons/thumb/c/cb/Flag_of_Montana.svg/45px-Flag_of_Montana.svg.png 2x\" width=\"23\"/> </span><a href=\"/wiki/Montana\" title=\"Montana\">Montana</a></td>\n",
      "<td><span class=\"flagicon\"><img alt=\"\" class=\"thumbborder\" data-file-height=\"400\" data-file-width=\"600\" height=\"15\" src=\"//upload.wikimedia.org/wikipedia/commons/thumb/3/34/Flag_of_Djibouti.svg/23px-Flag_of_Djibouti.svg.png\" srcset=\"//upload.wikimedia.org/wikipedia/commons/thumb/3/34/Flag_of_Djibouti.svg/35px-Flag_of_Djibouti.svg.png 1.5x, //upload.wikimedia.org/wikipedia/commons/thumb/3/34/Flag_of_Djibouti.svg/45px-Flag_of_Djibouti.svg.png 2x\" width=\"23\"/> </span><a href=\"/wiki/Djibouti\" title=\"Djibouti\">Djibouti</a></td>\n",
      "<td>1,050,493</td>\n",
      "<td>989,417</td>\n",
      "<td align=\"center\"><span class=\"sortkey\" style=\"display:none\">7000100000000000000♠</span>1</td>\n",
      "<td>1,050,493</td>\n",
      "<td>989,417</td>\n",
      "<td>0.32%</td>\n",
      "</tr>\n",
      "<tr>\n",
      "<td align=\"center\"><span class=\"sortkey\" style=\"display:none\">7001450000000000000♠</span>45</td>\n",
      "<td align=\"center\"><span class=\"sortkey\" style=\"display:none\">7001460000000000000♠</span>46</td>\n",
      "<td style=\"text-align: left;\"><span class=\"flagicon\"><img alt=\"\" class=\"thumbborder\" data-file-height=\"400\" data-file-width=\"600\" height=\"15\" src=\"//upload.wikimedia.org/wikipedia/commons/thumb/c/c6/Flag_of_Delaware.svg/23px-Flag_of_Delaware.svg.png\" srcset=\"//upload.wikimedia.org/wikipedia/commons/thumb/c/c6/Flag_of_Delaware.svg/35px-Flag_of_Delaware.svg.png 1.5x, //upload.wikimedia.org/wikipedia/commons/thumb/c/c6/Flag_of_Delaware.svg/45px-Flag_of_Delaware.svg.png 2x\" width=\"23\"/> </span><a href=\"/wiki/Delaware\" title=\"Delaware\">Delaware</a></td>\n",
      "<td><span class=\"flagicon\"><img alt=\"\" class=\"thumbborder\" data-file-height=\"400\" data-file-width=\"600\" height=\"15\" src=\"//upload.wikimedia.org/wikipedia/commons/thumb/3/34/Flag_of_Djibouti.svg/23px-Flag_of_Djibouti.svg.png\" srcset=\"//upload.wikimedia.org/wikipedia/commons/thumb/3/34/Flag_of_Djibouti.svg/35px-Flag_of_Djibouti.svg.png 1.5x, //upload.wikimedia.org/wikipedia/commons/thumb/3/34/Flag_of_Djibouti.svg/45px-Flag_of_Djibouti.svg.png 2x\" width=\"23\"/> </span><a href=\"/wiki/Djibouti\" title=\"Djibouti\">Djibouti</a></td>\n",
      "<td>961,939</td>\n",
      "<td>897,936</td>\n",
      "<td align=\"center\"><span class=\"sortkey\" style=\"display:none\">7000100000000000000♠</span>1</td>\n",
      "<td>961,939</td>\n",
      "<td>897,936</td>\n",
      "<td>0.30%</td>\n",
      "</tr>\n",
      "<tr>\n",
      "<td align=\"center\"><span class=\"sortkey\" style=\"display:none\">7001460000000000000♠</span>46</td>\n",
      "<td align=\"center\"><span class=\"sortkey\" style=\"display:none\">7001470000000000000♠</span>47</td>\n",
      "<td style=\"text-align: left;\"><span class=\"flagicon\"><img alt=\"\" class=\"thumbborder\" data-file-height=\"450\" data-file-width=\"720\" height=\"14\" src=\"//upload.wikimedia.org/wikipedia/commons/thumb/1/1a/Flag_of_South_Dakota.svg/23px-Flag_of_South_Dakota.svg.png\" srcset=\"//upload.wikimedia.org/wikipedia/commons/thumb/1/1a/Flag_of_South_Dakota.svg/35px-Flag_of_South_Dakota.svg.png 1.5x, //upload.wikimedia.org/wikipedia/commons/thumb/1/1a/Flag_of_South_Dakota.svg/46px-Flag_of_South_Dakota.svg.png 2x\" width=\"23\"/> </span><a href=\"/wiki/South_Dakota\" title=\"South Dakota\">South Dakota</a></td>\n",
      "<td><span class=\"flagicon\"><img alt=\"\" class=\"thumbborder\" data-file-height=\"600\" data-file-width=\"900\" height=\"15\" src=\"//upload.wikimedia.org/wikipedia/commons/thumb/d/d4/Flag_of_Cyprus.svg/23px-Flag_of_Cyprus.svg.png\" srcset=\"//upload.wikimedia.org/wikipedia/commons/thumb/d/d4/Flag_of_Cyprus.svg/35px-Flag_of_Cyprus.svg.png 1.5x, //upload.wikimedia.org/wikipedia/commons/thumb/d/d4/Flag_of_Cyprus.svg/45px-Flag_of_Cyprus.svg.png 2x\" width=\"23\"/> </span><a href=\"/wiki/Cyprus\" title=\"Cyprus\">Cyprus</a></td>\n",
      "<td>869,666</td>\n",
      "<td>814,191</td>\n",
      "<td align=\"center\"><span class=\"sortkey\" style=\"display:none\">7000100000000000000♠</span>1</td>\n",
      "<td>869,666</td>\n",
      "<td>814,191</td>\n",
      "<td>0.27%</td>\n",
      "</tr>\n",
      "<tr>\n",
      "<td align=\"center\"><span class=\"sortkey\" style=\"display:none\">7001470000000000000♠</span>47</td>\n",
      "<td align=\"center\"><span class=\"sortkey\" style=\"display:none\">7001490000000000000♠</span>49</td>\n",
      "<td style=\"text-align: left;\"><span class=\"flagicon\"><img alt=\"\" class=\"thumbborder\" data-file-height=\"450\" data-file-width=\"575\" height=\"16\" src=\"//upload.wikimedia.org/wikipedia/commons/thumb/e/ee/Flag_of_North_Dakota.svg/21px-Flag_of_North_Dakota.svg.png\" srcset=\"//upload.wikimedia.org/wikipedia/commons/thumb/e/ee/Flag_of_North_Dakota.svg/31px-Flag_of_North_Dakota.svg.png 1.5x, //upload.wikimedia.org/wikipedia/commons/thumb/e/ee/Flag_of_North_Dakota.svg/41px-Flag_of_North_Dakota.svg.png 2x\" width=\"21\"/>  </span><a href=\"/wiki/North_Dakota\" title=\"North Dakota\">North Dakota</a></td>\n",
      "<td><span class=\"flagicon\"><img alt=\"\" class=\"thumbborder\" data-file-height=\"300\" data-file-width=\"500\" height=\"14\" src=\"//upload.wikimedia.org/wikipedia/commons/thumb/9/99/Flag_of_Guyana.svg/23px-Flag_of_Guyana.svg.png\" srcset=\"//upload.wikimedia.org/wikipedia/commons/thumb/9/99/Flag_of_Guyana.svg/35px-Flag_of_Guyana.svg.png 1.5x, //upload.wikimedia.org/wikipedia/commons/thumb/9/99/Flag_of_Guyana.svg/46px-Flag_of_Guyana.svg.png 2x\" width=\"23\"/> </span><a href=\"/wiki/Guyana\" title=\"Guyana\">Guyana</a></td>\n",
      "<td>755,393</td>\n",
      "<td>672,591</td>\n",
      "<td align=\"center\"><span class=\"sortkey\" style=\"display:none\">7000100000000000000♠</span>1</td>\n",
      "<td>755,393</td>\n",
      "<td>672,591</td>\n",
      "<td>0.24%</td>\n",
      "</tr>\n",
      "<tr>\n",
      "<td align=\"center\"><span class=\"sortkey\" style=\"display:none\">7001480000000000000♠</span>48</td>\n",
      "<td align=\"center\"><span class=\"sortkey\" style=\"display:none\">7001480000000000000♠</span>48</td>\n",
      "<td style=\"text-align: left;\"><span class=\"flagicon\"><img alt=\"\" class=\"thumbborder\" data-file-height=\"1000\" data-file-width=\"1416\" height=\"15\" src=\"//upload.wikimedia.org/wikipedia/commons/thumb/e/e6/Flag_of_Alaska.svg/21px-Flag_of_Alaska.svg.png\" srcset=\"//upload.wikimedia.org/wikipedia/commons/thumb/e/e6/Flag_of_Alaska.svg/33px-Flag_of_Alaska.svg.png 1.5x, //upload.wikimedia.org/wikipedia/commons/thumb/e/e6/Flag_of_Alaska.svg/43px-Flag_of_Alaska.svg.png 2x\" width=\"21\"/> </span><a href=\"/wiki/Alaska\" title=\"Alaska\">Alaska</a></td>\n",
      "<td><span class=\"flagicon\"><img alt=\"\" class=\"thumbborder\" data-file-height=\"300\" data-file-width=\"500\" height=\"14\" src=\"//upload.wikimedia.org/wikipedia/commons/thumb/9/99/Flag_of_Guyana.svg/23px-Flag_of_Guyana.svg.png\" srcset=\"//upload.wikimedia.org/wikipedia/commons/thumb/9/99/Flag_of_Guyana.svg/35px-Flag_of_Guyana.svg.png 1.5x, //upload.wikimedia.org/wikipedia/commons/thumb/9/99/Flag_of_Guyana.svg/46px-Flag_of_Guyana.svg.png 2x\" width=\"23\"/> </span><a href=\"/wiki/Guyana\" title=\"Guyana\">Guyana</a></td>\n",
      "<td>739,795</td>\n",
      "<td>710,249</td>\n",
      "<td align=\"center\"><span class=\"sortkey\" style=\"display:none\">7000100000000000000♠</span>1</td>\n",
      "<td>739,795</td>\n",
      "<td>710,249</td>\n",
      "<td>0.23%</td>\n",
      "</tr>\n",
      "<tr style=\"background:#f5f5e4;\">\n",
      "<td><span class=\"sortkey\" style=\"display:none\">7001610000000000000♠</span>—</td>\n",
      "<td align=\"center\"><span class=\"sortkey\" style=\"display:none\">7001510000000000000♠</span>51</td>\n",
      "<td style=\"text-align: left;\"><span class=\"flagicon\"><img alt=\"\" class=\"thumbborder\" data-file-height=\"400\" data-file-width=\"800\" height=\"12\" src=\"//upload.wikimedia.org/wikipedia/commons/thumb/d/d4/Flag_of_the_District_of_Columbia.svg/23px-Flag_of_the_District_of_Columbia.svg.png\" srcset=\"//upload.wikimedia.org/wikipedia/commons/thumb/d/d4/Flag_of_the_District_of_Columbia.svg/35px-Flag_of_the_District_of_Columbia.svg.png 1.5x, //upload.wikimedia.org/wikipedia/commons/thumb/d/d4/Flag_of_the_District_of_Columbia.svg/46px-Flag_of_the_District_of_Columbia.svg.png 2x\" width=\"23\"/> </span><a href=\"/wiki/Washington,_D.C.\" title=\"Washington, D.C.\">District of Columbia</a></td>\n",
      "<td><span class=\"flagicon\"><img alt=\"\" class=\"thumbborder\" data-file-height=\"320\" data-file-width=\"640\" height=\"12\" src=\"//upload.wikimedia.org/wikipedia/commons/thumb/6/64/Flag_of_Montenegro.svg/23px-Flag_of_Montenegro.svg.png\" srcset=\"//upload.wikimedia.org/wikipedia/commons/thumb/6/64/Flag_of_Montenegro.svg/35px-Flag_of_Montenegro.svg.png 1.5x, //upload.wikimedia.org/wikipedia/commons/thumb/6/64/Flag_of_Montenegro.svg/46px-Flag_of_Montenegro.svg.png 2x\" width=\"23\"/> </span><a href=\"/wiki/Montenegro\" title=\"Montenegro\">Montenegro</a></td>\n",
      "<td>693,972</td>\n",
      "<td>601,767</td>\n",
      "<td align=\"center\">1 (<a href=\"/wiki/Non-voting_members_of_the_United_States_House_of_Representatives#District_of_Columbia\" title=\"Non-voting members of the United States House of Representatives\">non-voting</a>)</td>\n",
      "<td>—</td>\n",
      "<td>—</td>\n",
      "<td>0.21%</td>\n",
      "</tr>\n",
      "<tr>\n",
      "<td align=\"center\"><span class=\"sortkey\" style=\"display:none\">7001490000000000000♠</span>49</td>\n",
      "<td align=\"center\"><span class=\"sortkey\" style=\"display:none\">7001500000000000000♠</span>50</td>\n",
      "<td style=\"text-align: left;\"><span class=\"flagicon\"><img alt=\"\" class=\"thumbborder\" data-file-height=\"450\" data-file-width=\"750\" height=\"14\" src=\"//upload.wikimedia.org/wikipedia/commons/thumb/4/49/Flag_of_Vermont.svg/23px-Flag_of_Vermont.svg.png\" srcset=\"//upload.wikimedia.org/wikipedia/commons/thumb/4/49/Flag_of_Vermont.svg/35px-Flag_of_Vermont.svg.png 1.5x, //upload.wikimedia.org/wikipedia/commons/thumb/4/49/Flag_of_Vermont.svg/46px-Flag_of_Vermont.svg.png 2x\" width=\"23\"/> </span><a href=\"/wiki/Vermont\" title=\"Vermont\">Vermont</a></td>\n",
      "<td><span class=\"flagicon\"><img alt=\"\" class=\"thumbborder\" data-file-height=\"320\" data-file-width=\"640\" height=\"12\" src=\"//upload.wikimedia.org/wikipedia/commons/thumb/6/64/Flag_of_Montenegro.svg/23px-Flag_of_Montenegro.svg.png\" srcset=\"//upload.wikimedia.org/wikipedia/commons/thumb/6/64/Flag_of_Montenegro.svg/35px-Flag_of_Montenegro.svg.png 1.5x, //upload.wikimedia.org/wikipedia/commons/thumb/6/64/Flag_of_Montenegro.svg/46px-Flag_of_Montenegro.svg.png 2x\" width=\"23\"/> </span><a href=\"/wiki/Montenegro\" title=\"Montenegro\">Montenegro</a></td>\n",
      "<td>623,657</td>\n",
      "<td>625,745</td>\n",
      "<td align=\"center\"><span class=\"sortkey\" style=\"display:none\">7000100000000000000♠</span>1</td>\n",
      "<td>623,657</td>\n",
      "<td>625,745</td>\n",
      "<td>0.19%</td>\n",
      "</tr>\n",
      "<tr>\n",
      "<td align=\"center\"><span class=\"sortkey\" style=\"display:none\">7001500000000000000♠</span>50</td>\n",
      "<td align=\"center\"><span class=\"sortkey\" style=\"display:none\">7001520000000000000♠</span>52</td>\n",
      "<td style=\"text-align: left;\"><span class=\"flagicon\"><img alt=\"\" class=\"thumbborder\" data-file-height=\"700\" data-file-width=\"1000\" height=\"15\" src=\"//upload.wikimedia.org/wikipedia/commons/thumb/b/bc/Flag_of_Wyoming.svg/22px-Flag_of_Wyoming.svg.png\" srcset=\"//upload.wikimedia.org/wikipedia/commons/thumb/b/bc/Flag_of_Wyoming.svg/33px-Flag_of_Wyoming.svg.png 1.5x, //upload.wikimedia.org/wikipedia/commons/thumb/b/bc/Flag_of_Wyoming.svg/43px-Flag_of_Wyoming.svg.png 2x\" width=\"22\"/> </span><a href=\"/wiki/Wyoming\" title=\"Wyoming\">Wyoming</a></td>\n",
      "<td><span class=\"flagicon\"><img alt=\"\" class=\"thumbborder\" data-file-height=\"320\" data-file-width=\"640\" height=\"12\" src=\"//upload.wikimedia.org/wikipedia/commons/thumb/6/64/Flag_of_Montenegro.svg/23px-Flag_of_Montenegro.svg.png\" srcset=\"//upload.wikimedia.org/wikipedia/commons/thumb/6/64/Flag_of_Montenegro.svg/35px-Flag_of_Montenegro.svg.png 1.5x, //upload.wikimedia.org/wikipedia/commons/thumb/6/64/Flag_of_Montenegro.svg/46px-Flag_of_Montenegro.svg.png 2x\" width=\"23\"/> </span><a href=\"/wiki/Montenegro\" title=\"Montenegro\">Montenegro</a></td>\n",
      "<td>579,315</td>\n",
      "<td>563,767</td>\n",
      "<td align=\"center\"><span class=\"sortkey\" style=\"display:none\">7000100000000000000♠</span>1</td>\n",
      "<td>579,315</td>\n",
      "<td>563,767</td>\n",
      "<td>0.18%</td>\n",
      "</tr>\n",
      "<tr style=\"background:#f5f5d3;\">\n",
      "<td><span class=\"sortkey\" style=\"display:none\">7001720000000000000♠</span>—</td>\n",
      "<td align=\"center\"><span class=\"sortkey\" style=\"display:none\">7001530000000000000♠</span>53</td>\n",
      "<td style=\"text-align: left;\"><span class=\"flagicon\"><img alt=\"\" class=\"thumbborder\" data-file-height=\"413\" data-file-width=\"769\" height=\"12\" src=\"//upload.wikimedia.org/wikipedia/commons/thumb/0/07/Flag_of_Guam.svg/23px-Flag_of_Guam.svg.png\" srcset=\"//upload.wikimedia.org/wikipedia/commons/thumb/0/07/Flag_of_Guam.svg/35px-Flag_of_Guam.svg.png 1.5x, //upload.wikimedia.org/wikipedia/commons/thumb/0/07/Flag_of_Guam.svg/46px-Flag_of_Guam.svg.png 2x\" width=\"23\"/> </span><a href=\"/wiki/Guam\" title=\"Guam\">Guam</a></td>\n",
      "<td>—</td>\n",
      "<td>167,358</td>\n",
      "<td>159,358<sup class=\"reference\" id=\"cite_ref-6\"><a href=\"#cite_note-6\">[5]</a></sup></td>\n",
      "<td align=\"center\">1 (<a href=\"/wiki/Non-voting_members_of_the_United_States_House_of_Representatives#Guam\" title=\"Non-voting members of the United States House of Representatives\">non-voting</a>)</td>\n",
      "<td>—</td>\n",
      "<td>—</td>\n",
      "<td>0.06%</td>\n",
      "</tr>\n",
      "<tr style=\"background:#f5f5d3;\">\n",
      "<td><span class=\"sortkey\" style=\"display:none\">7001730000000000000♠</span>—</td>\n",
      "<td align=\"center\"><span class=\"sortkey\" style=\"display:none\">7001540000000000000♠</span>54</td>\n",
      "<td style=\"text-align: left;\"><span class=\"flagicon\"><img alt=\"\" class=\"thumbborder\" data-file-height=\"850\" data-file-width=\"1276\" height=\"15\" src=\"//upload.wikimedia.org/wikipedia/commons/thumb/f/f8/Flag_of_the_United_States_Virgin_Islands.svg/23px-Flag_of_the_United_States_Virgin_Islands.svg.png\" srcset=\"//upload.wikimedia.org/wikipedia/commons/thumb/f/f8/Flag_of_the_United_States_Virgin_Islands.svg/35px-Flag_of_the_United_States_Virgin_Islands.svg.png 1.5x, //upload.wikimedia.org/wikipedia/commons/thumb/f/f8/Flag_of_the_United_States_Virgin_Islands.svg/45px-Flag_of_the_United_States_Virgin_Islands.svg.png 2x\" width=\"23\"/> </span><a href=\"/wiki/United_States_Virgin_Islands\" title=\"United States Virgin Islands\">U.S. Virgin Islands</a></td>\n",
      "<td>—</td>\n",
      "<td>107,268</td>\n",
      "<td>106,405<sup class=\"reference\" id=\"cite_ref-7\"><a href=\"#cite_note-7\">[6]</a></sup></td>\n",
      "<td align=\"center\">1 (<a href=\"/wiki/Non-voting_members_of_the_United_States_House_of_Representatives#The_Virgin_Islands\" title=\"Non-voting members of the United States House of Representatives\">non-voting</a>)</td>\n",
      "<td>—</td>\n",
      "<td>—</td>\n",
      "<td>0.04%</td>\n",
      "</tr>\n",
      "<tr style=\"background:#f5f5d3;\">\n",
      "<td><span class=\"sortkey\" style=\"display:none\">7001740000000000000♠</span>—</td>\n",
      "<td align=\"center\"><span class=\"sortkey\" style=\"display:none\">7001550000000000000♠</span>55</td>\n",
      "<td style=\"text-align: left;\"><span class=\"flagicon\"><img alt=\"\" class=\"thumbborder\" data-file-height=\"500\" data-file-width=\"1000\" height=\"12\" src=\"//upload.wikimedia.org/wikipedia/commons/thumb/8/87/Flag_of_American_Samoa.svg/23px-Flag_of_American_Samoa.svg.png\" srcset=\"//upload.wikimedia.org/wikipedia/commons/thumb/8/87/Flag_of_American_Samoa.svg/35px-Flag_of_American_Samoa.svg.png 1.5x, //upload.wikimedia.org/wikipedia/commons/thumb/8/87/Flag_of_American_Samoa.svg/46px-Flag_of_American_Samoa.svg.png 2x\" width=\"23\"/> </span><a href=\"/wiki/American_Samoa\" title=\"American Samoa\">American Samoa</a></td>\n",
      "<td>—</td>\n",
      "<td>51,504</td>\n",
      "<td>55,519<sup class=\"reference\" id=\"cite_ref-8\"><a href=\"#cite_note-8\">[7]</a></sup></td>\n",
      "<td align=\"center\">1 (<a href=\"/wiki/Non-voting_members_of_the_United_States_House_of_Representatives#American_Samoa\" title=\"Non-voting members of the United States House of Representatives\">non-voting</a>)</td>\n",
      "<td>—</td>\n",
      "<td>—</td>\n",
      "<td>0.01%</td>\n",
      "</tr>\n",
      "<tr style=\"background:#f5f5d3;\">\n",
      "<td><span class=\"sortkey\" style=\"display:none\">7001750000000000000♠</span>—</td>\n",
      "<td align=\"center\"><span class=\"sortkey\" style=\"display:none\">7001560000000000000♠</span>56</td>\n",
      "<td style=\"text-align: left;\"><span class=\"flagicon\"><img alt=\"\" class=\"thumbborder\" data-file-height=\"500\" data-file-width=\"1000\" height=\"12\" src=\"//upload.wikimedia.org/wikipedia/commons/thumb/e/e0/Flag_of_the_Northern_Mariana_Islands.svg/23px-Flag_of_the_Northern_Mariana_Islands.svg.png\" srcset=\"//upload.wikimedia.org/wikipedia/commons/thumb/e/e0/Flag_of_the_Northern_Mariana_Islands.svg/35px-Flag_of_the_Northern_Mariana_Islands.svg.png 1.5x, //upload.wikimedia.org/wikipedia/commons/thumb/e/e0/Flag_of_the_Northern_Mariana_Islands.svg/46px-Flag_of_the_Northern_Mariana_Islands.svg.png 2x\" width=\"23\"/> </span><a href=\"/wiki/Northern_Mariana_Islands\" title=\"Northern Mariana Islands\">Northern Mariana Islands</a></td>\n",
      "<td>—</td>\n",
      "<td>52,263</td>\n",
      "<td>53,883<sup class=\"reference\" id=\"cite_ref-9\"><a href=\"#cite_note-9\">[8]</a></sup></td>\n",
      "<td align=\"center\">1 (<a href=\"/wiki/Non-voting_members_of_the_United_States_House_of_Representatives#Northern_Mariana_Islands\" title=\"Non-voting members of the United States House of Representatives\">non-voting</a>)</td>\n",
      "<td>—</td>\n",
      "<td>—</td>\n",
      "<td>0.00%</td>\n",
      "</tr>\n",
      "<tr style=\"background:#f5f5d3;\">\n",
      "<td><span class=\"sortkey\" style=\"display:none\">7001760000000000000♠</span>—</td>\n",
      "<td align=\"center\"><span class=\"sortkey\" style=\"display:none\">7001570000000000000♠</span>57</td>\n",
      "<td style=\"text-align: left;\"><span class=\"flagicon\"><img alt=\"\" class=\"thumbborder\" data-file-height=\"480\" data-file-width=\"800\" height=\"14\" src=\"//upload.wikimedia.org/wikipedia/commons/thumb/2/2a/Flag_of_the_Midway_Islands_%28local%29.svg/23px-Flag_of_the_Midway_Islands_%28local%29.svg.png\" srcset=\"//upload.wikimedia.org/wikipedia/commons/thumb/2/2a/Flag_of_the_Midway_Islands_%28local%29.svg/35px-Flag_of_the_Midway_Islands_%28local%29.svg.png 1.5x, //upload.wikimedia.org/wikipedia/commons/thumb/2/2a/Flag_of_the_Midway_Islands_%28local%29.svg/46px-Flag_of_the_Midway_Islands_%28local%29.svg.png 2x\" width=\"23\"/> </span><a href=\"/wiki/Midway_Atoll\" title=\"Midway Atoll\">Midway Atoll</a></td>\n",
      "<td>—</td>\n",
      "<td>40</td>\n",
      "<td>2,220</td>\n",
      "<td align=\"center\">0</td>\n",
      "<td>—</td>\n",
      "<td>—</td>\n",
      "<td>0.00%</td>\n",
      "</tr>\n",
      "<tr style=\"background:#f5f5d3;\">\n",
      "<td><span class=\"sortkey\" style=\"display:none\">7001770000000000000♠</span>—</td>\n",
      "<td align=\"center\"><span class=\"sortkey\" style=\"display:none\">7001580000000000000♠</span>58</td>\n",
      "<td style=\"text-align: left;\"><span class=\"flagicon\"><img alt=\"\" class=\"thumbborder\" data-file-height=\"600\" data-file-width=\"1000\" height=\"14\" src=\"//upload.wikimedia.org/wikipedia/commons/thumb/e/e5/Flag_of_Johnston_Atoll_%28local%29.svg/23px-Flag_of_Johnston_Atoll_%28local%29.svg.png\" srcset=\"//upload.wikimedia.org/wikipedia/commons/thumb/e/e5/Flag_of_Johnston_Atoll_%28local%29.svg/35px-Flag_of_Johnston_Atoll_%28local%29.svg.png 1.5x, //upload.wikimedia.org/wikipedia/commons/thumb/e/e5/Flag_of_Johnston_Atoll_%28local%29.svg/46px-Flag_of_Johnston_Atoll_%28local%29.svg.png 2x\" width=\"23\"/> </span><a href=\"/wiki/Johnston_Atoll\" title=\"Johnston Atoll\">Johnston Atoll</a></td>\n",
      "<td>—</td>\n",
      "<td>0</td>\n",
      "<td>1,100</td>\n",
      "<td align=\"center\">0</td>\n",
      "<td>—</td>\n",
      "<td>—</td>\n",
      "<td>0.00%</td>\n",
      "</tr>\n",
      "<tr style=\"background:#f5f5d3;\">\n",
      "<td><span class=\"sortkey\" style=\"display:none\">7001780000000000000♠</span>—</td>\n",
      "<td align=\"center\"><span class=\"sortkey\" style=\"display:none\">7001590000000000000♠</span>59</td>\n",
      "<td style=\"text-align: left;\"><span class=\"flagicon\"><img alt=\"\" class=\"thumbborder\" data-file-height=\"650\" data-file-width=\"1235\" height=\"12\" src=\"//upload.wikimedia.org/wikipedia/en/thumb/a/a4/Flag_of_the_United_States.svg/23px-Flag_of_the_United_States.svg.png\" srcset=\"//upload.wikimedia.org/wikipedia/en/thumb/a/a4/Flag_of_the_United_States.svg/35px-Flag_of_the_United_States.svg.png 1.5x, //upload.wikimedia.org/wikipedia/en/thumb/a/a4/Flag_of_the_United_States.svg/46px-Flag_of_the_United_States.svg.png 2x\" width=\"23\"/> </span><a href=\"/wiki/Wake_Island\" title=\"Wake Island\">Wake Island</a></td>\n",
      "<td>—</td>\n",
      "<td>150</td>\n",
      "<td>382</td>\n",
      "<td align=\"center\">0</td>\n",
      "<td>—</td>\n",
      "<td>—</td>\n",
      "<td>0.00%</td>\n",
      "</tr>\n",
      "<tr style=\"background:#f5f5d3;\">\n",
      "<td><span class=\"sortkey\" style=\"display:none\">7001800000000000000♠</span>—</td>\n",
      "<td align=\"center\"><span class=\"sortkey\" style=\"display:none\">7001600000000000000♠</span>60</td>\n",
      "<td style=\"text-align: left;\"><span class=\"flagicon\"><img alt=\"\" class=\"thumbborder\" data-file-height=\"600\" data-file-width=\"900\" height=\"15\" src=\"//upload.wikimedia.org/wikipedia/commons/thumb/a/a3/Flag_of_Palmyra_Atoll_%28local%29.svg/23px-Flag_of_Palmyra_Atoll_%28local%29.svg.png\" srcset=\"//upload.wikimedia.org/wikipedia/commons/thumb/a/a3/Flag_of_Palmyra_Atoll_%28local%29.svg/35px-Flag_of_Palmyra_Atoll_%28local%29.svg.png 1.5x, //upload.wikimedia.org/wikipedia/commons/thumb/a/a3/Flag_of_Palmyra_Atoll_%28local%29.svg/45px-Flag_of_Palmyra_Atoll_%28local%29.svg.png 2x\" width=\"23\"/> </span><a href=\"/wiki/Palmyra_Atoll\" title=\"Palmyra Atoll\">Palmyra Atoll</a></td>\n",
      "<td>—</td>\n",
      "<td>20</td>\n",
      "<td>20</td>\n",
      "<td align=\"center\">0</td>\n",
      "<td>—</td>\n",
      "<td>—</td>\n",
      "<td>0.00%</td>\n",
      "</tr>\n",
      "<tr style=\"background:#f5f5d3;\">\n",
      "<td><span class=\"sortkey\" style=\"display:none\">7001810000000000000♠</span>—</td>\n",
      "<td align=\"center\">—</td>\n",
      "<td style=\"text-align: left;\"><span class=\"flagicon\"><img alt=\"\" class=\"thumbborder\" data-file-height=\"650\" data-file-width=\"1235\" height=\"12\" src=\"//upload.wikimedia.org/wikipedia/en/thumb/a/a4/Flag_of_the_United_States.svg/23px-Flag_of_the_United_States.svg.png\" srcset=\"//upload.wikimedia.org/wikipedia/en/thumb/a/a4/Flag_of_the_United_States.svg/35px-Flag_of_the_United_States.svg.png 1.5x, //upload.wikimedia.org/wikipedia/en/thumb/a/a4/Flag_of_the_United_States.svg/46px-Flag_of_the_United_States.svg.png 2x\" width=\"23\"/> </span><a href=\"/wiki/Baker_Island\" title=\"Baker Island\">Baker Island</a></td>\n",
      "<td>—</td>\n",
      "<td>—</td>\n",
      "<td>—</td>\n",
      "<td align=\"center\">0</td>\n",
      "<td>—</td>\n",
      "<td>—</td>\n",
      "<td>0.00%</td>\n",
      "</tr>\n",
      "<tr style=\"background:#f5f5d3;\">\n",
      "<td><span class=\"sortkey\" style=\"display:none\">7001820000000000000♠</span>—</td>\n",
      "<td align=\"center\">—</td>\n",
      "<td style=\"text-align: left;\"><span class=\"flagicon\"><img alt=\"\" class=\"thumbborder\" data-file-height=\"650\" data-file-width=\"1235\" height=\"12\" src=\"//upload.wikimedia.org/wikipedia/en/thumb/a/a4/Flag_of_the_United_States.svg/23px-Flag_of_the_United_States.svg.png\" srcset=\"//upload.wikimedia.org/wikipedia/en/thumb/a/a4/Flag_of_the_United_States.svg/35px-Flag_of_the_United_States.svg.png 1.5x, //upload.wikimedia.org/wikipedia/en/thumb/a/a4/Flag_of_the_United_States.svg/46px-Flag_of_the_United_States.svg.png 2x\" width=\"23\"/> </span><a href=\"/wiki/Howland_Island\" title=\"Howland Island\">Howland Island</a></td>\n",
      "<td>—</td>\n",
      "<td>0</td>\n",
      "<td>—</td>\n",
      "<td align=\"center\">0</td>\n",
      "<td>—</td>\n",
      "<td>—</td>\n",
      "<td>0.00%</td>\n",
      "</tr>\n",
      "<tr style=\"background:#f5f5d3;\">\n",
      "<td><span class=\"sortkey\" style=\"display:none\">7001830000000000000♠</span>—</td>\n",
      "<td align=\"center\">—</td>\n",
      "<td style=\"text-align: left;\"><span class=\"flagicon\"><img alt=\"\" class=\"thumbborder\" data-file-height=\"650\" data-file-width=\"1235\" height=\"12\" src=\"//upload.wikimedia.org/wikipedia/en/thumb/a/a4/Flag_of_the_United_States.svg/23px-Flag_of_the_United_States.svg.png\" srcset=\"//upload.wikimedia.org/wikipedia/en/thumb/a/a4/Flag_of_the_United_States.svg/35px-Flag_of_the_United_States.svg.png 1.5x, //upload.wikimedia.org/wikipedia/en/thumb/a/a4/Flag_of_the_United_States.svg/46px-Flag_of_the_United_States.svg.png 2x\" width=\"23\"/> </span><a href=\"/wiki/Jarvis_Island\" title=\"Jarvis Island\">Jarvis Island</a></td>\n",
      "<td>—</td>\n",
      "<td>0</td>\n",
      "<td>—</td>\n",
      "<td align=\"center\">0</td>\n",
      "<td>—</td>\n",
      "<td>—</td>\n",
      "<td>0.00%</td>\n",
      "</tr>\n",
      "<tr style=\"background:#f5f5d3;\">\n",
      "<td><span class=\"sortkey\" style=\"display:none\">7001840000000000000♠</span>—</td>\n",
      "<td align=\"center\">—</td>\n",
      "<td style=\"text-align: left;\"><span class=\"flagicon\"><img alt=\"\" class=\"thumbborder\" data-file-height=\"650\" data-file-width=\"1235\" height=\"12\" src=\"//upload.wikimedia.org/wikipedia/en/thumb/a/a4/Flag_of_the_United_States.svg/23px-Flag_of_the_United_States.svg.png\" srcset=\"//upload.wikimedia.org/wikipedia/en/thumb/a/a4/Flag_of_the_United_States.svg/35px-Flag_of_the_United_States.svg.png 1.5x, //upload.wikimedia.org/wikipedia/en/thumb/a/a4/Flag_of_the_United_States.svg/46px-Flag_of_the_United_States.svg.png 2x\" width=\"23\"/> </span><a href=\"/wiki/Kingman_Reef\" title=\"Kingman Reef\">Kingman Reef</a></td>\n",
      "<td>—</td>\n",
      "<td>0</td>\n",
      "<td>—</td>\n",
      "<td align=\"center\">0</td>\n",
      "<td>—</td>\n",
      "<td>—</td>\n",
      "<td>0.00%</td>\n",
      "</tr>\n",
      "<tr style=\"background:#f5f5d3;\">\n",
      "<td><span class=\"sortkey\" style=\"display:none\">7001850000000000000♠</span>—</td>\n",
      "<td align=\"center\">—</td>\n",
      "<td style=\"text-align: left;\"><a href=\"/wiki/Navassa_Island\" title=\"Navassa Island\">Navassa Island</a></td>\n",
      "<td>—</td>\n",
      "<td>0</td>\n",
      "<td>—</td>\n",
      "<td align=\"center\">0</td>\n",
      "<td>—</td>\n",
      "<td>—</td>\n",
      "<td>0.00%</td>\n",
      "</tr>\n",
      "<tr style=\"background:#f5f5d3;\">\n",
      "<td><span class=\"sortkey\" style=\"display:none\">7001860000000000000♠</span>—</td>\n",
      "<td align=\"center\">—</td>\n",
      "<td style=\"text-align: left;\"><a href=\"/wiki/Serranilla_Bank\" title=\"Serranilla Bank\">Serranilla Bank</a></td>\n",
      "<td>—</td>\n",
      "<td>—</td>\n",
      "<td>—</td>\n",
      "<td align=\"center\">0</td>\n",
      "<td>—</td>\n",
      "<td>—</td>\n",
      "<td>0.00%</td>\n",
      "</tr>\n",
      "<tr style=\"background:#f5f5d3;\">\n",
      "<td><span class=\"sortkey\" style=\"display:none\">7001870000000000000♠</span>—</td>\n",
      "<td align=\"center\">—</td>\n",
      "<td style=\"text-align: left;\"><a href=\"/wiki/Bajo_Nuevo_Bank\" title=\"Bajo Nuevo Bank\">Bajo Nuevo Bank</a></td>\n",
      "<td>—</td>\n",
      "<td>—</td>\n",
      "<td>—</td>\n",
      "<td align=\"center\">0</td>\n",
      "<td>—</td>\n",
      "<td>—</td>\n",
      "<td>0.00%</td>\n",
      "</tr>\n",
      "<tr class=\"sortbottom\" style=\"background:#d4d4cc;\">\n",
      "<td><span class=\"sortkey\" style=\"display:none\">7001870000000000000♠</span>—</td>\n",
      "<td><span class=\"sortkey\" style=\"display:none\">7001870000000000000♠</span>—</td>\n",
      "<td style=\"text-align: left;\"><b><a href=\"/wiki/Contiguous_United_States\" title=\"Contiguous United States\">Contiguous United States</a></b></td>\n",
      "<td>—</td>\n",
      "<td>323,551,845</td>\n",
      "<td>306,687,555</td>\n",
      "<td>432 (+ 1 <a href=\"/wiki/Non-voting_members_of_the_United_States_House_of_Representatives\" title=\"Non-voting members of the United States House of Representatives\">non-voting</a>)</td>\n",
      "<td>—</td>\n",
      "<td>—</td>\n",
      "<td>98.18%</td>\n",
      "</tr>\n",
      "<tr class=\"sortbottom\" style=\"background:lightgrey;\">\n",
      "<td><span class=\"sortkey\" style=\"display:none\">7001820000000000000♠</span>—</td>\n",
      "<td><span class=\"sortkey\" style=\"display:none\">7001820000000000000♠</span>—</td>\n",
      "<td style=\"text-align: left;\"><b>The fifty states</b></td>\n",
      "<td>—</td>\n",
      "<td>325,025,206</td>\n",
      "<td>308,156,338</td>\n",
      "<td>435</td>\n",
      "<td>737,348</td>\n",
      "<td>708,376</td>\n",
      "<td>98.48%</td>\n",
      "</tr>\n",
      "<tr class=\"sortbottom\" style=\"background:#d4d4cc;\">\n",
      "<td><span class=\"sortkey\" style=\"display:none\">7001830000000000000♠</span>—</td>\n",
      "<td><span class=\"sortkey\" style=\"display:none\">7001830000000000000♠</span>—</td>\n",
      "<td style=\"text-align: left;\"><b>Fifty states + D.C.</b></td>\n",
      "<td>—</td>\n",
      "<td>325,719,178</td>\n",
      "<td>308,758,105</td>\n",
      "<td>435 (+ 1 <a href=\"/wiki/Non-voting_members_of_the_United_States_House_of_Representatives\" title=\"Non-voting members of the United States House of Representatives\">non-voting</a>)</td>\n",
      "<td>—</td>\n",
      "<td>—</td>\n",
      "<td>98.67%</td>\n",
      "</tr>\n",
      "<tr class=\"sortbottom\" style=\"background:#d6d6c3;\">\n",
      "<td><span class=\"sortkey\" style=\"display:none\">7001840000000000000♠</span>—</td>\n",
      "<td><span class=\"sortkey\" style=\"display:none\">7001840000000000000♠</span>—</td>\n",
      "<td style=\"text-align: left;\"><b>Total U.S. (including D.C. and territories)</b></td>\n",
      "<td>—</td>\n",
      "<td>329,432,060</td>\n",
      "<td>312,913,872</td>\n",
      "<td>435 (+ 6 <a href=\"/wiki/Non-voting_members_of_the_United_States_House_of_Representatives\" title=\"Non-voting members of the United States House of Representatives\">non-voting</a>)</td>\n",
      "<td>—</td>\n",
      "<td>—</td>\n",
      "<td>100.00%</td>\n",
      "</tr>\n",
      "</table>\n"
     ]
    }
   ],
   "source": [
    "# 1c) Extracting Tables\n",
    "\n",
    "# In order to extract the data we want, we'll start with extracting a data table of interest. \n",
    "#  Note that you can see this table by going to look at the link we scraped.\n",
    "# Use the soup object and call a method called find, which will and extract the first table in scraped webpage. \n",
    "#  Note: you need to search for the name 'table', and set the 'class_' argument as 'wikitable sortable'.\n",
    "\n",
    "# YOUR CODE HERE\n",
    "right_table = soup.find('table', attrs={'class':'wikitable sortable'})\n",
    "print(right_table)"
   ]
  },
  {
   "cell_type": "code",
   "execution_count": 10,
   "metadata": {
    "deletable": false,
    "editable": false,
    "nbgrader": {
     "checksum": "410073a57bc12f34587a7795bbbd852b",
     "grade": true,
     "grade_id": "cell-6a079fac89c3332c",
     "locked": true,
     "points": 0.5,
     "schema_version": 1,
     "solution": false
    }
   },
   "outputs": [],
   "source": [
    "assert right_table\n",
    "assert isinstance(right_table, bs4.element.Tag)\n",
    "assert right_table.name == 'table'"
   ]
  },
  {
   "cell_type": "code",
   "execution_count": 11,
   "metadata": {
    "collapsed": true,
    "deletable": false,
    "editable": false,
    "nbgrader": {
     "checksum": "c2d4694252bd5b0f9d973cedba0946e8",
     "grade": false,
     "grade_id": "cell-6219dfad1bd6ba7b",
     "locked": true,
     "schema_version": 1,
     "solution": false
    }
   },
   "outputs": [],
   "source": [
    "# Extract the data from the table into lists.\n",
    "#  Note: This code provided for you. Do read through it and try to see how it works.\n",
    "\n",
    "lst_a, lst_b, lst_c = [], [], []\n",
    "\n",
    "for row in right_table.findAll('tr'):\n",
    "    \n",
    "    cells = row.findAll('td')\n",
    "    \n",
    "    # Skips rows that aren't 10 columns long (like the heading)\n",
    "    if len(cells) != 10:\n",
    "        continue\n",
    "\n",
    "    # This catches when the name cells stops having a link\n",
    "    #  and ends, skipping the last (summary rows)\n",
    "    try:\n",
    "        lst_a.append(cells[2].find('a').text)\n",
    "        lst_b.append(cells[4].find(text=True))\n",
    "        lst_c.append(cells[5].find(text=True))\n",
    "    except:\n",
    "        break"
   ]
  },
  {
   "cell_type": "code",
   "execution_count": 12,
   "metadata": {
    "deletable": false,
    "nbgrader": {
     "checksum": "4c75c47a485558ac3428c3773830b2ea",
     "grade": false,
     "grade_id": "cell-3b72a498799ef251",
     "locked": false,
     "schema_version": 1,
     "solution": true
    }
   },
   "outputs": [
    {
     "name": "stdout",
     "output_type": "stream",
     "text": [
      "                         Population Estimate Census Population\n",
      "State                                                         \n",
      "California                        39,536,653        37,252,895\n",
      "Texas                             28,304,596        25,146,105\n",
      "Florida                           20,984,400        18,804,623\n",
      "New York                          19,849,399        19,378,087\n",
      "Pennsylvania                      12,805,537        12,702,887\n",
      "Illinois                          12,802,023        12,831,549\n",
      "Ohio                              11,658,609        11,536,725\n",
      "Georgia                           10,429,379         9,688,681\n",
      "North Carolina                    10,273,419         9,535,692\n",
      "Michigan                           9,962,311         9,884,129\n",
      "New Jersey                         9,005,644         8,791,936\n",
      "Virginia                           8,470,020         8,001,045\n",
      "Washington                         7,405,743         6,724,543\n",
      "Arizona                            7,016,270         6,392,307\n",
      "Massachusetts                      6,859,819         6,547,817\n",
      "Tennessee                          6,715,984         6,346,275\n",
      "Indiana                            6,666,818         6,484,229\n",
      "Missouri                           6,113,532         5,988,927\n",
      "Maryland                           6,052,177         5,773,785\n",
      "Wisconsin                          5,795,483         5,687,289\n",
      "Colorado                           5,607,154         5,029,324\n",
      "Minnesota                          5,576,606         5,303,925\n",
      "South Carolina                     5,024,369         4,625,401\n",
      "Alabama                            4,874,747         4,780,127\n",
      "Louisiana                          4,684,333         4,533,479\n",
      "Kentucky                           4,454,189         4,339,349\n",
      "Oregon                             4,142,776         3,831,073\n",
      "Oklahoma                           3,930,864         3,751,616\n",
      "Connecticut                        3,588,184         3,574,118\n",
      "Puerto Rico                        3,337,177         3,726,157\n",
      "...                                      ...               ...\n",
      "West Virginia                      1,815,857         1,853,011\n",
      "Idaho                              1,716,943         1,567,652\n",
      "Hawaii                             1,427,538         1,360,301\n",
      "New Hampshire                      1,342,795         1,316,466\n",
      "Maine                              1,335,907         1,328,361\n",
      "Rhode Island                       1,059,639         1,052,931\n",
      "Montana                            1,050,493           989,417\n",
      "Delaware                             961,939           897,936\n",
      "South Dakota                         869,666           814,191\n",
      "North Dakota                         755,393           672,591\n",
      "Alaska                               739,795           710,249\n",
      "District of Columbia                 693,972           601,767\n",
      "Vermont                              623,657           625,745\n",
      "Wyoming                              579,315           563,767\n",
      "Guam                                 167,358           159,358\n",
      "U.S. Virgin Islands                  107,268           106,405\n",
      "American Samoa                        51,504            55,519\n",
      "Northern Mariana Islands              52,263            53,883\n",
      "Midway Atoll                              40             2,220\n",
      "Johnston Atoll                             0             1,100\n",
      "Wake Island                              150               382\n",
      "Palmyra Atoll                             20                20\n",
      "Baker Island                               —                 —\n",
      "Howland Island                             0                 —\n",
      "Jarvis Island                              0                 —\n",
      "Kingman Reef                               0                 —\n",
      "Navassa Island                             0                 —\n",
      "Serranilla Bank                            —                 —\n",
      "Bajo Nuevo Bank                            —                 —\n",
      "Contiguous United States         323,551,845       306,687,555\n",
      "\n",
      "[68 rows x 2 columns]\n"
     ]
    }
   ],
   "source": [
    "# 1d) Collecting into a dataframe\n",
    "\n",
    "# Create a dataframe 'my_df' and add the data from the lists above to it. \n",
    "#  'lst_a' is the state or territory name. Set the column name as 'State', and make this the index\n",
    "#  'lst_b' is the population estimate. Add it to the dataframe, and set the column name as 'Population Estimate'\n",
    "#  'lst_c' is the census population. Add it to the dataframe, and set the column name as 'Census Population'\n",
    "\n",
    "# YOUR CODE HERE\n",
    "my_df = pd.DataFrame({'State': lst_a, 'Population Estimate': lst_b, 'Census Population': lst_c})\n",
    "my_df = my_df.set_index('State')\n",
    "my_df = my_df[['Population Estimate', 'Census Population']]\n",
    "print(my_df)\n"
   ]
  },
  {
   "cell_type": "code",
   "execution_count": 13,
   "metadata": {
    "deletable": false,
    "editable": false,
    "nbgrader": {
     "checksum": "2513c3a8257e82e2789c4709dbf70488",
     "grade": true,
     "grade_id": "cell-406fc7a4b3d93852",
     "locked": true,
     "points": 0.5,
     "schema_version": 1,
     "solution": false
    }
   },
   "outputs": [],
   "source": [
    "assert isinstance (my_df, pd.DataFrame)\n",
    "assert my_df.index.name == 'State'\n",
    "assert list(my_df.columns) == ['Population Estimate', 'Census Population']\n"
   ]
  },
  {
   "cell_type": "code",
   "execution_count": 14,
   "metadata": {
    "deletable": false,
    "nbgrader": {
     "checksum": "04bb731afd119f67f7b280a0c684420b",
     "grade": false,
     "grade_id": "cell-552f1cceb6530fef",
     "locked": false,
     "schema_version": 1,
     "solution": true
    }
   },
   "outputs": [
    {
     "name": "stdout",
     "output_type": "stream",
     "text": [
      "39,536,653\n"
     ]
    }
   ],
   "source": [
    "# 1e) Using the data\n",
    "# What is the Population Estimate of California? Save this answer to a variable called 'calif_pop'\n",
    "# Notes:\n",
    "#  Extract this value programmatically from your dataframe (as in, don't set it explicitly, as 'cf = 123')\n",
    "#    You can use '.loc' to extract a particular value from a dataframe.\n",
    "#  The data in your dataframe will be strings - that's fine, leave them as strings (don't typecast).\n",
    "\n",
    "# YOUR CODE HERE\n",
    "calif_pop = my_df.loc[\"California\", \"Population Estimate\"]\n",
    "print(calif_pop)\n",
    "\n",
    "\n"
   ]
  },
  {
   "cell_type": "code",
   "execution_count": 15,
   "metadata": {
    "deletable": false,
    "editable": false,
    "nbgrader": {
     "checksum": "21a3ae96ee9a898e0e1cba4371c9dd11",
     "grade": true,
     "grade_id": "cell-00910bf76609b48e",
     "locked": true,
     "points": 0.5,
     "schema_version": 1,
     "solution": false
    }
   },
   "outputs": [],
   "source": [
    "assert calif_pop\n"
   ]
  },
  {
   "cell_type": "markdown",
   "metadata": {
    "deletable": false,
    "editable": false,
    "nbgrader": {
     "checksum": "486c6798edf0e518657ce5e65244601c",
     "grade": false,
     "grade_id": "p1-title",
     "locked": true,
     "schema_version": 1,
     "solution": false
    }
   },
   "source": [
    "## Part 2: Identifying Data"
   ]
  },
  {
   "cell_type": "markdown",
   "metadata": {
    "deletable": false,
    "editable": false,
    "nbgrader": {
     "checksum": "4296e9303d0b9997e5919024b4dc1734",
     "grade": false,
     "grade_id": "p1-desc",
     "locked": true,
     "schema_version": 1,
     "solution": false
    }
   },
   "source": [
    "Data Files:\n",
    "- anon_user_dat.json\n",
    "- employee_info.json\n",
    "\n",
    "You will first be working with a file called 'anon_user_dat.json'. This file that contains information about some (fake) Tinder users. When creating an account, each Tinder user was asked to provide their first name, last name, work email (to verify the disclosed workplace), age, gender, phone # and zip code. Before releasing this data, a data scientist cleaned the data to protect the privacy of Tinder's users by removing the obvious personal identifiers: phone #, zip code, and IP address. However, the data scientist chose to keep each users' email addresses because when they visually skimmed a couple of the email addresses none of them seemed to have any of the user's actual names in them. This is where the data scientist made a huge mistake!\n",
    "\n",
    "We will take advantage of having the work email addresses by finding the employee information of different companies and matching that employee information with the information we have, in order to identify the names of the secret Tinder users!"
   ]
  },
  {
   "cell_type": "code",
   "execution_count": 16,
   "metadata": {
    "deletable": false,
    "nbgrader": {
     "checksum": "4cc07f1511b85ba053b9bbc64f9b49c6",
     "grade": false,
     "grade_id": "1a",
     "locked": false,
     "schema_version": 1,
     "solution": true
    }
   },
   "outputs": [
    {
     "name": "stdout",
     "output_type": "stream",
     "text": [
      "     age                           email  gender\n",
      "0     60     gshoreson0@seattletimes.com    Male\n",
      "1     47              eweaben1@salon.com  Female\n",
      "2     27         akillerby2@gravatar.com    Male\n",
      "3     46               gsainz3@zdnet.com    Male\n",
      "4     72        bdanilewicz4@4shared.com    Male\n",
      "5     46       sdeerness5@wikispaces.com  Female\n",
      "6     53          jstillwell6@ustream.tv  Female\n",
      "7     29          mpriestland7@opera.com    Male\n",
      "8     39        nerickssen8@hatena.ne.jp  Female\n",
      "9     45              hparsell9@xing.com    Male\n",
      "10    26                 acopasa@fda.gov    Male\n",
      "11    83        bdanielovitchb@jigsy.com    Male\n",
      "12    73              cwestbergc@psu.edu  Female\n",
      "13    30          jlarived@goodreads.com  Female\n",
      "14    69             mchallisse@ning.com  Female\n",
      "15    29            cbrognotf@ebay.co.uk    Male\n",
      "16    45              aphearg@tumblr.com    Male\n",
      "17     3             askogginsh@jugem.jp  Female\n",
      "18    34       eondraseki@deviantart.com  Female\n",
      "19    37                 kcaswallj@is.gd  Female\n",
      "20    53          cpetrillok@cbsnews.com    Male\n",
      "21    58             bstratfordl@ted.com  Female\n",
      "22    83     mandreichikm@shareasale.com    Male\n",
      "23    47              jsegarn@sfgate.com    Male\n",
      "24    51        aurridgeo@purevolume.com    Male\n",
      "25    65                njandap@ebay.com    Male\n",
      "26    26             lwathallq@exblog.jp  Female\n",
      "27    57      aoveringtonr@canalblog.com  Female\n",
      "28    39                dbrellins@ft.com  Female\n",
      "29    26              ebukact@toplist.cz  Female\n",
      "..   ...                             ...     ...\n",
      "970   47        dsessionsqy@sakura.ne.jp  Female\n",
      "971   25      vkondratenkoqz@cornell.edu    Male\n",
      "972   43         tbrethertonr0@lycos.com  Female\n",
      "973   65        srenfrewr1@shinystat.com  Female\n",
      "974   47       jjoiceyr2@theatlantic.com    Male\n",
      "975   20           bborleacer3@naver.com    Male\n",
      "976   33         lmackeer4@reference.com  Female\n",
      "977   37         mpaolicchir5@utexas.edu  Female\n",
      "978   52              lgaliar6@lycos.com  Female\n",
      "979   25  ldemcakr7@networksolutions.com  Female\n",
      "980   35            ide giorgior8@360.cn    Male\n",
      "981   41            mmctrustyr9@jugem.jp    Male\n",
      "982   63           ekohnra@amazonaws.com    Male\n",
      "983   35        mmillmorerb@hatena.ne.jp    Male\n",
      "984   20           lchaudrellerc@soup.io    Male\n",
      "985   43            iavramovitzrd@ft.com  Female\n",
      "986   32         rreaneyre@canalblog.com  Female\n",
      "987   30    sscawnrf@businessinsider.com    Male\n",
      "988   48         lharbronrg@slashdot.org    Male\n",
      "989   37              pgurnayrh@uiuc.edu    Male\n",
      "990   31                 ckyngeri@hp.com  Female\n",
      "991   55     cboothroydrj@yellowbook.com    None\n",
      "992   14             kbrunkerrk@hibu.com    Male\n",
      "993   65             sleallerl@wikia.com  Female\n",
      "994   38          kbeefonrm@vkontakte.ru  Female\n",
      "995    3           pstroulgerrn@time.com  Female\n",
      "996   49     kbasnettro@seattletimes.com  Female\n",
      "997   75     pmortlockrp@liveinternet.ru    Male\n",
      "998   81            sphetterq@toplist.cz    Male\n",
      "999   70           jtyresrr@slashdot.org    Male\n",
      "\n",
      "[1000 rows x 3 columns]\n"
     ]
    }
   ],
   "source": [
    "# 2a) Load in the 'cleaned' data \n",
    "\n",
    "# Load the json file into a pandas dataframe. Call it 'df_personal'.\n",
    "\n",
    "# YOUR CODE HERE\n",
    "df_personal = pd.read_json('anon_user_dat.json')\n",
    "print(df_personal)\n"
   ]
  },
  {
   "cell_type": "code",
   "execution_count": 17,
   "metadata": {
    "collapsed": true,
    "deletable": false,
    "editable": false,
    "nbgrader": {
     "checksum": "61909bf161ee3e26eaca9c2f1a52fd41",
     "grade": true,
     "grade_id": "1a-tests",
     "locked": true,
     "points": 0.5,
     "schema_version": 1,
     "solution": false
    }
   },
   "outputs": [],
   "source": [
    "assert isinstance(df_personal, pd.DataFrame)\n"
   ]
  },
  {
   "cell_type": "code",
   "execution_count": 18,
   "metadata": {
    "deletable": false,
    "nbgrader": {
     "checksum": "7fb39c47226cd7f94cc245d51747b746",
     "grade": false,
     "grade_id": "1b",
     "locked": false,
     "schema_version": 1,
     "solution": true
    }
   },
   "outputs": [
    {
     "name": "stdout",
     "output_type": "stream",
     "text": [
      "(60, gshoreson0@seattletimes.com, Male)   NaN\n",
      "(47, eweaben1@salon.com, Female)          NaN\n",
      "(27, akillerby2@gravatar.com, Male)       NaN\n",
      "(46, gsainz3@zdnet.com, Male)             NaN\n",
      "(72, bdanilewicz4@4shared.com, Male)      NaN\n",
      "(46, sdeerness5@wikispaces.com, Female)   NaN\n",
      "(53, jstillwell6@ustream.tv, Female)      NaN\n",
      "(29, mpriestland7@opera.com, Male)        NaN\n",
      "(39, nerickssen8@hatena.ne.jp, Female)    NaN\n",
      "(45, hparsell9@xing.com, Male)            NaN\n",
      "dtype: float64\n"
     ]
    }
   ],
   "source": [
    "# 2b) Check the first 10 emails \n",
    "\n",
    "# Save the first 10 emails to a Series, and call it 'sample_emails'. \n",
    "# You should then and print out this Series. \n",
    "# The purpose of this is to get a sense of how these work emails are structured\n",
    "#   and how we could possibly extract where each anonymous user seems to work.\n",
    "\n",
    "# YOUR CODE HERE\n",
    "#sample_emails = df_personal.loc[0:9, \"email\"]\n",
    "#print(sample_emails)\n",
    "sample_emails = pd.Series(index=df_personal.head(n=10))\n",
    "print(sample_emails)"
   ]
  },
  {
   "cell_type": "code",
   "execution_count": 19,
   "metadata": {
    "collapsed": true,
    "deletable": false,
    "editable": false,
    "nbgrader": {
     "checksum": "e5d7c945a4d2cc76ba068baf15641d43",
     "grade": true,
     "grade_id": "1b-tests",
     "locked": true,
     "points": 0.5,
     "schema_version": 1,
     "solution": false
    }
   },
   "outputs": [],
   "source": [
    "assert isinstance(sample_emails, pd.Series)\n"
   ]
  },
  {
   "cell_type": "code",
   "execution_count": 20,
   "metadata": {
    "deletable": false,
    "nbgrader": {
     "checksum": "b61be355079651582175dccbace705a5",
     "grade": false,
     "grade_id": "1c",
     "locked": false,
     "schema_version": 1,
     "solution": true
    }
   },
   "outputs": [],
   "source": [
    "# 2c) Extract the Company Name From the Email \n",
    "\n",
    "# Create a function with the following specifications:\n",
    "#   Function Name: extract_company\n",
    "#   Purpose: to extract the company of the email \n",
    "#          (i.e., everything after the @ sign but before the .)\n",
    "#   Parameter(s): email (string)\n",
    "#   Returns: The extracted part of the email (string)\n",
    "#   Hint: This should take 1 line of code. Look into the find('') method. \n",
    "#\n",
    "# You can start with this outline:\n",
    "#   def extract_company(email):\n",
    "#      return \n",
    "#\n",
    "# Example Usage: \n",
    "#   extract_company(\"larhe@uber.com\") should return \"uber\"\n",
    "#   extract_company(“ds@cogs.edu”) should return “cogs”\n",
    "\n",
    "\n",
    "# YOUR CODE HERE\n",
    "def extract_company(email):\n",
    "    try:       \n",
    "        return email.split(\"@\")[1].rstrip(\".com\")\n",
    "    except:        \n",
    "        return 'not a domain'"
   ]
  },
  {
   "cell_type": "code",
   "execution_count": 21,
   "metadata": {
    "deletable": false,
    "editable": false,
    "nbgrader": {
     "checksum": "06225023bd1fad52a5f8e084753af2fb",
     "grade": true,
     "grade_id": "1c-tests",
     "locked": true,
     "points": 1,
     "schema_version": 1,
     "solution": false
    }
   },
   "outputs": [],
   "source": [
    "assert extract_company(\"gshoreson0@seattletimes.com\") == \"seattletimes\"\n"
   ]
  },
  {
   "cell_type": "markdown",
   "metadata": {
    "deletable": false,
    "editable": false,
    "nbgrader": {
     "checksum": "2ef7d9e3ecb79343b5b35d3aa70891a8",
     "grade": false,
     "grade_id": "info",
     "locked": true,
     "schema_version": 1,
     "solution": false
    }
   },
   "source": [
    "With a little bit of basic sleuthing (aka googling) and web-scraping (aka selectively reading in html code) it turns out that you've been able to collect information about all the present employees/interns of the companies you are interested in. Specifically, on each company website, you have found the name, gender, and age of its employees. You have saved that info in employee_info.json and plan to see if, using this new information, you can match the Tinder accounts to actual names."
   ]
  },
  {
   "cell_type": "code",
   "execution_count": 22,
   "metadata": {
    "deletable": false,
    "nbgrader": {
     "checksum": "ad3fb36e40e8bb9b629a4d6830c71729",
     "grade": false,
     "grade_id": "1d",
     "locked": false,
     "schema_version": 1,
     "solution": true
    }
   },
   "outputs": [
    {
     "name": "stdout",
     "output_type": "stream",
     "text": [
      "     age      company first_name  gender        last_name\n",
      "0     42      123-reg  Inglebert    Male         Falconer\n",
      "1     14          163     Rafael    Male         Bedenham\n",
      "2     31          163     Lemuel    Male             Lind\n",
      "3     45          163      Penny  Female          Pennone\n",
      "4     52          163       Elva  Female         Crighton\n",
      "5     55         1688   Herminia  Female            Sisse\n",
      "6     30        1und1       Toby  Female           Nisuis\n",
      "7     36        1und1     Kylynn  Female         Vedikhov\n",
      "8     37        1und1     Mychal    None          Denison\n",
      "9     32          360    Angelle  Female           Kupisz\n",
      "10    35          360     Ilario    Male          Mannagh\n",
      "11    41          360     Farley    Male        Mullenger\n",
      "12     5      4shared   Ginnifer  Female           Jarret\n",
      "13    72      4shared      Brody    Male         Pinckard\n",
      "14    30           51     Samara    None           Soares\n",
      "15    50           51     Gillie  Female      Shillinglaw\n",
      "16    70           51    Stanton    Male            Rehme\n",
      "17     8          abc      Lukas    Male             Krol\n",
      "18    22          abc      Glory  Female      Silverthorn\n",
      "19    27        about      Marla  Female          Forsard\n",
      "20    44        about     Karita  Female           Cantos\n",
      "21    57        about    Isidora  Female       Yanyushkin\n",
      "22    61     aboutads   Nikolaus    Male         Haulkham\n",
      "23    34  accuweather   Sinclair    Male         Leverett\n",
      "24    60  accuweather     Ilyssa  Female         Ottewill\n",
      "25    36      addthis     Flossi  Female     Metheringham\n",
      "26    20        admin      Ashby    Male           Gwilym\n",
      "27    52        alexa     Carrol    Male        Terlinden\n",
      "28    14      alibaba    Zebulon    Male          Gasnoll\n",
      "29    38      alibaba     Celina  Female          Santoro\n",
      "..   ...          ...        ...     ...              ...\n",
      "970   40         yale   Violette  Female            Walsh\n",
      "971   48         yale    Bobette  Female         Hurndall\n",
      "972   65         yale    Gwenore  Female            Arens\n",
      "973   72         yale       Mord    Male             Fant\n",
      "974   20       yandex    Lennard    Male           Ducroe\n",
      "975   42       yandex    Garwood    Male          Prophet\n",
      "976   43       yandex    Pernell    Male           Reeman\n",
      "977   57       yandex       Alic    Male         Peachman\n",
      "978   59  ycombinator     Lenore  Female          Broxton\n",
      "979   55   yellowbook   Charlena    None          Johncey\n",
      "980   10  yellowpages        Rab    Male         Goldsack\n",
      "981   24  yellowpages     Berthe  Female     Valentinuzzi\n",
      "982   37  yellowpages    Elliott    Male              Oki\n",
      "983   61  yellowpages     Moises    Male         Lansdale\n",
      "984   15     yolasite       Gale    Male           Boorne\n",
      "985   34     yolasite     Briney  Female  Grafton-Herbert\n",
      "986   25        youku  Philomena  Female        Cranstoun\n",
      "987   32        youku     Dianna  Female        Handyside\n",
      "988   41        youku        May  Female         Sellwood\n",
      "989   50        youku    Humfrey    Male         Wheelton\n",
      "990   56        youku   Marchall    Male           Bilbee\n",
      "991   38        youtu    Carroll  Female       Bertwistle\n",
      "992   39        youtu  Claudette  Female          Gabotti\n",
      "993   65        youtu      Tyler    Male       Giacovazzo\n",
      "994    3      youtube     Herman    Male          Dhennin\n",
      "995   46        zdnet      Guido    Male          Comfort\n",
      "996   48        zdnet      Biron    Male        Malkinson\n",
      "997   27       zimbio      Becka  Female            Waryk\n",
      "998   34       zimbio   Andreana  Female          Ladewig\n",
      "999   75       zimbio     Jobyna  Female            Busek\n",
      "\n",
      "[1000 rows x 5 columns]\n"
     ]
    }
   ],
   "source": [
    "# 2d) Load in employee data \n",
    "\n",
    "# Load the json file into a pandas dataframe. Call it 'df_employee'.\n",
    "\n",
    "# YOUR CODE HERE\n",
    "df_employee = pd.read_json('employee_info.json')\n",
    "print(df_employee)"
   ]
  },
  {
   "cell_type": "code",
   "execution_count": 23,
   "metadata": {
    "collapsed": true,
    "deletable": false,
    "editable": false,
    "nbgrader": {
     "checksum": "cd93c56e6879c7b8b50c7317bd3e1246",
     "grade": true,
     "grade_id": "1d-tests",
     "locked": true,
     "points": 0.5,
     "schema_version": 1,
     "solution": false
    }
   },
   "outputs": [],
   "source": [
    "assert isinstance(df_employee, pd.DataFrame)\n"
   ]
  },
  {
   "cell_type": "code",
   "execution_count": 24,
   "metadata": {
    "deletable": false,
    "nbgrader": {
     "checksum": "fc07ea1ae1be13b991d48f428cac7b37",
     "grade": false,
     "grade_id": "1e",
     "locked": false,
     "schema_version": 1,
     "solution": true
    }
   },
   "outputs": [],
   "source": [
    "# 2e) Match the employee name with company, age, gender \n",
    "\n",
    "# Create a function with the following specifications:\n",
    "#   Function name: employee_matcher\n",
    "#   Purpose: to match the employee name with the provided company, age, and gender\n",
    "#   Parameter(s): company (string), age (int), gender (string)\n",
    "#   Returns: The employee first_name and last_name like this: return first_name, last_name \n",
    "#   Note: If there are multiple employees that fit the same description, first_name and \n",
    "#         last_name should return a list of all possible first names and last name\n",
    "#         i.e., ['Desmund', 'Kelby'], ['Shepley', 'Tichner']\n",
    "#\n",
    "# Hint:\n",
    "# There are many different ways to code this.\n",
    "# 1) An unelegant solution is to loop through df_employee \n",
    "#    and for each data item see if the company, age, and gender match\n",
    "#    i.e., for i in range(0, len(df_employee)):\n",
    "#              if (company == df_employee.ix[i,'company']):\n",
    "#\n",
    "# However! The solution above is very inefficient and long, \n",
    "# so you should try to look into this:\n",
    "# 2) Google the df.loc method: It extracts pieces of the dataframe\n",
    "#    if it fulfills a certain condition.\n",
    "#    i.e., df_employee.loc[df_employee['company'] == company]\n",
    "#    If you need to convert your pandas data series into a list,\n",
    "#    you can do list(result) where result is a pandas \"series\"\n",
    "# \n",
    "# You can start with this outline:\n",
    "#   def employee_matcher(company, age, gender):\n",
    "#      return first_name, last_name\n",
    "\n",
    "# YOUR CODE HERE\n",
    "def employee_matcher(company, age, gender):\n",
    "    name = df_employee.loc[(df_employee['company']==company) & (df_employee['age']==age) & (df_employee['gender']==gender)]\n",
    "    first_name = list(name['first_name'])\n",
    "    last_name = list(name['last_name'])\n",
    "    return first_name, last_name\n"
   ]
  },
  {
   "cell_type": "code",
   "execution_count": 25,
   "metadata": {
    "deletable": false,
    "editable": false,
    "nbgrader": {
     "checksum": "3f713cf00c84495d3bea5ba76d0f7e6a",
     "grade": true,
     "grade_id": "1e-tests",
     "locked": true,
     "points": 1,
     "schema_version": 1,
     "solution": false
    }
   },
   "outputs": [],
   "source": [
    "assert employee_matcher(\"google\", 41, \"Male\") == (['Maxwell'], ['Jorio'])\n",
    "assert employee_matcher(\"salon\", 47, \"Female\") == (['Elenore'], ['Gravett'])\n"
   ]
  },
  {
   "cell_type": "code",
   "execution_count": 26,
   "metadata": {
    "deletable": false,
    "nbgrader": {
     "checksum": "eb565b364684e43f855d5ff731384879",
     "grade": false,
     "grade_id": "1f",
     "locked": false,
     "schema_version": 1,
     "solution": true
    }
   },
   "outputs": [
    {
     "name": "stderr",
     "output_type": "stream",
     "text": [
      "/Users/Sitarah/anaconda3/lib/python3.6/site-packages/ipykernel_launcher.py:13: DeprecationWarning: \n",
      ".ix is deprecated. Please use\n",
      ".loc for label based indexing or\n",
      ".iloc for positional indexing\n",
      "\n",
      "See the documentation here:\n",
      "http://pandas.pydata.org/pandas-docs/stable/indexing.html#ix-indexer-is-deprecated\n",
      "  del sys.path[0]\n"
     ]
    }
   ],
   "source": [
    "# 2f) Extract all the private data \n",
    "\n",
    "# - Create 2 empty lists called 'first_names' and 'last_names'\n",
    "# - Loop through all the people we are trying to identify in df_personal\n",
    "# - Call the extract_company function (i.e., extract_company(df_personal.ix[i, 'email']) )\n",
    "# - Call the employee_matcher function \n",
    "# - Append the results of employee_matcher to the appropriate lists (first_names and last_names)\n",
    "\n",
    "# YOUR CODE HERE\n",
    "first_names = [] \n",
    "last_names= []\n",
    "for i in df_personal.index:\n",
    "    comp = extract_company(df_personal.ix[i, 'email'])\n",
    "    first, last = employee_matcher(comp, df_personal.ix[i,'age'], df_personal.ix[i,'gender'])\n",
    "    first_names.append(first)\n",
    "    last_names.append(last)"
   ]
  },
  {
   "cell_type": "code",
   "execution_count": 27,
   "metadata": {
    "deletable": false,
    "editable": false,
    "nbgrader": {
     "checksum": "60add6c068758eb6abcaa30879d2b7af",
     "grade": true,
     "grade_id": "1f-tests",
     "locked": true,
     "points": 1,
     "schema_version": 1,
     "solution": false
    }
   },
   "outputs": [
    {
     "ename": "AssertionError",
     "evalue": "",
     "output_type": "error",
     "traceback": [
      "\u001b[0;31m---------------------------------------------------------------------------\u001b[0m",
      "\u001b[0;31mAssertionError\u001b[0m                            Traceback (most recent call last)",
      "\u001b[0;32m<ipython-input-27-650250ba7c3a>\u001b[0m in \u001b[0;36m<module>\u001b[0;34m()\u001b[0m\n\u001b[0;32m----> 1\u001b[0;31m \u001b[0;32massert\u001b[0m \u001b[0mfirst_names\u001b[0m\u001b[0;34m[\u001b[0m\u001b[0;36m45\u001b[0m\u001b[0;34m:\u001b[0m\u001b[0;36m50\u001b[0m\u001b[0;34m]\u001b[0m\u001b[0;34m==\u001b[0m \u001b[0;34m[\u001b[0m\u001b[0;34m[\u001b[0m\u001b[0;34m'Justino'\u001b[0m\u001b[0;34m]\u001b[0m\u001b[0;34m,\u001b[0m \u001b[0;34m[\u001b[0m\u001b[0;34m'Tadio'\u001b[0m\u001b[0;34m]\u001b[0m\u001b[0;34m,\u001b[0m \u001b[0;34m[\u001b[0m\u001b[0;34m'Kennith'\u001b[0m\u001b[0;34m]\u001b[0m\u001b[0;34m,\u001b[0m \u001b[0;34m[\u001b[0m\u001b[0;34m'Cedric'\u001b[0m\u001b[0;34m]\u001b[0m\u001b[0;34m,\u001b[0m \u001b[0;34m[\u001b[0m\u001b[0;34m'Amargo'\u001b[0m\u001b[0;34m]\u001b[0m\u001b[0;34m]\u001b[0m\u001b[0;34m\u001b[0m\u001b[0m\n\u001b[0m\u001b[1;32m      2\u001b[0m \u001b[0;32massert\u001b[0m \u001b[0mlast_names\u001b[0m\u001b[0;34m[\u001b[0m\u001b[0;36m45\u001b[0m\u001b[0;34m:\u001b[0m\u001b[0;36m50\u001b[0m\u001b[0;34m]\u001b[0m \u001b[0;34m==\u001b[0m \u001b[0;34m[\u001b[0m\u001b[0;34m[\u001b[0m\u001b[0;34m'Corro'\u001b[0m\u001b[0;34m]\u001b[0m\u001b[0;34m,\u001b[0m \u001b[0;34m[\u001b[0m\u001b[0;34m'Blackford'\u001b[0m\u001b[0;34m]\u001b[0m\u001b[0;34m,\u001b[0m \u001b[0;34m[\u001b[0m\u001b[0;34m'Milton'\u001b[0m\u001b[0;34m]\u001b[0m\u001b[0;34m,\u001b[0m \u001b[0;34m[\u001b[0m\u001b[0;34m'Yggo'\u001b[0m\u001b[0;34m]\u001b[0m\u001b[0;34m,\u001b[0m \u001b[0;34m[\u001b[0m\u001b[0;34m'Grigor'\u001b[0m\u001b[0;34m]\u001b[0m\u001b[0;34m]\u001b[0m\u001b[0;34m\u001b[0m\u001b[0m\n",
      "\u001b[0;31mAssertionError\u001b[0m: "
     ]
    }
   ],
   "source": [
    "assert first_names[45:50]== [['Justino'], ['Tadio'], ['Kennith'], ['Cedric'], ['Amargo']]\n",
    "assert last_names[45:50] == [['Corro'], ['Blackford'], ['Milton'], ['Yggo'], ['Grigor']]\n"
   ]
  },
  {
   "cell_type": "code",
   "execution_count": null,
   "metadata": {
    "deletable": false,
    "editable": false,
    "nbgrader": {
     "checksum": "797556598e2b8c2406f949635a108850",
     "grade": false,
     "grade_id": "1g",
     "locked": true,
     "schema_version": 1,
     "solution": false
    }
   },
   "outputs": [],
   "source": [
    "# 2g) Add the names to the original 'secure' dataset! \n",
    "\n",
    "# We have done this last step for you below, all you need to do is run this cell.\n",
    "# For your own personal enjoyment, you should also print out\n",
    "#   the new df_personal with the identified people. \n",
    "\n",
    "df_personal['first_name'] = first_names\n",
    "df_personal['last_name'] = last_names"
   ]
  },
  {
   "cell_type": "markdown",
   "metadata": {
    "deletable": false,
    "editable": false,
    "nbgrader": {
     "checksum": "220e03ead46597189f618c88f0088bcc",
     "grade": false,
     "grade_id": "wrap-p1",
     "locked": true,
     "schema_version": 1,
     "solution": false
    }
   },
   "source": [
    "We have now just discovered the 'anonymous' identities of all the registered Tinder users...awkward."
   ]
  },
  {
   "cell_type": "markdown",
   "metadata": {
    "deletable": false,
    "editable": false,
    "nbgrader": {
     "checksum": "975e9008d46096fe811a216ea5f2b0d3",
     "grade": false,
     "grade_id": "p2-title",
     "locked": true,
     "schema_version": 1,
     "solution": false
    }
   },
   "source": [
    "## Part 3: Anonymize Data"
   ]
  },
  {
   "cell_type": "markdown",
   "metadata": {
    "deletable": false,
    "editable": false,
    "nbgrader": {
     "checksum": "28f7733eb649c467c1e05df6a0287439",
     "grade": false,
     "grade_id": "p2-desc",
     "locked": true,
     "schema_version": 1,
     "solution": false
    }
   },
   "source": [
    "You are hopefully now convinced that with some seemingly harmless data a hacker can pretty easily discover the identities of certain users. Thus, we will now clean the original Tinder data ourselves according to the Safe Harbor Method in order to make sure that it has been *properly* cleaned..."
   ]
  },
  {
   "cell_type": "code",
   "execution_count": null,
   "metadata": {
    "deletable": false,
    "nbgrader": {
     "checksum": "89e65ce9092dc3ace07ed9f7e32b2fc1",
     "grade": false,
     "grade_id": "2a",
     "locked": false,
     "schema_version": 1,
     "solution": true
    }
   },
   "outputs": [],
   "source": [
    "# 3a) Load in personal data \n",
    "\n",
    "# Load the user_dat.json file into a pandas dataframe. Call it 'df_users'.\n",
    "# Note: You might find that using the same method as A2 (or above) leads to an error.\n",
    "# The file has a slightly different organization. \n",
    "#   Try googling the error and finding the fix for it.\n",
    "# Hint: you can still use 'pd.read_json', you just need to add another argument.\n",
    "# YOUR CODE HERE\n",
    "df_users = pd.read_json('user_dat.json', lines=True)\n",
    "print(df_users)"
   ]
  },
  {
   "cell_type": "code",
   "execution_count": null,
   "metadata": {
    "deletable": false,
    "editable": false,
    "nbgrader": {
     "checksum": "5ec60d4634be90d7f87fd0bd248755cd",
     "grade": true,
     "grade_id": "2a-tests",
     "locked": true,
     "points": 0.5,
     "schema_version": 1,
     "solution": false
    }
   },
   "outputs": [],
   "source": [
    "assert isinstance(df_users, pd.DataFrame)\n"
   ]
  },
  {
   "cell_type": "code",
   "execution_count": null,
   "metadata": {
    "deletable": false,
    "nbgrader": {
     "checksum": "912a843843c85ea7007bfa6fe034ecb0",
     "grade": false,
     "grade_id": "2b",
     "locked": false,
     "schema_version": 1,
     "solution": true
    }
   },
   "outputs": [],
   "source": [
    "# 3b) Drop personal attributes \n",
    "\n",
    "# Remove any personal information, following the Safe Harbour method.\n",
    "# Based on the Safe Harbour method, remove any columns from df_users that contain personal information.\n",
    "#   Note that details on the Safe Harbour method are covered in the Tutorials.\n",
    "\n",
    "# YOUR CODE HERE\n",
    "del df_users['first_name']\n",
    "del df_users['last_name']\n",
    "del df_users['email']\n",
    "del df_users['phone']\n",
    "del df_users['ip_address']"
   ]
  },
  {
   "cell_type": "code",
   "execution_count": null,
   "metadata": {
    "deletable": false,
    "editable": false,
    "nbgrader": {
     "checksum": "aaaa4402b823f36919d4953dcd89ebba",
     "grade": true,
     "grade_id": "2b-tests",
     "locked": true,
     "points": 0.5,
     "schema_version": 1,
     "solution": false
    }
   },
   "outputs": [],
   "source": [
    "assert len(df_users.columns) == 3\n"
   ]
  },
  {
   "cell_type": "code",
   "execution_count": null,
   "metadata": {
    "deletable": false,
    "nbgrader": {
     "checksum": "2055761795183edb7258b03b76270898",
     "grade": false,
     "grade_id": "2c",
     "locked": false,
     "schema_version": 1,
     "solution": true
    }
   },
   "outputs": [],
   "source": [
    "# 3c) Drop ages that are above 90 \n",
    "\n",
    "# Safe Harbour rule C:\n",
    "#   Drop all the rows which have age greater than 90 from df_users\n",
    "\n",
    "# YOUR CODE HERE\n",
    "df_users = df_users[df_users.age <= 90]\n",
    "print(df_users)"
   ]
  },
  {
   "cell_type": "code",
   "execution_count": null,
   "metadata": {
    "deletable": false,
    "editable": false,
    "nbgrader": {
     "checksum": "0bf95b9f32e8c6f695d2850814459daa",
     "grade": true,
     "grade_id": "2c-tests",
     "locked": true,
     "points": 0.5,
     "schema_version": 1,
     "solution": false
    }
   },
   "outputs": [],
   "source": [
    "assert df_users.shape == (993, 3)\n"
   ]
  },
  {
   "cell_type": "code",
   "execution_count": null,
   "metadata": {
    "deletable": false,
    "nbgrader": {
     "checksum": "f4745cc6348949495135886a90078d9d",
     "grade": false,
     "grade_id": "2d",
     "locked": false,
     "schema_version": 1,
     "solution": true
    }
   },
   "outputs": [],
   "source": [
    "# 3d) Load in zip code data \n",
    "\n",
    "# Load the zip_pop.csv file into a (different) pandas dataframe. Call it 'df_zip'.\n",
    "# Note that the zip data should be read in as strings, not ints, as would be the default. \n",
    "# In read_csv, use the parameter 'dtype' to specify to read 'zip' as str, and 'population' as int.\n",
    "\n",
    "# YOUR CODE HERE\n",
    "#df_zip =  pd.read_csv('zip_pop.csv', 'dtype', engine = 'python')\n",
    "df_zip = pd.read_csv('zip_pop.csv', dtype = {'zip': str, 'population': int})\n",
    "df_zip.drop_duplicates('zip', inplace = True)"
   ]
  },
  {
   "cell_type": "code",
   "execution_count": null,
   "metadata": {
    "collapsed": true,
    "deletable": false,
    "editable": false,
    "nbgrader": {
     "checksum": "78a50c8e93d6577339c9611bdd7eaaa8",
     "grade": true,
     "grade_id": "2d-tests",
     "locked": true,
     "points": 0.5,
     "schema_version": 1,
     "solution": false
    }
   },
   "outputs": [],
   "source": [
    "assert isinstance(df_zip, pd.DataFrame)\n"
   ]
  },
  {
   "cell_type": "code",
   "execution_count": null,
   "metadata": {
    "deletable": false,
    "nbgrader": {
     "checksum": "9cc339bd36e3b2c3813c6852608d87cc",
     "grade": false,
     "grade_id": "2e",
     "locked": false,
     "schema_version": 1,
     "solution": true
    }
   },
   "outputs": [],
   "source": [
    "# 3e) Sort zipcodes into \"Geographic Subdivision\" \n",
    "\n",
    "# The Safe Harbour Method applies to \"Geographic Subdivisions\"\n",
    "#   as opposed to each zipcode itself. \n",
    "# Geographic Subdivision:\n",
    "#   All areas which share the first 3 digits of a zip code\n",
    "#\n",
    "# Count the total population for each geographic subdivision\n",
    "# Warning: you have to be savy with a dictionary here\n",
    "# To understand how a dictionary works, check the section materials,\n",
    "#   use google and go to discussion sections!\n",
    "#\n",
    "# Instructions: \n",
    "# - Create an empty dictionary: zip_dict = {}\n",
    "# - Loop through all the zip_codes in df_zip\n",
    "# - Create a dictionary key for the first 3 digits of a zip_code in zip_dict\n",
    "# - Continually add population counts to the key that contains the \n",
    "#     same first 3 digits of the zip code\n",
    "#\n",
    "# To extract the population you will find this code useful:\n",
    "#   population = list(df_zip.loc[df_zip['zip'] == zip_code]['population'])\n",
    "# To extract the first 3 digits of a zip_code you will find this code useful:\n",
    "#   int(str(zip_code)[:3])\n",
    "#\n",
    "# Note: this code may take some time (many seconds, up to a minute or two) to run\n",
    "\n",
    "# YOUR CODE HERE\n",
    "zip_dict = {}\n",
    "for zip_code in df_zip.zip:\n",
    "    population = list(df_zip.loc[df_zip.zip == zip_code]['population'])\n",
    "    extract = int(str(zip_code)[:3])\n",
    "    zip_dict.setdefault(zip_code, 0)\n",
    "    zip_dict[extract] = zip_dict[zip_code] + population[0]"
   ]
  },
  {
   "cell_type": "code",
   "execution_count": null,
   "metadata": {
    "deletable": false,
    "editable": false,
    "nbgrader": {
     "checksum": "2bd97a39d94617052c6bb3cc8c5bd497",
     "grade": true,
     "grade_id": "2e-tests",
     "locked": true,
     "points": 1.25,
     "schema_version": 1,
     "solution": false
    }
   },
   "outputs": [],
   "source": [
    "assert isinstance(zip_dict, dict)\n",
    "assert zip_dict[100] == 1502501\n"
   ]
  },
  {
   "cell_type": "code",
   "execution_count": null,
   "metadata": {
    "deletable": false,
    "editable": false,
    "nbgrader": {
     "checksum": "4dcaab99a0cd491db53cc2842f3d750f",
     "grade": false,
     "grade_id": "2f",
     "locked": true,
     "schema_version": 1,
     "solution": false
    }
   },
   "outputs": [],
   "source": [
    "# 3f) Explain this code excerpt \n",
    "# Note: you do not have to use this line of code at this point in the assignmnet.\n",
    "#  It is one of the lines provided to you in 2e. Here, just write a quick comment on what it does. \n",
    "\n",
    "# In the cell below, explain in words what what the following line of code is doing:\n",
    "population = list(df_zip.loc[df_zip['zip'] == zip_code]['population'])"
   ]
  },
  {
   "cell_type": "markdown",
   "metadata": {
    "collapsed": true,
    "deletable": false,
    "nbgrader": {
     "checksum": "cc98e43035f0175d3f82fe6a94dc5f58",
     "grade": true,
     "grade_id": "2f-write",
     "locked": false,
     "points": 0,
     "schema_version": 1,
     "solution": true
    }
   },
   "source": [
    "It creates a list of the zipcodes from df_zip that will be used as the population in order to extract the 3 first digits. "
   ]
  },
  {
   "cell_type": "code",
   "execution_count": null,
   "metadata": {
    "deletable": false,
    "nbgrader": {
     "checksum": "621d2ead4f68903eaa2ddadbf4f64459",
     "grade": false,
     "grade_id": "2g",
     "locked": false,
     "schema_version": 1,
     "solution": true
    }
   },
   "outputs": [],
   "source": [
    "# 3g) Masking the Zip Codes \n",
    "\n",
    "# In this part, you should write a for loop, updating the df_users dataframe.\n",
    "# Go through each user, and update their zip-code, to Safe Harbour specifications:\n",
    "#   If the user is from a zip code for the which the\n",
    "#     \"Geographic Subdivision\" is less than equal to 20000:\n",
    "#        - Change the zip code to 0 \n",
    "#   Otherwise:\n",
    "#         - Change the zip code to be only the first 3 numbers of the full zip cide\n",
    "# Do all this re-writting the zip_code columns of the 'df_users' DataFrame\n",
    "#\n",
    "# Hints:\n",
    "#  - This will be several lines of code, looping through the DataFrame, \n",
    "#      getting each zip code, checking the geographic subdivision with \n",
    "#      the population in zip_dict, and settig the zip_code accordingly. \n",
    "\n",
    "# YOUR CODE HERE\n",
    "for index, code in df_users.iterrows():\n",
    "    zip_code = str(code.zip)\n",
    "    zip_code = int(code[:3])\n",
    "if zip_dict[zip_code] < 20000:\n",
    "    df_users.zip = df_users.zip.replace(code.zip,0)\n",
    "else: df_users.zip = df_users.zip.replace(code.zip, zip_code)"
   ]
  },
  {
   "cell_type": "code",
   "execution_count": null,
   "metadata": {
    "deletable": false,
    "editable": false,
    "nbgrader": {
     "checksum": "96ef0f83802b7b170238228b68be36e1",
     "grade": true,
     "grade_id": "2g-tests",
     "locked": true,
     "points": 1.25,
     "schema_version": 1,
     "solution": false
    }
   },
   "outputs": [],
   "source": [
    "assert len(df_users) == 993\n",
    "assert sum(df_users.zip == 0) == 7\n",
    "assert df_users.loc[671, 'zip'] == 359\n"
   ]
  },
  {
   "cell_type": "code",
   "execution_count": null,
   "metadata": {
    "deletable": false,
    "nbgrader": {
     "checksum": "a0313df0a86a0d1c0f762fadfa8fc80d",
     "grade": false,
     "grade_id": "2h",
     "locked": false,
     "schema_version": 1,
     "solution": true
    }
   },
   "outputs": [],
   "source": [
    "# 3h) Save out the properly anonymized data to json file \n",
    "\n",
    "# Save out df_users as a json file, called 'real_anon_user_dat.json'\n",
    "\n",
    "# YOUR CODE HERE\n",
    "df_users = pd.read_json('real_anon_user_dat.json', lines=True)"
   ]
  },
  {
   "cell_type": "code",
   "execution_count": null,
   "metadata": {
    "deletable": false,
    "editable": false,
    "nbgrader": {
     "checksum": "5f1b809a9d61919bc0dd68fda1aedc1b",
     "grade": true,
     "grade_id": "2h-tests",
     "locked": true,
     "points": 0.5,
     "schema_version": 1,
     "solution": false
    }
   },
   "outputs": [],
   "source": [
    "assert isinstance(pd.read_json('real_anon_user_dat.json'), pd.DataFrame)"
   ]
  },
  {
   "cell_type": "markdown",
   "metadata": {
    "deletable": false,
    "editable": false,
    "nbgrader": {
     "checksum": "d2d93ad8046edf965c498ec0bf27f765",
     "grade": false,
     "grade_id": "finish",
     "locked": true,
     "schema_version": 1,
     "solution": false
    }
   },
   "source": [
    "Congrats, you're done! The users identities are much more protected now. \n",
    "\n",
    "Submit this notebook file to TritonED."
   ]
  },
  {
   "cell_type": "code",
   "execution_count": null,
   "metadata": {
    "collapsed": true
   },
   "outputs": [],
   "source": []
  },
  {
   "cell_type": "code",
   "execution_count": null,
   "metadata": {
    "collapsed": true
   },
   "outputs": [],
   "source": []
  },
  {
   "cell_type": "code",
   "execution_count": null,
   "metadata": {
    "collapsed": true
   },
   "outputs": [],
   "source": []
  }
 ],
 "metadata": {
  "kernelspec": {
   "display_name": "Python 3",
   "language": "python",
   "name": "python3"
  },
  "language_info": {
   "codemirror_mode": {
    "name": "ipython",
    "version": 3
   },
   "file_extension": ".py",
   "mimetype": "text/x-python",
   "name": "python",
   "nbconvert_exporter": "python",
   "pygments_lexer": "ipython3",
   "version": "3.6.3"
  }
 },
 "nbformat": 4,
 "nbformat_minor": 2
}
